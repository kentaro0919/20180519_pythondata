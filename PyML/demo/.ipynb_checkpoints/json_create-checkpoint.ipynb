{
 "cells": [
  {
   "cell_type": "code",
   "execution_count": 1,
   "metadata": {
    "collapsed": true
   },
   "outputs": [],
   "source": [
    "import numpy as np\n",
    "import pandas as pd\n",
    "import json"
   ]
  },
  {
   "cell_type": "code",
   "execution_count": 32,
   "metadata": {},
   "outputs": [],
   "source": [
    "df = pd.read_csv('02_CarPrice_predict.csv',encoding='shift_jis')"
   ]
  },
  {
   "cell_type": "code",
   "execution_count": 33,
   "metadata": {},
   "outputs": [
    {
     "data": {
      "text/html": [
       "<div>\n",
       "<style>\n",
       "    .dataframe thead tr:only-child th {\n",
       "        text-align: right;\n",
       "    }\n",
       "\n",
       "    .dataframe thead th {\n",
       "        text-align: left;\n",
       "    }\n",
       "\n",
       "    .dataframe tbody tr th {\n",
       "        vertical-align: top;\n",
       "    }\n",
       "</style>\n",
       "<table border=\"1\" class=\"dataframe\">\n",
       "  <thead>\n",
       "    <tr style=\"text-align: right;\">\n",
       "      <th></th>\n",
       "      <th>メーカー</th>\n",
       "      <th>使用燃料</th>\n",
       "      <th>駆動方式</th>\n",
       "      <th>エンジン位置</th>\n",
       "      <th>ドア数</th>\n",
       "      <th>ホイールベース</th>\n",
       "      <th>車両全長</th>\n",
       "      <th>車両全幅</th>\n",
       "      <th>車両全高</th>\n",
       "      <th>車両重量</th>\n",
       "      <th>エンジン気筒数</th>\n",
       "      <th>エンジンサイズ</th>\n",
       "      <th>エンジン内径</th>\n",
       "      <th>エンジン行程</th>\n",
       "      <th>エンジン圧縮比</th>\n",
       "      <th>エンジン最高出力</th>\n",
       "      <th>エンジン回転数</th>\n",
       "      <th>都市部走行燃費</th>\n",
       "      <th>高速道路走行燃費</th>\n",
       "    </tr>\n",
       "  </thead>\n",
       "  <tbody>\n",
       "    <tr>\n",
       "      <th>0</th>\n",
       "      <td>honda</td>\n",
       "      <td>ガソリン</td>\n",
       "      <td>前輪駆動</td>\n",
       "      <td>フロント</td>\n",
       "      <td>4</td>\n",
       "      <td>96.5</td>\n",
       "      <td>175.4</td>\n",
       "      <td>62.5</td>\n",
       "      <td>54.1</td>\n",
       "      <td>2372</td>\n",
       "      <td>4</td>\n",
       "      <td>110</td>\n",
       "      <td>3.15</td>\n",
       "      <td>3.58</td>\n",
       "      <td>9</td>\n",
       "      <td>86</td>\n",
       "      <td>5800</td>\n",
       "      <td>27</td>\n",
       "      <td>33</td>\n",
       "    </tr>\n",
       "  </tbody>\n",
       "</table>\n",
       "</div>"
      ],
      "text/plain": [
       "    メーカー  使用燃料  駆動方式 エンジン位置  ドア数  ホイールベース   車両全長  車両全幅  車両全高  車両重量  エンジン気筒数  \\\n",
       "0  honda  ガソリン  前輪駆動   フロント    4     96.5  175.4  62.5  54.1  2372        4   \n",
       "\n",
       "   エンジンサイズ  エンジン内径  エンジン行程  エンジン圧縮比  エンジン最高出力  エンジン回転数  都市部走行燃費  高速道路走行燃費  \n",
       "0      110    3.15    3.58        9        86     5800       27        33  "
      ]
     },
     "execution_count": 33,
     "metadata": {},
     "output_type": "execute_result"
    }
   ],
   "source": [
    "df.head()"
   ]
  },
  {
   "cell_type": "code",
   "execution_count": 44,
   "metadata": {
    "collapsed": true
   },
   "outputs": [],
   "source": [
    "j = df.to_json(force_ascii=False)"
   ]
  },
  {
   "cell_type": "code",
   "execution_count": 45,
   "metadata": {},
   "outputs": [
    {
     "data": {
      "text/plain": [
       "'{\"メーカー\":{\"0\":\"honda\"},\"使用燃料\":{\"0\":\"ガソリン\"},\"駆動方式\":{\"0\":\"前輪駆動\"},\"エンジン位置\":{\"0\":\"フロント\"},\"ドア数\":{\"0\":4},\"ホイールベース\":{\"0\":96.5},\"車両全長\":{\"0\":175.4},\"車両全幅\":{\"0\":62.5},\"車両全高\":{\"0\":54.1},\"車両重量\":{\"0\":2372},\"エンジン気筒数\":{\"0\":4},\"エンジンサイズ\":{\"0\":110},\"エンジン内径\":{\"0\":3.15},\"エンジン行程\":{\"0\":3.58},\"エンジン圧縮比\":{\"0\":9},\"エンジン最高出力\":{\"0\":86},\"エンジン回転数\":{\"0\":5800},\"都市部走行燃費\":{\"0\":27},\"高速道路走行燃費\":{\"0\":33}}'"
      ]
     },
     "execution_count": 45,
     "metadata": {},
     "output_type": "execute_result"
    }
   ],
   "source": [
    "j"
   ]
  },
  {
   "cell_type": "code",
   "execution_count": 46,
   "metadata": {
    "collapsed": true
   },
   "outputs": [],
   "source": [
    "f = open('cat_json.json','w')"
   ]
  },
  {
   "cell_type": "code",
   "execution_count": 47,
   "metadata": {},
   "outputs": [
    {
     "data": {
      "text/plain": [
       "368"
      ]
     },
     "execution_count": 47,
     "metadata": {},
     "output_type": "execute_result"
    }
   ],
   "source": [
    "f.write(j)"
   ]
  },
  {
   "cell_type": "code",
   "execution_count": 48,
   "metadata": {
    "collapsed": true
   },
   "outputs": [],
   "source": [
    "f.close()"
   ]
  },
  {
   "cell_type": "code",
   "execution_count": null,
   "metadata": {
    "collapsed": true
   },
   "outputs": [],
   "source": []
  }
 ],
 "metadata": {
  "kernelspec": {
   "display_name": "Python 3",
   "language": "python",
   "name": "python3"
  },
  "language_info": {
   "codemirror_mode": {
    "name": "ipython",
    "version": 3
   },
   "file_extension": ".py",
   "mimetype": "text/x-python",
   "name": "python",
   "nbconvert_exporter": "python",
   "pygments_lexer": "ipython3",
   "version": "3.6.1"
  }
 },
 "nbformat": 4,
 "nbformat_minor": 2
}
