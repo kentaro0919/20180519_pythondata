{
 "cells": [
  {
   "cell_type": "markdown",
   "metadata": {},
   "source": [
    "# 実習2　回帰"
   ]
  },
  {
   "cell_type": "markdown",
   "metadata": {},
   "source": [
    "## 実習概要"
   ]
  },
  {
   "cell_type": "markdown",
   "metadata": {},
   "source": [
    "scikit-learnライブラリを使用して、以下の操作を習得します。"
   ]
  },
  {
   "cell_type": "markdown",
   "metadata": {},
   "source": [
    "- 線形回帰\n",
    "- 線形回帰（Lasso）\n",
    "- 線形回帰（Ridge)\n",
    "- ランダムフォレスト回帰"
   ]
  },
  {
   "cell_type": "markdown",
   "metadata": {},
   "source": [
    "※セルは適宜追加してください。"
   ]
  },
  {
   "cell_type": "markdown",
   "metadata": {},
   "source": [
    "## データ概要"
   ]
  },
  {
   "cell_type": "markdown",
   "metadata": {},
   "source": [
    "- 電力消費量.csv"
   ]
  },
  {
   "cell_type": "markdown",
   "metadata": {},
   "source": [
    "    C:\\PyML\\exercise\\2.Regression\\電力消費量"
   ]
  },
  {
   "cell_type": "markdown",
   "metadata": {},
   "source": [
    "    あなたは、スマートハウスにおいて、電力関連のサービスの企画を行う部署のメンバーです。スマートハウスの各部屋に設置された電力センサーから得られたデータを元に、以後１ヶ月の家電電力使用量、および、電灯電力使用量の予測値をパネルに表示させるサービスを作成しています。これにより、省エネ活動の見える化ができると考えています。"
   ]
  },
  {
   "cell_type": "markdown",
   "metadata": {},
   "source": [
    "|列名|意味|\n",
    "|:--|:--|\n",
    "|家電使用量|スマートハウス内の、センシング以後１ヶ月の全家電電力使用総量。|\n",
    "|電灯使用量|スマートハウス内の、センシング以後１ヶ月の電灯のみの電力使用総量。|\n",
    "|各種温度、湿度情報|スマートハウス内の、各部屋でセンシングされた、直近の温度･湿度データ。|\n",
    "|気圧、風速、視程、露点温度|スマートハウス建設地域の環境情報|\n",
    "|乱数1、乱数2|無関係なデータ。|"
   ]
  },
  {
   "cell_type": "markdown",
   "metadata": {},
   "source": [
    "## 事前準備"
   ]
  },
  {
   "cell_type": "markdown",
   "metadata": {},
   "source": [
    "### ライブラリのインポート"
   ]
  },
  {
   "cell_type": "markdown",
   "metadata": {},
   "source": [
    "※必要であれば、ライブラリを追加インポートしてください"
   ]
  },
  {
   "cell_type": "code",
   "execution_count": 1,
   "metadata": {
    "collapsed": true
   },
   "outputs": [],
   "source": [
    "import numpy as np\n",
    "import pandas as pd\n",
    "from sklearn.linear_model import LinearRegression, Lasso, Ridge\n",
    "from sklearn.ensemble import RandomForestRegressor\n",
    "from sklearn.model_selection import train_test_split\n",
    "from sklearn.metrics import mean_squared_error"
   ]
  },
  {
   "cell_type": "markdown",
   "metadata": {},
   "source": [
    "### ファイルの読み込み"
   ]
  },
  {
   "cell_type": "code",
   "execution_count": 2,
   "metadata": {
    "collapsed": true
   },
   "outputs": [],
   "source": [
    "df = pd.read_csv('電力消費量.csv',encoding='shift_jis',engine='python')"
   ]
  },
  {
   "cell_type": "code",
   "execution_count": 3,
   "metadata": {},
   "outputs": [
    {
     "data": {
      "text/html": [
       "<div>\n",
       "<style>\n",
       "    .dataframe thead tr:only-child th {\n",
       "        text-align: right;\n",
       "    }\n",
       "\n",
       "    .dataframe thead th {\n",
       "        text-align: left;\n",
       "    }\n",
       "\n",
       "    .dataframe tbody tr th {\n",
       "        vertical-align: top;\n",
       "    }\n",
       "</style>\n",
       "<table border=\"1\" class=\"dataframe\">\n",
       "  <thead>\n",
       "    <tr style=\"text-align: right;\">\n",
       "      <th></th>\n",
       "      <th>日時</th>\n",
       "      <th>家電使用量</th>\n",
       "      <th>電灯使用量</th>\n",
       "      <th>温度_キッチン</th>\n",
       "      <th>湿度_キッチン</th>\n",
       "      <th>温度_居間</th>\n",
       "      <th>湿度_居間</th>\n",
       "      <th>温度_洗濯室</th>\n",
       "      <th>湿度_洗濯室</th>\n",
       "      <th>温度_執務室</th>\n",
       "      <th>...</th>\n",
       "      <th>温度_親部屋</th>\n",
       "      <th>湿度_親部屋</th>\n",
       "      <th>温度_外気</th>\n",
       "      <th>気圧</th>\n",
       "      <th>湿度_外気</th>\n",
       "      <th>風速</th>\n",
       "      <th>視程</th>\n",
       "      <th>露点温度</th>\n",
       "      <th>乱数1</th>\n",
       "      <th>乱数2</th>\n",
       "    </tr>\n",
       "  </thead>\n",
       "  <tbody>\n",
       "    <tr>\n",
       "      <th>0</th>\n",
       "      <td>2016/1/11 17:00</td>\n",
       "      <td>60</td>\n",
       "      <td>30</td>\n",
       "      <td>19.89</td>\n",
       "      <td>47.596667</td>\n",
       "      <td>19.2</td>\n",
       "      <td>44.790000</td>\n",
       "      <td>19.79</td>\n",
       "      <td>44.730000</td>\n",
       "      <td>19.000000</td>\n",
       "      <td>...</td>\n",
       "      <td>17.033333</td>\n",
       "      <td>45.53</td>\n",
       "      <td>6.60</td>\n",
       "      <td>733.5</td>\n",
       "      <td>92.0</td>\n",
       "      <td>7.000000</td>\n",
       "      <td>63.000000</td>\n",
       "      <td>5.3</td>\n",
       "      <td>13.275433</td>\n",
       "      <td>13.275433</td>\n",
       "    </tr>\n",
       "    <tr>\n",
       "      <th>1</th>\n",
       "      <td>2016/1/11 17:10</td>\n",
       "      <td>60</td>\n",
       "      <td>30</td>\n",
       "      <td>19.89</td>\n",
       "      <td>46.693333</td>\n",
       "      <td>19.2</td>\n",
       "      <td>44.722500</td>\n",
       "      <td>19.79</td>\n",
       "      <td>44.790000</td>\n",
       "      <td>19.000000</td>\n",
       "      <td>...</td>\n",
       "      <td>17.066667</td>\n",
       "      <td>45.56</td>\n",
       "      <td>6.48</td>\n",
       "      <td>733.6</td>\n",
       "      <td>92.0</td>\n",
       "      <td>6.666667</td>\n",
       "      <td>59.166667</td>\n",
       "      <td>5.2</td>\n",
       "      <td>18.606195</td>\n",
       "      <td>18.606195</td>\n",
       "    </tr>\n",
       "    <tr>\n",
       "      <th>2</th>\n",
       "      <td>2016/1/11 17:20</td>\n",
       "      <td>50</td>\n",
       "      <td>30</td>\n",
       "      <td>19.89</td>\n",
       "      <td>46.300000</td>\n",
       "      <td>19.2</td>\n",
       "      <td>44.626667</td>\n",
       "      <td>19.79</td>\n",
       "      <td>44.933333</td>\n",
       "      <td>18.926667</td>\n",
       "      <td>...</td>\n",
       "      <td>17.000000</td>\n",
       "      <td>45.50</td>\n",
       "      <td>6.37</td>\n",
       "      <td>733.7</td>\n",
       "      <td>92.0</td>\n",
       "      <td>6.333333</td>\n",
       "      <td>55.333333</td>\n",
       "      <td>5.1</td>\n",
       "      <td>28.642668</td>\n",
       "      <td>28.642668</td>\n",
       "    </tr>\n",
       "  </tbody>\n",
       "</table>\n",
       "<p>3 rows × 29 columns</p>\n",
       "</div>"
      ],
      "text/plain": [
       "                日時  家電使用量  電灯使用量  温度_キッチン    湿度_キッチン  温度_居間      湿度_居間  \\\n",
       "0  2016/1/11 17:00     60     30    19.89  47.596667   19.2  44.790000   \n",
       "1  2016/1/11 17:10     60     30    19.89  46.693333   19.2  44.722500   \n",
       "2  2016/1/11 17:20     50     30    19.89  46.300000   19.2  44.626667   \n",
       "\n",
       "   温度_洗濯室     湿度_洗濯室     温度_執務室    ...         温度_親部屋  湿度_親部屋  温度_外気     気圧  \\\n",
       "0   19.79  44.730000  19.000000    ...      17.033333   45.53   6.60  733.5   \n",
       "1   19.79  44.790000  19.000000    ...      17.066667   45.56   6.48  733.6   \n",
       "2   19.79  44.933333  18.926667    ...      17.000000   45.50   6.37  733.7   \n",
       "\n",
       "   湿度_外気        風速         視程  露点温度        乱数1        乱数2  \n",
       "0   92.0  7.000000  63.000000   5.3  13.275433  13.275433  \n",
       "1   92.0  6.666667  59.166667   5.2  18.606195  18.606195  \n",
       "2   92.0  6.333333  55.333333   5.1  28.642668  28.642668  \n",
       "\n",
       "[3 rows x 29 columns]"
      ]
     },
     "execution_count": 3,
     "metadata": {},
     "output_type": "execute_result"
    }
   ],
   "source": [
    "df.head(3)"
   ]
  },
  {
   "cell_type": "markdown",
   "metadata": {},
   "source": [
    "## データ加工"
   ]
  },
  {
   "cell_type": "markdown",
   "metadata": {},
   "source": [
    "### 目的変数と特徴変数の抽出"
   ]
  },
  {
   "cell_type": "code",
   "execution_count": 4,
   "metadata": {
    "collapsed": true
   },
   "outputs": [],
   "source": [
    "X = df.iloc[:, 3:].values\n",
    "y1 = df[['家電使用量']].values\n",
    "y2 = df[['電灯使用量']].values"
   ]
  },
  {
   "cell_type": "markdown",
   "metadata": {},
   "source": [
    "### ホールドアウト法で分割"
   ]
  },
  {
   "cell_type": "code",
   "execution_count": 5,
   "metadata": {
    "collapsed": true
   },
   "outputs": [],
   "source": [
    "X_train , X_test , y_train , y_test = train_test_split(X, y2, test_size = 0.5)"
   ]
  },
  {
   "cell_type": "markdown",
   "metadata": {},
   "source": [
    "## 学習、評価"
   ]
  },
  {
   "cell_type": "markdown",
   "metadata": {},
   "source": [
    "以下の手法を使用して予測モデルを作成し、評価してください。"
   ]
  },
  {
   "cell_type": "markdown",
   "metadata": {},
   "source": [
    "- 線形回帰（正則化なし）\n",
    "- 線形回帰（Lasso ※alpha=10以上）\n",
    "- 線形回帰（Ridge ※alpha=10以上）\n",
    "- ランダムフォレスト回帰"
   ]
  },
  {
   "cell_type": "markdown",
   "metadata": {},
   "source": [
    "## 学習"
   ]
  },
  {
   "cell_type": "markdown",
   "metadata": {},
   "source": [
    "### 線形回帰（正則化なし）"
   ]
  },
  {
   "cell_type": "code",
   "execution_count": 6,
   "metadata": {
    "collapsed": true
   },
   "outputs": [],
   "source": [
    "reg_lr = LinearRegression()"
   ]
  },
  {
   "cell_type": "code",
   "execution_count": 7,
   "metadata": {},
   "outputs": [
    {
     "data": {
      "text/plain": [
       "LinearRegression(copy_X=True, fit_intercept=True, n_jobs=1, normalize=False)"
      ]
     },
     "execution_count": 7,
     "metadata": {},
     "output_type": "execute_result"
    }
   ],
   "source": [
    "reg_lr.fit(X = X_train, y = y_train)"
   ]
  },
  {
   "cell_type": "code",
   "execution_count": 8,
   "metadata": {},
   "outputs": [
    {
     "data": {
      "text/plain": [
       "array([[  5.10193207e-01,   4.30527522e-01,  -1.37351387e+00,\n",
       "         -4.52511155e-01,   4.12556845e-02,   9.00606573e-02,\n",
       "          3.23385176e+00,   1.16324066e+00,  -1.02174214e-01,\n",
       "          4.11007697e-02,   3.35461236e-01,   3.13103958e-02,\n",
       "         -1.04575221e-01,  -1.83722145e-01,   9.67374819e-01,\n",
       "         -6.09163319e-01,  -3.13193315e+00,  -3.40569799e-01,\n",
       "         -2.53191105e-01,   4.01900654e-03,   7.62934821e-02,\n",
       "          1.91093073e-01,   1.83296233e-02,  -4.56179510e-02,\n",
       "          5.28993921e+11,  -5.28993921e+11]])"
      ]
     },
     "execution_count": 8,
     "metadata": {},
     "output_type": "execute_result"
    }
   ],
   "source": [
    "reg_lr.coef_"
   ]
  },
  {
   "cell_type": "markdown",
   "metadata": {},
   "source": [
    "### LASSO回帰（L1正則化）"
   ]
  },
  {
   "cell_type": "code",
   "execution_count": 9,
   "metadata": {
    "collapsed": true
   },
   "outputs": [],
   "source": [
    "reg_l1 = Lasso(alpha = 10)"
   ]
  },
  {
   "cell_type": "code",
   "execution_count": 10,
   "metadata": {},
   "outputs": [
    {
     "data": {
      "text/plain": [
       "Lasso(alpha=10, copy_X=True, fit_intercept=True, max_iter=1000,\n",
       "   normalize=False, positive=False, precompute=False, random_state=None,\n",
       "   selection='cyclic', tol=0.0001, warm_start=False)"
      ]
     },
     "execution_count": 10,
     "metadata": {},
     "output_type": "execute_result"
    }
   ],
   "source": [
    "reg_l1.fit(X = X_train, y = y_train)"
   ]
  },
  {
   "cell_type": "code",
   "execution_count": 11,
   "metadata": {},
   "outputs": [
    {
     "data": {
      "text/plain": [
       "array([ 0.        ,  0.        ,  0.        ,  0.        , -0.        ,\n",
       "        0.        ,  0.        ,  0.        , -0.        ,  0.        ,\n",
       "       -0.        ,  0.02604406, -0.        , -0.        ,  0.        ,\n",
       "       -0.        , -0.        , -0.        , -0.        ,  0.        ,\n",
       "       -0.        ,  0.        ,  0.        , -0.        ,  0.        ,  0.        ])"
      ]
     },
     "execution_count": 11,
     "metadata": {},
     "output_type": "execute_result"
    }
   ],
   "source": [
    "reg_l1.coef_"
   ]
  },
  {
   "cell_type": "markdown",
   "metadata": {},
   "source": [
    "### リッジ回帰（L2正則化）"
   ]
  },
  {
   "cell_type": "code",
   "execution_count": 12,
   "metadata": {
    "collapsed": true
   },
   "outputs": [],
   "source": [
    "reg_l2 = Ridge(alpha = 10)"
   ]
  },
  {
   "cell_type": "code",
   "execution_count": 13,
   "metadata": {},
   "outputs": [
    {
     "data": {
      "text/plain": [
       "Ridge(alpha=10, copy_X=True, fit_intercept=True, max_iter=None,\n",
       "   normalize=False, random_state=None, solver='auto', tol=0.001)"
      ]
     },
     "execution_count": 13,
     "metadata": {},
     "output_type": "execute_result"
    }
   ],
   "source": [
    "reg_l2.fit(X = X_train, y = y_train)"
   ]
  },
  {
   "cell_type": "code",
   "execution_count": 14,
   "metadata": {},
   "outputs": [
    {
     "data": {
      "text/plain": [
       "array([[  5.07439184e-01,   4.28461933e-01,  -1.36100559e+00,\n",
       "         -4.48164699e-01,   3.91240947e-02,   9.13829464e-02,\n",
       "          3.22325258e+00,   1.15969331e+00,  -1.06450670e-01,\n",
       "          4.13641040e-02,   3.32469955e-01,   3.13796339e-02,\n",
       "         -1.10318972e-01,  -1.82869113e-01,   9.64496023e-01,\n",
       "         -6.09177246e-01,  -3.11231132e+00,  -3.41162692e-01,\n",
       "         -2.49812061e-01,   4.29843896e-03,   7.62308044e-02,\n",
       "          1.91343349e-01,   1.83044247e-02,  -4.72035802e-02,\n",
       "         -4.19581661e-04,  -4.19581660e-04]])"
      ]
     },
     "execution_count": 14,
     "metadata": {},
     "output_type": "execute_result"
    }
   ],
   "source": [
    "reg_l2.coef_"
   ]
  },
  {
   "cell_type": "markdown",
   "metadata": {},
   "source": [
    "### ランダムフォレスト回帰"
   ]
  },
  {
   "cell_type": "code",
   "execution_count": 15,
   "metadata": {
    "collapsed": true
   },
   "outputs": [],
   "source": [
    "reg_rf = RandomForestRegressor(n_estimators=1000, n_jobs=-1, random_state=1)"
   ]
  },
  {
   "cell_type": "code",
   "execution_count": 16,
   "metadata": {},
   "outputs": [
    {
     "data": {
      "text/plain": [
       "RandomForestRegressor(bootstrap=True, criterion='mse', max_depth=None,\n",
       "           max_features='auto', max_leaf_nodes=None,\n",
       "           min_impurity_split=1e-07, min_samples_leaf=1,\n",
       "           min_samples_split=2, min_weight_fraction_leaf=0.0,\n",
       "           n_estimators=1000, n_jobs=-1, oob_score=False, random_state=1,\n",
       "           verbose=0, warm_start=False)"
      ]
     },
     "execution_count": 16,
     "metadata": {},
     "output_type": "execute_result"
    }
   ],
   "source": [
    "reg_rf.fit(X = X_train, y = y_train.ravel())"
   ]
  },
  {
   "cell_type": "markdown",
   "metadata": {
    "collapsed": true
   },
   "source": [
    "## 評価"
   ]
  },
  {
   "cell_type": "markdown",
   "metadata": {},
   "source": [
    "### 評価用の関数"
   ]
  },
  {
   "cell_type": "code",
   "execution_count": 17,
   "metadata": {
    "collapsed": true
   },
   "outputs": [],
   "source": [
    "def eval(method):\n",
    "    train_pred = method.predict(X_train)\n",
    "    train_mse = mean_squared_error(y_true = y_train, y_pred = train_pred)\n",
    "    test_pred = method.predict(X_test)\n",
    "    test_mse = mean_squared_error(y_true=y_test, y_pred = test_pred)\n",
    "    print('学習用データ:', np.sqrt(train_mse))\n",
    "    print('テスト用データ:', np.sqrt(test_mse))"
   ]
  },
  {
   "cell_type": "markdown",
   "metadata": {},
   "source": [
    "### 線形回帰（正則化なし）"
   ]
  },
  {
   "cell_type": "code",
   "execution_count": 18,
   "metadata": {},
   "outputs": [
    {
     "name": "stdout",
     "output_type": "stream",
     "text": [
      "学習用データ: 6.96959778792\n",
      "テスト用データ: 7.04399596997\n"
     ]
    }
   ],
   "source": [
    "eval(reg_lr)"
   ]
  },
  {
   "cell_type": "markdown",
   "metadata": {},
   "source": [
    "### LASSO回帰（L1正則化）"
   ]
  },
  {
   "cell_type": "code",
   "execution_count": 19,
   "metadata": {},
   "outputs": [
    {
     "name": "stdout",
     "output_type": "stream",
     "text": [
      "学習用データ: 7.80921696697\n",
      "テスト用データ: 7.89495181953\n"
     ]
    }
   ],
   "source": [
    "eval(reg_l1)"
   ]
  },
  {
   "cell_type": "markdown",
   "metadata": {},
   "source": [
    "### リッジ回帰（L2正則化）"
   ]
  },
  {
   "cell_type": "code",
   "execution_count": 20,
   "metadata": {},
   "outputs": [
    {
     "name": "stdout",
     "output_type": "stream",
     "text": [
      "学習用データ: 6.96956271933\n",
      "テスト用データ: 7.04385352406\n"
     ]
    }
   ],
   "source": [
    "eval(reg_l2)"
   ]
  },
  {
   "cell_type": "markdown",
   "metadata": {},
   "source": [
    "### ランダムフォレスト回帰"
   ]
  },
  {
   "cell_type": "code",
   "execution_count": 21,
   "metadata": {},
   "outputs": [
    {
     "name": "stdout",
     "output_type": "stream",
     "text": [
      "学習用データ: 1.8053671208\n",
      "テスト用データ: 4.83332407012\n"
     ]
    }
   ],
   "source": [
    "eval(reg_rf)"
   ]
  }
 ],
 "metadata": {
  "anaconda-cloud": {},
  "kernelspec": {
   "display_name": "Python 3",
   "language": "python",
   "name": "python3"
  },
  "language_info": {
   "codemirror_mode": {
    "name": "ipython",
    "version": 3
   },
   "file_extension": ".py",
   "mimetype": "text/x-python",
   "name": "python",
   "nbconvert_exporter": "python",
   "pygments_lexer": "ipython3",
   "version": "3.6.1"
  }
 },
 "nbformat": 4,
 "nbformat_minor": 1
}
