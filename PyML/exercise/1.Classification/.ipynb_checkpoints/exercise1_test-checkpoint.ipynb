{
 "cells": [
  {
   "cell_type": "markdown",
   "metadata": {},
   "source": [
    "## 事前準備"
   ]
  },
  {
   "cell_type": "markdown",
   "metadata": {},
   "source": [
    "### ライブラリのインポート"
   ]
  },
  {
   "cell_type": "code",
   "execution_count": 1,
   "metadata": {
    "collapsed": true
   },
   "outputs": [],
   "source": [
    "import numpy as np\n",
    "import pandas as pd\n",
    "from sklearn.cross_validation import train_test_split\n",
    "from sklearn.linear_model import LogisticRegression\n",
    "from sklearn.ensemble import RandomForestClassifier\n",
    "from sklearn.preprocessing import OneHotEncoder, StandardScaler\n",
    "from sklearn.decomposition import PCA"
   ]
  },
  {
   "cell_type": "markdown",
   "metadata": {},
   "source": [
    "### ファイルの読み込み"
   ]
  },
  {
   "cell_type": "code",
   "execution_count": 2,
   "metadata": {
    "collapsed": true
   },
   "outputs": [],
   "source": [
    "df = pd.read_csv('クレジットカード.csv',encoding='shift_jis')"
   ]
  },
  {
   "cell_type": "code",
   "execution_count": 3,
   "metadata": {
    "collapsed": false,
    "scrolled": true
   },
   "outputs": [],
   "source": [
    "#df.head(3)"
   ]
  },
  {
   "cell_type": "code",
   "execution_count": 4,
   "metadata": {
    "collapsed": false
   },
   "outputs": [],
   "source": [
    "#df.columns"
   ]
  },
  {
   "cell_type": "markdown",
   "metadata": {},
   "source": [
    "## データ加工"
   ]
  },
  {
   "cell_type": "markdown",
   "metadata": {},
   "source": [
    "### One-Hotエンコーディング"
   ]
  },
  {
   "cell_type": "markdown",
   "metadata": {},
   "source": [
    "#### 定性データをエンコーディング"
   ]
  },
  {
   "cell_type": "code",
   "execution_count": 5,
   "metadata": {
    "collapsed": false
   },
   "outputs": [],
   "source": [
    "df_dummy = pd.get_dummies(df[['性別', '最終学歴', '結婚', \n",
    "                   '支払状況_1ヵ月前', '支払状況_2ヵ月前', '支払状況_3ヵ月前', '支払状況_4ヵ月前', '支払状況_5ヵ月前', '支払状況_6ヵ月前']])"
   ]
  },
  {
   "cell_type": "code",
   "execution_count": 6,
   "metadata": {
    "collapsed": false
   },
   "outputs": [],
   "source": [
    "# df_dummy.head(3)"
   ]
  },
  {
   "cell_type": "markdown",
   "metadata": {},
   "source": [
    "#### 元のデータフレームとエンコーディングされたデータフレームを結合"
   ]
  },
  {
   "cell_type": "code",
   "execution_count": 7,
   "metadata": {
    "collapsed": true
   },
   "outputs": [],
   "source": [
    "df_merge = pd.concat([df_dummy, df.ix[:, 9:len(df.columns)]], axis=1)"
   ]
  },
  {
   "cell_type": "markdown",
   "metadata": {},
   "source": [
    "### 目的変数と特徴変数の抽出"
   ]
  },
  {
   "cell_type": "code",
   "execution_count": 8,
   "metadata": {
    "collapsed": true
   },
   "outputs": [],
   "source": [
    "#X = df.ix[:, 3:len(df.columns)-1].values\n",
    "X = df_merge.ix[:, 0:len(df_merge.columns)-1].values\n",
    "y = df_merge['債務不履行'].values"
   ]
  },
  {
   "cell_type": "markdown",
   "metadata": {},
   "source": [
    "### 標準化"
   ]
  },
  {
   "cell_type": "code",
   "execution_count": 9,
   "metadata": {
    "collapsed": true
   },
   "outputs": [],
   "source": [
    "stdsc = StandardScaler()"
   ]
  },
  {
   "cell_type": "code",
   "execution_count": 14,
   "metadata": {
    "collapsed": false
   },
   "outputs": [],
   "source": [
    "X_std = X.copy()"
   ]
  },
  {
   "cell_type": "code",
   "execution_count": 16,
   "metadata": {
    "collapsed": false
   },
   "outputs": [],
   "source": [
    "# 62～75列目を対象に標準化\n",
    "X_std[:, 61:X_std.shape[1]] = stdsc.fit_transform(X_std[:, 61:X_std.shape[1]])"
   ]
  },
  {
   "cell_type": "markdown",
   "metadata": {},
   "source": [
    "### 主成分分析"
   ]
  },
  {
   "cell_type": "markdown",
   "metadata": {},
   "source": [
    "#### 主成分の探索"
   ]
  },
  {
   "cell_type": "code",
   "execution_count": 18,
   "metadata": {
    "collapsed": false
   },
   "outputs": [],
   "source": [
    "num_components = np.arange(1, X_std.shape[1])\n",
    "cnt = 0\n",
    "list_pca = np.empty((0,2))"
   ]
  },
  {
   "cell_type": "code",
   "execution_count": 19,
   "metadata": {
    "collapsed": false
   },
   "outputs": [],
   "source": [
    "for i in num_components:\n",
    "    pca = PCA(n_components = i)\n",
    "    pca.fit(X_std)\n",
    "    list_pca = np.append(list_pca, np.array([[i, pca.explained_variance_ratio_.sum()]]), axis = 0)\n",
    "    cnt += 1"
   ]
  },
  {
   "cell_type": "code",
   "execution_count": 20,
   "metadata": {
    "collapsed": true
   },
   "outputs": [
    {
     "data": {
      "text/plain": [
       "array([[  1.        ,   0.34694262],\n",
       "       [  2.        ,   0.45040417],\n",
       "       [  3.        ,   0.52059838],\n",
       "       [  4.        ,   0.57670664],\n",
       "       [  5.        ,   0.62857322],\n",
       "       [  6.        ,   0.67979926],\n",
       "       [  7.        ,   0.72794831],\n",
       "       [  8.        ,   0.77350132],\n",
       "       [  9.        ,   0.81610173],\n",
       "       [ 10.        ,   0.849936  ],\n",
       "       [ 11.        ,   0.87877443],\n",
       "       [ 12.        ,   0.90124485],\n",
       "       [ 13.        ,   0.91874245],\n",
       "       [ 14.        ,   0.93397355],\n",
       "       [ 15.        ,   0.94643709],\n",
       "       [ 16.        ,   0.95682284],\n",
       "       [ 17.        ,   0.96446076],\n",
       "       [ 18.        ,   0.97012754],\n",
       "       [ 19.        ,   0.97516921],\n",
       "       [ 20.        ,   0.9793213 ],\n",
       "       [ 21.        ,   0.98329696],\n",
       "       [ 22.        ,   0.98624043],\n",
       "       [ 23.        ,   0.98864118],\n",
       "       [ 24.        ,   0.9901285 ],\n",
       "       [ 25.        ,   0.99158789],\n",
       "       [ 26.        ,   0.9929494 ],\n",
       "       [ 27.        ,   0.99410135],\n",
       "       [ 28.        ,   0.99503945],\n",
       "       [ 29.        ,   0.99592828],\n",
       "       [ 30.        ,   0.99666621],\n",
       "       [ 31.        ,   0.99726989],\n",
       "       [ 32.        ,   0.99772665],\n",
       "       [ 33.        ,   0.99810657],\n",
       "       [ 34.        ,   0.99846971],\n",
       "       [ 35.        ,   0.99873846],\n",
       "       [ 36.        ,   0.99892282],\n",
       "       [ 37.        ,   0.99908628],\n",
       "       [ 38.        ,   0.99922293],\n",
       "       [ 39.        ,   0.99934592],\n",
       "       [ 40.        ,   0.99944868],\n",
       "       [ 41.        ,   0.99952455],\n",
       "       [ 42.        ,   0.99958893],\n",
       "       [ 43.        ,   0.99963724],\n",
       "       [ 44.        ,   0.99968346],\n",
       "       [ 45.        ,   0.99972582],\n",
       "       [ 46.        ,   0.99976291],\n",
       "       [ 47.        ,   0.99979829],\n",
       "       [ 48.        ,   0.9998324 ],\n",
       "       [ 49.        ,   0.99986106],\n",
       "       [ 50.        ,   0.99988888],\n",
       "       [ 51.        ,   0.99990778],\n",
       "       [ 52.        ,   0.999922  ],\n",
       "       [ 53.        ,   0.99993358],\n",
       "       [ 54.        ,   0.99994411],\n",
       "       [ 55.        ,   0.99995379],\n",
       "       [ 56.        ,   0.99996289],\n",
       "       [ 57.        ,   0.99997132],\n",
       "       [ 58.        ,   0.99997813],\n",
       "       [ 59.        ,   0.99998372],\n",
       "       [ 60.        ,   0.99998696],\n",
       "       [ 61.        ,   0.99998994],\n",
       "       [ 62.        ,   0.99999271],\n",
       "       [ 63.        ,   0.99999481],\n",
       "       [ 64.        ,   0.99999651],\n",
       "       [ 65.        ,   0.99999798],\n",
       "       [ 66.        ,   0.99999907],\n",
       "       [ 67.        ,   0.99999977],\n",
       "       [ 68.        ,   1.        ],\n",
       "       [ 69.        ,   1.        ],\n",
       "       [ 70.        ,   1.        ],\n",
       "       [ 71.        ,   1.        ],\n",
       "       [ 72.        ,   1.        ],\n",
       "       [ 73.        ,   1.        ],\n",
       "       [ 74.        ,   1.        ]])"
      ]
     },
     "execution_count": 20,
     "metadata": {},
     "output_type": "execute_result"
    }
   ],
   "source": [
    "list_pca"
   ]
  },
  {
   "cell_type": "markdown",
   "metadata": {},
   "source": [
    "#### 主成分分析"
   ]
  },
  {
   "cell_type": "code",
   "execution_count": 21,
   "metadata": {
    "collapsed": true
   },
   "outputs": [],
   "source": [
    "pca = PCA(n_components=12)"
   ]
  },
  {
   "cell_type": "code",
   "execution_count": 22,
   "metadata": {
    "collapsed": false
   },
   "outputs": [
    {
     "data": {
      "text/plain": [
       "PCA(copy=True, n_components=12, whiten=False)"
      ]
     },
     "execution_count": 22,
     "metadata": {},
     "output_type": "execute_result"
    }
   ],
   "source": [
    "pca.fit(X_std)"
   ]
  },
  {
   "cell_type": "code",
   "execution_count": null,
   "metadata": {
    "collapsed": true
   },
   "outputs": [],
   "source": []
  },
  {
   "cell_type": "code",
   "execution_count": null,
   "metadata": {
    "collapsed": true
   },
   "outputs": [],
   "source": []
  },
  {
   "cell_type": "code",
   "execution_count": null,
   "metadata": {
    "collapsed": false
   },
   "outputs": [],
   "source": [
    "X_train , X_test , y_train , y_test = train_test_split(X, y, test_size = 0.5)"
   ]
  },
  {
   "cell_type": "markdown",
   "metadata": {},
   "source": [
    "## 学習"
   ]
  },
  {
   "cell_type": "markdown",
   "metadata": {},
   "source": [
    "### ロジスティクス回帰（正則化なし）"
   ]
  },
  {
   "cell_type": "code",
   "execution_count": null,
   "metadata": {
    "collapsed": true
   },
   "outputs": [],
   "source": [
    "clf_lr = LogisticRegression()"
   ]
  },
  {
   "cell_type": "code",
   "execution_count": null,
   "metadata": {
    "collapsed": false
   },
   "outputs": [],
   "source": [
    "clf_lr.fit(X = X_train, y = y_train)"
   ]
  },
  {
   "cell_type": "code",
   "execution_count": null,
   "metadata": {
    "collapsed": false
   },
   "outputs": [],
   "source": [
    "clf_lr.coef_"
   ]
  },
  {
   "cell_type": "markdown",
   "metadata": {},
   "source": [
    "### ロジスティクス回帰（L1正則化）"
   ]
  },
  {
   "cell_type": "code",
   "execution_count": null,
   "metadata": {
    "collapsed": true
   },
   "outputs": [],
   "source": [
    "clf_l1 = LogisticRegression(penalty='l1', C=0.0001)"
   ]
  },
  {
   "cell_type": "code",
   "execution_count": null,
   "metadata": {
    "collapsed": false
   },
   "outputs": [],
   "source": [
    "clf_l1.fit(X = X_train, y = y_train)"
   ]
  },
  {
   "cell_type": "code",
   "execution_count": null,
   "metadata": {
    "collapsed": false
   },
   "outputs": [],
   "source": [
    "clf_l1.coef_"
   ]
  },
  {
   "cell_type": "markdown",
   "metadata": {},
   "source": [
    "### ロジスティクス回帰（L2正則化）"
   ]
  },
  {
   "cell_type": "code",
   "execution_count": null,
   "metadata": {
    "collapsed": true
   },
   "outputs": [],
   "source": [
    "clf_l2 = LogisticRegression(penalty='l2', C=0.00001)"
   ]
  },
  {
   "cell_type": "code",
   "execution_count": null,
   "metadata": {
    "collapsed": false
   },
   "outputs": [],
   "source": [
    "clf_l2.fit(X = X_train, y = y_train)"
   ]
  },
  {
   "cell_type": "code",
   "execution_count": null,
   "metadata": {
    "collapsed": false
   },
   "outputs": [],
   "source": [
    "clf_l2.coef_"
   ]
  },
  {
   "cell_type": "markdown",
   "metadata": {},
   "source": [
    "### ランダムフォレスト"
   ]
  },
  {
   "cell_type": "code",
   "execution_count": null,
   "metadata": {
    "collapsed": false
   },
   "outputs": [],
   "source": [
    "clf_rf = RandomForestClassifier(n_estimators=10000, n_jobs=-1, random_state=1)"
   ]
  },
  {
   "cell_type": "code",
   "execution_count": null,
   "metadata": {
    "collapsed": false
   },
   "outputs": [],
   "source": [
    "clf_rf.fit(X = X_train, y = y_train)"
   ]
  },
  {
   "cell_type": "markdown",
   "metadata": {},
   "source": [
    "## 評価"
   ]
  },
  {
   "cell_type": "markdown",
   "metadata": {},
   "source": [
    "### 評価用の関数"
   ]
  },
  {
   "cell_type": "code",
   "execution_count": null,
   "metadata": {
    "collapsed": false
   },
   "outputs": [],
   "source": [
    "def eval(method):\n",
    "    print('学習用データ:', method.score(X=X_train, y=y_train))\n",
    "    print('テスト用データ:', method.score(X=X_test, y=y_test))"
   ]
  },
  {
   "cell_type": "markdown",
   "metadata": {},
   "source": [
    "### ロジスティクス回帰（正則化なし）"
   ]
  },
  {
   "cell_type": "code",
   "execution_count": null,
   "metadata": {
    "collapsed": false
   },
   "outputs": [],
   "source": [
    "eval(clf_lr)"
   ]
  },
  {
   "cell_type": "markdown",
   "metadata": {},
   "source": [
    "### ロジスティクス回帰（L1正則化）"
   ]
  },
  {
   "cell_type": "code",
   "execution_count": null,
   "metadata": {
    "collapsed": false
   },
   "outputs": [],
   "source": [
    "eval(clf_l1)"
   ]
  },
  {
   "cell_type": "markdown",
   "metadata": {},
   "source": [
    "### ロジスティクス回帰（L2正則化）"
   ]
  },
  {
   "cell_type": "code",
   "execution_count": null,
   "metadata": {
    "collapsed": false
   },
   "outputs": [],
   "source": [
    "eval(clf_l2)"
   ]
  },
  {
   "cell_type": "markdown",
   "metadata": {},
   "source": [
    "### ランダムフォレスト"
   ]
  },
  {
   "cell_type": "code",
   "execution_count": null,
   "metadata": {
    "collapsed": false
   },
   "outputs": [],
   "source": [
    "eval(clf_rf)"
   ]
  },
  {
   "cell_type": "code",
   "execution_count": null,
   "metadata": {
    "collapsed": true
   },
   "outputs": [],
   "source": []
  }
 ],
 "metadata": {
  "anaconda-cloud": {},
  "kernelspec": {
   "display_name": "Python [conda root]",
   "language": "python",
   "name": "conda-root-py"
  },
  "language_info": {
   "codemirror_mode": {
    "name": "ipython",
    "version": 3
   },
   "file_extension": ".py",
   "mimetype": "text/x-python",
   "name": "python",
   "nbconvert_exporter": "python",
   "pygments_lexer": "ipython3",
   "version": "3.5.2"
  }
 },
 "nbformat": 4,
 "nbformat_minor": 1
}
