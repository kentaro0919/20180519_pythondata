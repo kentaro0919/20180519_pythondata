{
 "cells": [
  {
   "cell_type": "markdown",
   "metadata": {},
   "source": [
    "# 実習1　分類"
   ]
  },
  {
   "cell_type": "markdown",
   "metadata": {},
   "source": [
    "## 実習概要"
   ]
  },
  {
   "cell_type": "markdown",
   "metadata": {},
   "source": [
    "scikit-learnのライブラリを使用して、以下の操作を習得します。"
   ]
  },
  {
   "cell_type": "markdown",
   "metadata": {},
   "source": [
    "- ロジスティック回帰による分類\n",
    "- ランダムフォレストによる分類\n",
    "- 最適な評価指標によるモデル評価"
   ]
  },
  {
   "cell_type": "markdown",
   "metadata": {},
   "source": [
    "※セルは適宜追加してください。"
   ]
  },
  {
   "cell_type": "markdown",
   "metadata": {},
   "source": [
    "## データ概要"
   ]
  },
  {
   "cell_type": "markdown",
   "metadata": {},
   "source": [
    "- クレジットカード.csv"
   ]
  },
  {
   "cell_type": "markdown",
   "metadata": {},
   "source": [
    "    C:\\PyML\\exercise\\1.Classifier\\クレジットカード.csv"
   ]
  },
  {
   "cell_type": "markdown",
   "metadata": {},
   "source": [
    "    あなたはクレジットカード会社A社の運用担当です。将来的に債務不履行を起こす予兆があるユーザーを事前に把握し、アプローチしていきたいと考えています。"
   ]
  },
  {
   "cell_type": "markdown",
   "metadata": {},
   "source": [
    "|列名|意味|\n",
    "|:--|:--|\n",
    "|性別、最終学歴など|クレジットカード利用者のユーザー情報|\n",
    "|支払状況|過去の滞納情報。「なし」=滞納なし、「Nヶ月」=Nヶ月滞納。|\n",
    "|請求額|クレジットカード会社からの請求額|\n",
    "|支払額|クレジットカード会社からの貸し出し額|\n",
    "|債務不履行|当月の債務不履行の発生有無（1が債務不履行あり、0が債務不履行なし）|"
   ]
  },
  {
   "cell_type": "markdown",
   "metadata": {},
   "source": [
    "## 事前準備"
   ]
  },
  {
   "cell_type": "markdown",
   "metadata": {},
   "source": [
    "### ライブラリのインポート"
   ]
  },
  {
   "cell_type": "markdown",
   "metadata": {},
   "source": [
    "※必要であれば、ライブラリを追加インポートしてください"
   ]
  },
  {
   "cell_type": "code",
   "execution_count": 1,
   "metadata": {
    "collapsed": true
   },
   "outputs": [],
   "source": [
    "import numpy as np\n",
    "import pandas as pd\n",
    "from sklearn.model_selection import train_test_split\n",
    "from sklearn.linear_model import LogisticRegression\n",
    "from sklearn.ensemble import RandomForestClassifier\n",
    "from sklearn.metrics import accuracy_score,precision_score,recall_score,make_scorer"
   ]
  },
  {
   "cell_type": "markdown",
   "metadata": {},
   "source": [
    "### ファイルの読み込み"
   ]
  },
  {
   "cell_type": "code",
   "execution_count": 2,
   "metadata": {
    "collapsed": true
   },
   "outputs": [],
   "source": [
    "df = pd.read_csv('クレジットカード.csv',encoding='shift_jis',engine='python')"
   ]
  },
  {
   "cell_type": "code",
   "execution_count": 3,
   "metadata": {
    "scrolled": true
   },
   "outputs": [
    {
     "data": {
      "text/html": [
       "<div>\n",
       "<style>\n",
       "    .dataframe thead tr:only-child th {\n",
       "        text-align: right;\n",
       "    }\n",
       "\n",
       "    .dataframe thead th {\n",
       "        text-align: left;\n",
       "    }\n",
       "\n",
       "    .dataframe tbody tr th {\n",
       "        vertical-align: top;\n",
       "    }\n",
       "</style>\n",
       "<table border=\"1\" class=\"dataframe\">\n",
       "  <thead>\n",
       "    <tr style=\"text-align: right;\">\n",
       "      <th></th>\n",
       "      <th>性別</th>\n",
       "      <th>最終学歴</th>\n",
       "      <th>結婚</th>\n",
       "      <th>支払状況_1ヵ月前</th>\n",
       "      <th>支払状況_2ヵ月前</th>\n",
       "      <th>支払状況_3ヵ月前</th>\n",
       "      <th>支払状況_4ヵ月前</th>\n",
       "      <th>支払状況_5ヵ月前</th>\n",
       "      <th>支払状況_6ヵ月前</th>\n",
       "      <th>年齢</th>\n",
       "      <th>...</th>\n",
       "      <th>請求額_4ヵ月前</th>\n",
       "      <th>請求額_5ヵ月前</th>\n",
       "      <th>請求額_6ヵ月前</th>\n",
       "      <th>支払額_1ヵ月前</th>\n",
       "      <th>支払額_2ヵ月前</th>\n",
       "      <th>支払額_3ヵ月前</th>\n",
       "      <th>支払額_4ヵ月前</th>\n",
       "      <th>支払額_5ヵ月前</th>\n",
       "      <th>支払額_6ヵ月前</th>\n",
       "      <th>債務不履行</th>\n",
       "    </tr>\n",
       "  </thead>\n",
       "  <tbody>\n",
       "    <tr>\n",
       "      <th>0</th>\n",
       "      <td>女</td>\n",
       "      <td>大学</td>\n",
       "      <td>既婚</td>\n",
       "      <td>2ヵ月</td>\n",
       "      <td>2ヵ月</td>\n",
       "      <td>なし</td>\n",
       "      <td>なし</td>\n",
       "      <td>なし</td>\n",
       "      <td>なし</td>\n",
       "      <td>24</td>\n",
       "      <td>...</td>\n",
       "      <td>0</td>\n",
       "      <td>0</td>\n",
       "      <td>0</td>\n",
       "      <td>0</td>\n",
       "      <td>689</td>\n",
       "      <td>0</td>\n",
       "      <td>0</td>\n",
       "      <td>0</td>\n",
       "      <td>0</td>\n",
       "      <td>1</td>\n",
       "    </tr>\n",
       "    <tr>\n",
       "      <th>1</th>\n",
       "      <td>女</td>\n",
       "      <td>大学</td>\n",
       "      <td>未婚</td>\n",
       "      <td>なし</td>\n",
       "      <td>2ヵ月</td>\n",
       "      <td>なし</td>\n",
       "      <td>なし</td>\n",
       "      <td>なし</td>\n",
       "      <td>2ヵ月</td>\n",
       "      <td>26</td>\n",
       "      <td>...</td>\n",
       "      <td>3272</td>\n",
       "      <td>3455</td>\n",
       "      <td>3261</td>\n",
       "      <td>0</td>\n",
       "      <td>1000</td>\n",
       "      <td>1000</td>\n",
       "      <td>1000</td>\n",
       "      <td>0</td>\n",
       "      <td>2000</td>\n",
       "      <td>1</td>\n",
       "    </tr>\n",
       "    <tr>\n",
       "      <th>2</th>\n",
       "      <td>女</td>\n",
       "      <td>大学</td>\n",
       "      <td>未婚</td>\n",
       "      <td>なし</td>\n",
       "      <td>なし</td>\n",
       "      <td>なし</td>\n",
       "      <td>なし</td>\n",
       "      <td>なし</td>\n",
       "      <td>なし</td>\n",
       "      <td>34</td>\n",
       "      <td>...</td>\n",
       "      <td>14331</td>\n",
       "      <td>14948</td>\n",
       "      <td>15549</td>\n",
       "      <td>1518</td>\n",
       "      <td>1500</td>\n",
       "      <td>1000</td>\n",
       "      <td>1000</td>\n",
       "      <td>1000</td>\n",
       "      <td>5000</td>\n",
       "      <td>0</td>\n",
       "    </tr>\n",
       "  </tbody>\n",
       "</table>\n",
       "<p>3 rows × 24 columns</p>\n",
       "</div>"
      ],
      "text/plain": [
       "  性別 最終学歴  結婚 支払状況_1ヵ月前 支払状況_2ヵ月前 支払状況_3ヵ月前 支払状況_4ヵ月前 支払状況_5ヵ月前 支払状況_6ヵ月前  年齢  \\\n",
       "0  女   大学  既婚       2ヵ月       2ヵ月        なし        なし        なし        なし  24   \n",
       "1  女   大学  未婚        なし       2ヵ月        なし        なし        なし       2ヵ月  26   \n",
       "2  女   大学  未婚        なし        なし        なし        なし        なし        なし  34   \n",
       "\n",
       "   ...    請求額_4ヵ月前  請求額_5ヵ月前  請求額_6ヵ月前  支払額_1ヵ月前  支払額_2ヵ月前  支払額_3ヵ月前  \\\n",
       "0  ...           0         0         0         0       689         0   \n",
       "1  ...        3272      3455      3261         0      1000      1000   \n",
       "2  ...       14331     14948     15549      1518      1500      1000   \n",
       "\n",
       "   支払額_4ヵ月前  支払額_5ヵ月前  支払額_6ヵ月前  債務不履行  \n",
       "0         0         0         0      1  \n",
       "1      1000         0      2000      1  \n",
       "2      1000      1000      5000      0  \n",
       "\n",
       "[3 rows x 24 columns]"
      ]
     },
     "execution_count": 3,
     "metadata": {},
     "output_type": "execute_result"
    }
   ],
   "source": [
    "df.head(3)"
   ]
  },
  {
   "cell_type": "markdown",
   "metadata": {},
   "source": [
    "## データ加工"
   ]
  },
  {
   "cell_type": "markdown",
   "metadata": {},
   "source": [
    "### 欠損値削除"
   ]
  },
  {
   "cell_type": "code",
   "execution_count": 4,
   "metadata": {
    "collapsed": true
   },
   "outputs": [],
   "source": [
    "df_post_drop = df.dropna()"
   ]
  },
  {
   "cell_type": "code",
   "execution_count": 5,
   "metadata": {},
   "outputs": [
    {
     "data": {
      "text/plain": [
       "(29931, 24)"
      ]
     },
     "execution_count": 5,
     "metadata": {},
     "output_type": "execute_result"
    }
   ],
   "source": [
    "df_post_drop.shape"
   ]
  },
  {
   "cell_type": "code",
   "execution_count": 6,
   "metadata": {
    "collapsed": true
   },
   "outputs": [],
   "source": [
    "df_post_drop = df_post_drop.reset_index(drop=True) # indexの振りなおしをしないと、後でconcatする際、正しく結合されないので注意"
   ]
  },
  {
   "cell_type": "code",
   "execution_count": 7,
   "metadata": {
    "scrolled": true
   },
   "outputs": [
    {
     "data": {
      "text/html": [
       "<div>\n",
       "<style>\n",
       "    .dataframe thead tr:only-child th {\n",
       "        text-align: right;\n",
       "    }\n",
       "\n",
       "    .dataframe thead th {\n",
       "        text-align: left;\n",
       "    }\n",
       "\n",
       "    .dataframe tbody tr th {\n",
       "        vertical-align: top;\n",
       "    }\n",
       "</style>\n",
       "<table border=\"1\" class=\"dataframe\">\n",
       "  <thead>\n",
       "    <tr style=\"text-align: right;\">\n",
       "      <th></th>\n",
       "      <th>性別</th>\n",
       "      <th>最終学歴</th>\n",
       "      <th>結婚</th>\n",
       "      <th>支払状況_1ヵ月前</th>\n",
       "      <th>支払状況_2ヵ月前</th>\n",
       "      <th>支払状況_3ヵ月前</th>\n",
       "      <th>支払状況_4ヵ月前</th>\n",
       "      <th>支払状況_5ヵ月前</th>\n",
       "      <th>支払状況_6ヵ月前</th>\n",
       "      <th>年齢</th>\n",
       "      <th>...</th>\n",
       "      <th>請求額_4ヵ月前</th>\n",
       "      <th>請求額_5ヵ月前</th>\n",
       "      <th>請求額_6ヵ月前</th>\n",
       "      <th>支払額_1ヵ月前</th>\n",
       "      <th>支払額_2ヵ月前</th>\n",
       "      <th>支払額_3ヵ月前</th>\n",
       "      <th>支払額_4ヵ月前</th>\n",
       "      <th>支払額_5ヵ月前</th>\n",
       "      <th>支払額_6ヵ月前</th>\n",
       "      <th>債務不履行</th>\n",
       "    </tr>\n",
       "  </thead>\n",
       "  <tbody>\n",
       "    <tr>\n",
       "      <th>0</th>\n",
       "      <td>女</td>\n",
       "      <td>大学</td>\n",
       "      <td>既婚</td>\n",
       "      <td>2ヵ月</td>\n",
       "      <td>2ヵ月</td>\n",
       "      <td>なし</td>\n",
       "      <td>なし</td>\n",
       "      <td>なし</td>\n",
       "      <td>なし</td>\n",
       "      <td>24</td>\n",
       "      <td>...</td>\n",
       "      <td>0</td>\n",
       "      <td>0</td>\n",
       "      <td>0</td>\n",
       "      <td>0</td>\n",
       "      <td>689</td>\n",
       "      <td>0</td>\n",
       "      <td>0</td>\n",
       "      <td>0</td>\n",
       "      <td>0</td>\n",
       "      <td>1</td>\n",
       "    </tr>\n",
       "  </tbody>\n",
       "</table>\n",
       "<p>1 rows × 24 columns</p>\n",
       "</div>"
      ],
      "text/plain": [
       "  性別 最終学歴  結婚 支払状況_1ヵ月前 支払状況_2ヵ月前 支払状況_3ヵ月前 支払状況_4ヵ月前 支払状況_5ヵ月前 支払状況_6ヵ月前  年齢  \\\n",
       "0  女   大学  既婚       2ヵ月       2ヵ月        なし        なし        なし        なし  24   \n",
       "\n",
       "   ...    請求額_4ヵ月前  請求額_5ヵ月前  請求額_6ヵ月前  支払額_1ヵ月前  支払額_2ヵ月前  支払額_3ヵ月前  \\\n",
       "0  ...           0         0         0         0       689         0   \n",
       "\n",
       "   支払額_4ヵ月前  支払額_5ヵ月前  支払額_6ヵ月前  債務不履行  \n",
       "0         0         0         0      1  \n",
       "\n",
       "[1 rows x 24 columns]"
      ]
     },
     "execution_count": 7,
     "metadata": {},
     "output_type": "execute_result"
    }
   ],
   "source": [
    "df_post_drop.head(1)"
   ]
  },
  {
   "cell_type": "markdown",
   "metadata": {},
   "source": [
    "### ホールドアウト法で分割"
   ]
  },
  {
   "cell_type": "markdown",
   "metadata": {},
   "source": [
    "※本演習では、特徴変数としては、数値データを指定してください。"
   ]
  },
  {
   "cell_type": "code",
   "execution_count": 8,
   "metadata": {
    "collapsed": true
   },
   "outputs": [],
   "source": [
    "X = df_post_drop.iloc[:,9:-1].values\n",
    "y = df_post_drop.iloc[:,-1].values"
   ]
  },
  {
   "cell_type": "code",
   "execution_count": 9,
   "metadata": {
    "collapsed": true
   },
   "outputs": [],
   "source": [
    "X_train , X_test , y_train , y_test = train_test_split(X, y, test_size = 0.5)"
   ]
  },
  {
   "cell_type": "markdown",
   "metadata": {},
   "source": [
    "## 学習、評価"
   ]
  },
  {
   "cell_type": "markdown",
   "metadata": {},
   "source": [
    "下記の手法を使用して予測モデルを作成し、評価してください。"
   ]
  },
  {
   "cell_type": "markdown",
   "metadata": {},
   "source": [
    "- ロジスティック回帰（正則化弱め ※C=10以上）\n",
    "- ロジスティック回帰（L1正則化強め ※C=1以下）\n",
    "- ロジスティック回帰（L2正則化強め ※C=1以下）\n",
    "- ランダムフォレスト"
   ]
  },
  {
   "cell_type": "markdown",
   "metadata": {},
   "source": [
    "### 学習"
   ]
  },
  {
   "cell_type": "markdown",
   "metadata": {},
   "source": [
    "#### ロジスティック回帰（正則化弱め ※C=10以上）"
   ]
  },
  {
   "cell_type": "code",
   "execution_count": 10,
   "metadata": {
    "collapsed": true
   },
   "outputs": [],
   "source": [
    "clf_lr = LogisticRegression(C=10)"
   ]
  },
  {
   "cell_type": "code",
   "execution_count": 11,
   "metadata": {},
   "outputs": [
    {
     "data": {
      "text/plain": [
       "LogisticRegression(C=10, class_weight=None, dual=False, fit_intercept=True,\n",
       "          intercept_scaling=1, max_iter=100, multi_class='ovr', n_jobs=1,\n",
       "          penalty='l2', random_state=None, solver='liblinear', tol=0.0001,\n",
       "          verbose=0, warm_start=False)"
      ]
     },
     "execution_count": 11,
     "metadata": {},
     "output_type": "execute_result"
    }
   ],
   "source": [
    "clf_lr.fit(X = X_train, y = y_train)"
   ]
  },
  {
   "cell_type": "code",
   "execution_count": 12,
   "metadata": {},
   "outputs": [
    {
     "data": {
      "text/plain": [
       "array([[ -1.04553459e-02,  -3.68189497e-06,  -8.83380270e-06,\n",
       "          3.41073164e-06,   4.73068547e-06,   4.91273034e-08,\n",
       "          3.51797997e-06,   1.71622674e-06,  -3.30303559e-05,\n",
       "         -2.78488244e-05,  -1.93012624e-05,  -8.75314972e-06,\n",
       "         -3.12971484e-06,  -2.25641981e-06]])"
      ]
     },
     "execution_count": 12,
     "metadata": {},
     "output_type": "execute_result"
    }
   ],
   "source": [
    "clf_lr.coef_"
   ]
  },
  {
   "cell_type": "markdown",
   "metadata": {},
   "source": [
    "#### ロジスティック回帰（L1正則化強め ※C=1以下）"
   ]
  },
  {
   "cell_type": "code",
   "execution_count": 13,
   "metadata": {
    "collapsed": true
   },
   "outputs": [],
   "source": [
    "clf_l1 = LogisticRegression(penalty='l1', C=0.001)"
   ]
  },
  {
   "cell_type": "code",
   "execution_count": 14,
   "metadata": {},
   "outputs": [
    {
     "data": {
      "text/plain": [
       "LogisticRegression(C=0.001, class_weight=None, dual=False, fit_intercept=True,\n",
       "          intercept_scaling=1, max_iter=100, multi_class='ovr', n_jobs=1,\n",
       "          penalty='l1', random_state=None, solver='liblinear', tol=0.0001,\n",
       "          verbose=0, warm_start=False)"
      ]
     },
     "execution_count": 14,
     "metadata": {},
     "output_type": "execute_result"
    }
   ],
   "source": [
    "clf_l1.fit(X = X_train, y = y_train)"
   ]
  },
  {
   "cell_type": "code",
   "execution_count": 15,
   "metadata": {},
   "outputs": [
    {
     "data": {
      "text/plain": [
       "array([[ -1.47924452e-02,  -3.13598864e-06,  -8.14812402e-06,\n",
       "          3.25649453e-06,   4.59331166e-06,   4.78920132e-10,\n",
       "          3.26146672e-06,   1.71273877e-06,  -3.06266623e-05,\n",
       "         -2.56852392e-05,  -1.80500586e-05,  -8.16364386e-06,\n",
       "         -3.11676301e-06,  -2.41085282e-06]])"
      ]
     },
     "execution_count": 15,
     "metadata": {},
     "output_type": "execute_result"
    }
   ],
   "source": [
    "clf_l1.coef_"
   ]
  },
  {
   "cell_type": "markdown",
   "metadata": {},
   "source": [
    "#### ロジスティック回帰（L2正則化強め ※C=1以下）"
   ]
  },
  {
   "cell_type": "code",
   "execution_count": 16,
   "metadata": {
    "collapsed": true
   },
   "outputs": [],
   "source": [
    "clf_l2 = LogisticRegression(penalty='l2', C=0.001)"
   ]
  },
  {
   "cell_type": "code",
   "execution_count": 17,
   "metadata": {},
   "outputs": [
    {
     "data": {
      "text/plain": [
       "LogisticRegression(C=0.001, class_weight=None, dual=False, fit_intercept=True,\n",
       "          intercept_scaling=1, max_iter=100, multi_class='ovr', n_jobs=1,\n",
       "          penalty='l2', random_state=None, solver='liblinear', tol=0.0001,\n",
       "          verbose=0, warm_start=False)"
      ]
     },
     "execution_count": 17,
     "metadata": {},
     "output_type": "execute_result"
    }
   ],
   "source": [
    "clf_l2.fit(X = X_train, y = y_train)"
   ]
  },
  {
   "cell_type": "code",
   "execution_count": 18,
   "metadata": {},
   "outputs": [
    {
     "data": {
      "text/plain": [
       "array([[ -8.79228952e-03,  -3.89493054e-06,  -9.10129301e-06,\n",
       "          3.44597601e-06,   4.81529299e-06,   6.92404919e-08,\n",
       "          3.57681531e-06,   1.75174352e-06,  -3.40609969e-05,\n",
       "         -2.87137731e-05,  -1.97961495e-05,  -8.93463458e-06,\n",
       "         -3.18556511e-06,  -2.18041382e-06]])"
      ]
     },
     "execution_count": 18,
     "metadata": {},
     "output_type": "execute_result"
    }
   ],
   "source": [
    "clf_l2.coef_"
   ]
  },
  {
   "cell_type": "markdown",
   "metadata": {},
   "source": [
    "#### ランダムフォレスト"
   ]
  },
  {
   "cell_type": "code",
   "execution_count": 19,
   "metadata": {
    "collapsed": true
   },
   "outputs": [],
   "source": [
    "clf_rf = RandomForestClassifier(n_estimators=2000, n_jobs=-1, random_state=1)"
   ]
  },
  {
   "cell_type": "code",
   "execution_count": 20,
   "metadata": {},
   "outputs": [
    {
     "data": {
      "text/plain": [
       "RandomForestClassifier(bootstrap=True, class_weight=None, criterion='gini',\n",
       "            max_depth=None, max_features='auto', max_leaf_nodes=None,\n",
       "            min_impurity_split=1e-07, min_samples_leaf=1,\n",
       "            min_samples_split=2, min_weight_fraction_leaf=0.0,\n",
       "            n_estimators=2000, n_jobs=-1, oob_score=False, random_state=1,\n",
       "            verbose=0, warm_start=False)"
      ]
     },
     "execution_count": 20,
     "metadata": {},
     "output_type": "execute_result"
    }
   ],
   "source": [
    "clf_rf.fit(X = X_train, y = y_train)"
   ]
  },
  {
   "cell_type": "markdown",
   "metadata": {},
   "source": [
    "### 評価"
   ]
  },
  {
   "cell_type": "markdown",
   "metadata": {},
   "source": [
    "#### 評価用の関数"
   ]
  },
  {
   "cell_type": "code",
   "execution_count": 21,
   "metadata": {
    "collapsed": true
   },
   "outputs": [],
   "source": [
    "def eval(method,scorer):\n",
    "    print('学習用データ:', scorer(y_pred=method.predict(X=X_train),y_true=y_train))\n",
    "    print('テスト用データ:', scorer(y_pred=method.predict(X=X_test),y_true=y_test))"
   ]
  },
  {
   "cell_type": "markdown",
   "metadata": {},
   "source": [
    "#### ロジスティック回帰（正則化なし）"
   ]
  },
  {
   "cell_type": "code",
   "execution_count": 22,
   "metadata": {},
   "outputs": [
    {
     "name": "stdout",
     "output_type": "stream",
     "text": [
      "学習用データ: 0.777881724023\n",
      "テスト用データ: 0.779032473607\n"
     ]
    }
   ],
   "source": [
    "eval(clf_lr,accuracy_score)"
   ]
  },
  {
   "cell_type": "markdown",
   "metadata": {},
   "source": [
    "#### ロジスティック回帰（L1正則化）"
   ]
  },
  {
   "cell_type": "code",
   "execution_count": 23,
   "metadata": {},
   "outputs": [
    {
     "name": "stdout",
     "output_type": "stream",
     "text": [
      "学習用データ: 0.777948546609\n",
      "テスト用データ: 0.779032473607\n"
     ]
    }
   ],
   "source": [
    "eval(clf_l1,accuracy_score)"
   ]
  },
  {
   "cell_type": "markdown",
   "metadata": {},
   "source": [
    "#### ロジスティック回帰（L2正則化）"
   ]
  },
  {
   "cell_type": "code",
   "execution_count": 24,
   "metadata": {},
   "outputs": [
    {
     "name": "stdout",
     "output_type": "stream",
     "text": [
      "学習用データ: 0.777881724023\n",
      "テスト用データ: 0.779032473607\n"
     ]
    }
   ],
   "source": [
    "eval(clf_l2,accuracy_score)"
   ]
  },
  {
   "cell_type": "markdown",
   "metadata": {},
   "source": [
    "#### ランダムフォレスト"
   ]
  },
  {
   "cell_type": "code",
   "execution_count": 25,
   "metadata": {},
   "outputs": [
    {
     "name": "stdout",
     "output_type": "stream",
     "text": [
      "学習用データ: 0.997126628801\n",
      "テスト用データ: 0.785714285714\n"
     ]
    }
   ],
   "source": [
    "eval(clf_rf,accuracy_score)"
   ]
  },
  {
   "cell_type": "markdown",
   "metadata": {},
   "source": [
    "accurarcy_scoreはそれなりに高いが、recall、precisionが低い。\n",
    "※本当は債務不履行がある可能性がある人を見逃すモデルになってしまっている。"
   ]
  }
 ],
 "metadata": {
  "anaconda-cloud": {},
  "kernelspec": {
   "display_name": "Python 3",
   "language": "python",
   "name": "python3"
  },
  "language_info": {
   "codemirror_mode": {
    "name": "ipython",
    "version": 3
   },
   "file_extension": ".py",
   "mimetype": "text/x-python",
   "name": "python",
   "nbconvert_exporter": "python",
   "pygments_lexer": "ipython3",
   "version": "3.6.1"
  }
 },
 "nbformat": 4,
 "nbformat_minor": 1
}
