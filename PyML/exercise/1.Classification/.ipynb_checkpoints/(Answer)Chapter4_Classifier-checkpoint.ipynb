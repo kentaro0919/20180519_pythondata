{
 "cells": [
  {
   "cell_type": "markdown",
   "metadata": {},
   "source": [
    "# 実習3　分類"
   ]
  },
  {
   "cell_type": "markdown",
   "metadata": {},
   "source": [
    "## 実習概要"
   ]
  },
  {
   "cell_type": "markdown",
   "metadata": {},
   "source": [
    "scikit-learnのライブラリを使用して、以下の操作を習得します。"
   ]
  },
  {
   "cell_type": "markdown",
   "metadata": {},
   "source": [
    "- ラベルの数値化、One-Hotエンコーディング\n",
    "- 標準化\n",
    "- 主成分分析\n",
    "- グリッドサーチによるパラメーター調整"
   ]
  },
  {
   "cell_type": "markdown",
   "metadata": {},
   "source": [
    "※セルは適宜追加してください。"
   ]
  },
  {
   "cell_type": "markdown",
   "metadata": {},
   "source": [
    "## データ概要"
   ]
  },
  {
   "cell_type": "markdown",
   "metadata": {},
   "source": [
    "- クレジットカード.csv"
   ]
  },
  {
   "cell_type": "markdown",
   "metadata": {},
   "source": [
    "    C:\\PyML\\exercise\\1.Classifier\\クレジットカード.csv\n",
    "    ※実習１の課題と同じデータを使います。"
   ]
  },
  {
   "cell_type": "markdown",
   "metadata": {},
   "source": [
    "    あなたはクレジットカード会社A社の運用担当です。将来的に債務不履行を起こす予兆があるユーザーを事前に把握し、アプローチしていきたいと考えています。"
   ]
  },
  {
   "cell_type": "markdown",
   "metadata": {},
   "source": [
    "|列名|意味|\n",
    "|:--|:--|\n",
    "|性別、最終学歴など|クレジットカード利用者のユーザー情報|\n",
    "|支払状況|過去の滞納情報。「なし」=滞納なし、「Nヶ月」=Nヶ月滞納。|\n",
    "|請求額|クレジットカード会社からの請求額|\n",
    "|支払額|クレジットカード会社からの貸し出し額|\n",
    "|債務不履行|当月の債務不履行の発生有無（1が債務不履行あり、0が債務不履行なし）|"
   ]
  },
  {
   "cell_type": "markdown",
   "metadata": {},
   "source": [
    "## 事前準備"
   ]
  },
  {
   "cell_type": "markdown",
   "metadata": {},
   "source": [
    "### ライブラリのインポート"
   ]
  },
  {
   "cell_type": "markdown",
   "metadata": {},
   "source": [
    "※必要であれば、ライブラリを追加インポートしてください"
   ]
  },
  {
   "cell_type": "code",
   "execution_count": 1,
   "metadata": {
    "collapsed": true
   },
   "outputs": [],
   "source": [
    "import numpy as np\n",
    "import pandas as pd\n",
    "from sklearn.model_selection import train_test_split,GridSearchCV\n",
    "from sklearn.linear_model import LogisticRegression\n",
    "from sklearn.ensemble import RandomForestClassifier\n",
    "from sklearn.metrics import precision_score,recall_score,make_scorer\n",
    "from sklearn.preprocessing import LabelEncoder,OneHotEncoder, StandardScaler\n",
    "from sklearn.decomposition import PCA"
   ]
  },
  {
   "cell_type": "markdown",
   "metadata": {},
   "source": [
    "### ファイルの読み込み"
   ]
  },
  {
   "cell_type": "code",
   "execution_count": 2,
   "metadata": {
    "collapsed": true
   },
   "outputs": [],
   "source": [
    "df = pd.read_csv('クレジットカード.csv',encoding='shift_jis',engine='python')"
   ]
  },
  {
   "cell_type": "code",
   "execution_count": 3,
   "metadata": {
    "scrolled": true
   },
   "outputs": [
    {
     "data": {
      "text/html": [
       "<div>\n",
       "<style>\n",
       "    .dataframe thead tr:only-child th {\n",
       "        text-align: right;\n",
       "    }\n",
       "\n",
       "    .dataframe thead th {\n",
       "        text-align: left;\n",
       "    }\n",
       "\n",
       "    .dataframe tbody tr th {\n",
       "        vertical-align: top;\n",
       "    }\n",
       "</style>\n",
       "<table border=\"1\" class=\"dataframe\">\n",
       "  <thead>\n",
       "    <tr style=\"text-align: right;\">\n",
       "      <th></th>\n",
       "      <th>性別</th>\n",
       "      <th>最終学歴</th>\n",
       "      <th>結婚</th>\n",
       "      <th>支払状況_1ヵ月前</th>\n",
       "      <th>支払状況_2ヵ月前</th>\n",
       "      <th>支払状況_3ヵ月前</th>\n",
       "      <th>支払状況_4ヵ月前</th>\n",
       "      <th>支払状況_5ヵ月前</th>\n",
       "      <th>支払状況_6ヵ月前</th>\n",
       "      <th>年齢</th>\n",
       "      <th>...</th>\n",
       "      <th>請求額_4ヵ月前</th>\n",
       "      <th>請求額_5ヵ月前</th>\n",
       "      <th>請求額_6ヵ月前</th>\n",
       "      <th>支払額_1ヵ月前</th>\n",
       "      <th>支払額_2ヵ月前</th>\n",
       "      <th>支払額_3ヵ月前</th>\n",
       "      <th>支払額_4ヵ月前</th>\n",
       "      <th>支払額_5ヵ月前</th>\n",
       "      <th>支払額_6ヵ月前</th>\n",
       "      <th>債務不履行</th>\n",
       "    </tr>\n",
       "  </thead>\n",
       "  <tbody>\n",
       "    <tr>\n",
       "      <th>0</th>\n",
       "      <td>女</td>\n",
       "      <td>大学</td>\n",
       "      <td>既婚</td>\n",
       "      <td>2ヵ月</td>\n",
       "      <td>2ヵ月</td>\n",
       "      <td>なし</td>\n",
       "      <td>なし</td>\n",
       "      <td>なし</td>\n",
       "      <td>なし</td>\n",
       "      <td>24</td>\n",
       "      <td>...</td>\n",
       "      <td>0</td>\n",
       "      <td>0</td>\n",
       "      <td>0</td>\n",
       "      <td>0</td>\n",
       "      <td>689</td>\n",
       "      <td>0</td>\n",
       "      <td>0</td>\n",
       "      <td>0</td>\n",
       "      <td>0</td>\n",
       "      <td>1</td>\n",
       "    </tr>\n",
       "    <tr>\n",
       "      <th>1</th>\n",
       "      <td>女</td>\n",
       "      <td>大学</td>\n",
       "      <td>未婚</td>\n",
       "      <td>なし</td>\n",
       "      <td>2ヵ月</td>\n",
       "      <td>なし</td>\n",
       "      <td>なし</td>\n",
       "      <td>なし</td>\n",
       "      <td>2ヵ月</td>\n",
       "      <td>26</td>\n",
       "      <td>...</td>\n",
       "      <td>3272</td>\n",
       "      <td>3455</td>\n",
       "      <td>3261</td>\n",
       "      <td>0</td>\n",
       "      <td>1000</td>\n",
       "      <td>1000</td>\n",
       "      <td>1000</td>\n",
       "      <td>0</td>\n",
       "      <td>2000</td>\n",
       "      <td>1</td>\n",
       "    </tr>\n",
       "    <tr>\n",
       "      <th>2</th>\n",
       "      <td>女</td>\n",
       "      <td>大学</td>\n",
       "      <td>未婚</td>\n",
       "      <td>なし</td>\n",
       "      <td>なし</td>\n",
       "      <td>なし</td>\n",
       "      <td>なし</td>\n",
       "      <td>なし</td>\n",
       "      <td>なし</td>\n",
       "      <td>34</td>\n",
       "      <td>...</td>\n",
       "      <td>14331</td>\n",
       "      <td>14948</td>\n",
       "      <td>15549</td>\n",
       "      <td>1518</td>\n",
       "      <td>1500</td>\n",
       "      <td>1000</td>\n",
       "      <td>1000</td>\n",
       "      <td>1000</td>\n",
       "      <td>5000</td>\n",
       "      <td>0</td>\n",
       "    </tr>\n",
       "  </tbody>\n",
       "</table>\n",
       "<p>3 rows × 24 columns</p>\n",
       "</div>"
      ],
      "text/plain": [
       "  性別 最終学歴  結婚 支払状況_1ヵ月前 支払状況_2ヵ月前 支払状況_3ヵ月前 支払状況_4ヵ月前 支払状況_5ヵ月前 支払状況_6ヵ月前  年齢  \\\n",
       "0  女   大学  既婚       2ヵ月       2ヵ月        なし        なし        なし        なし  24   \n",
       "1  女   大学  未婚        なし       2ヵ月        なし        なし        なし       2ヵ月  26   \n",
       "2  女   大学  未婚        なし        なし        なし        なし        なし        なし  34   \n",
       "\n",
       "   ...    請求額_4ヵ月前  請求額_5ヵ月前  請求額_6ヵ月前  支払額_1ヵ月前  支払額_2ヵ月前  支払額_3ヵ月前  \\\n",
       "0  ...           0         0         0         0       689         0   \n",
       "1  ...        3272      3455      3261         0      1000      1000   \n",
       "2  ...       14331     14948     15549      1518      1500      1000   \n",
       "\n",
       "   支払額_4ヵ月前  支払額_5ヵ月前  支払額_6ヵ月前  債務不履行  \n",
       "0         0         0         0      1  \n",
       "1      1000         0      2000      1  \n",
       "2      1000      1000      5000      0  \n",
       "\n",
       "[3 rows x 24 columns]"
      ]
     },
     "execution_count": 3,
     "metadata": {},
     "output_type": "execute_result"
    }
   ],
   "source": [
    "df.head(3)"
   ]
  },
  {
   "cell_type": "markdown",
   "metadata": {},
   "source": [
    "## データ加工"
   ]
  },
  {
   "cell_type": "markdown",
   "metadata": {},
   "source": [
    "### 欠損値削除"
   ]
  },
  {
   "cell_type": "code",
   "execution_count": 4,
   "metadata": {
    "collapsed": true
   },
   "outputs": [],
   "source": [
    "df_post_drop = df.dropna()"
   ]
  },
  {
   "cell_type": "code",
   "execution_count": 5,
   "metadata": {},
   "outputs": [
    {
     "data": {
      "text/plain": [
       "(29931, 24)"
      ]
     },
     "execution_count": 5,
     "metadata": {},
     "output_type": "execute_result"
    }
   ],
   "source": [
    "df_post_drop.shape"
   ]
  },
  {
   "cell_type": "code",
   "execution_count": 6,
   "metadata": {
    "collapsed": true
   },
   "outputs": [],
   "source": [
    "df_post_drop = df_post_drop.reset_index(drop=True) # indexの振りなおしをしないと、後でconcatする際、正しく結合されないので注意"
   ]
  },
  {
   "cell_type": "code",
   "execution_count": 7,
   "metadata": {},
   "outputs": [
    {
     "data": {
      "text/html": [
       "<div>\n",
       "<style>\n",
       "    .dataframe thead tr:only-child th {\n",
       "        text-align: right;\n",
       "    }\n",
       "\n",
       "    .dataframe thead th {\n",
       "        text-align: left;\n",
       "    }\n",
       "\n",
       "    .dataframe tbody tr th {\n",
       "        vertical-align: top;\n",
       "    }\n",
       "</style>\n",
       "<table border=\"1\" class=\"dataframe\">\n",
       "  <thead>\n",
       "    <tr style=\"text-align: right;\">\n",
       "      <th></th>\n",
       "      <th>性別</th>\n",
       "      <th>最終学歴</th>\n",
       "      <th>結婚</th>\n",
       "      <th>支払状況_1ヵ月前</th>\n",
       "      <th>支払状況_2ヵ月前</th>\n",
       "      <th>支払状況_3ヵ月前</th>\n",
       "      <th>支払状況_4ヵ月前</th>\n",
       "      <th>支払状況_5ヵ月前</th>\n",
       "      <th>支払状況_6ヵ月前</th>\n",
       "      <th>年齢</th>\n",
       "      <th>...</th>\n",
       "      <th>請求額_4ヵ月前</th>\n",
       "      <th>請求額_5ヵ月前</th>\n",
       "      <th>請求額_6ヵ月前</th>\n",
       "      <th>支払額_1ヵ月前</th>\n",
       "      <th>支払額_2ヵ月前</th>\n",
       "      <th>支払額_3ヵ月前</th>\n",
       "      <th>支払額_4ヵ月前</th>\n",
       "      <th>支払額_5ヵ月前</th>\n",
       "      <th>支払額_6ヵ月前</th>\n",
       "      <th>債務不履行</th>\n",
       "    </tr>\n",
       "  </thead>\n",
       "  <tbody>\n",
       "    <tr>\n",
       "      <th>0</th>\n",
       "      <td>女</td>\n",
       "      <td>大学</td>\n",
       "      <td>既婚</td>\n",
       "      <td>2ヵ月</td>\n",
       "      <td>2ヵ月</td>\n",
       "      <td>なし</td>\n",
       "      <td>なし</td>\n",
       "      <td>なし</td>\n",
       "      <td>なし</td>\n",
       "      <td>24</td>\n",
       "      <td>...</td>\n",
       "      <td>0</td>\n",
       "      <td>0</td>\n",
       "      <td>0</td>\n",
       "      <td>0</td>\n",
       "      <td>689</td>\n",
       "      <td>0</td>\n",
       "      <td>0</td>\n",
       "      <td>0</td>\n",
       "      <td>0</td>\n",
       "      <td>1</td>\n",
       "    </tr>\n",
       "  </tbody>\n",
       "</table>\n",
       "<p>1 rows × 24 columns</p>\n",
       "</div>"
      ],
      "text/plain": [
       "  性別 最終学歴  結婚 支払状況_1ヵ月前 支払状況_2ヵ月前 支払状況_3ヵ月前 支払状況_4ヵ月前 支払状況_5ヵ月前 支払状況_6ヵ月前  年齢  \\\n",
       "0  女   大学  既婚       2ヵ月       2ヵ月        なし        なし        なし        なし  24   \n",
       "\n",
       "   ...    請求額_4ヵ月前  請求額_5ヵ月前  請求額_6ヵ月前  支払額_1ヵ月前  支払額_2ヵ月前  支払額_3ヵ月前  \\\n",
       "0  ...           0         0         0         0       689         0   \n",
       "\n",
       "   支払額_4ヵ月前  支払額_5ヵ月前  支払額_6ヵ月前  債務不履行  \n",
       "0         0         0         0      1  \n",
       "\n",
       "[1 rows x 24 columns]"
      ]
     },
     "execution_count": 7,
     "metadata": {},
     "output_type": "execute_result"
    }
   ],
   "source": [
    "df_post_drop.head(1)"
   ]
  },
  {
   "cell_type": "markdown",
   "metadata": {},
   "source": [
    "### 下記の加工リストを参考に、適切な加工を実行してください。"
   ]
  },
  {
   "cell_type": "markdown",
   "metadata": {},
   "source": [
    "- ラベルの数値化、One-Hotエンコーディング\n",
    "- 標準化\n",
    "- 主成分分析\n",
    "- グリッドサーチによるパラメーター調整"
   ]
  },
  {
   "cell_type": "markdown",
   "metadata": {},
   "source": [
    "### LabelEncoding"
   ]
  },
  {
   "cell_type": "code",
   "execution_count": 8,
   "metadata": {
    "collapsed": true
   },
   "outputs": [],
   "source": [
    "le = []\n",
    "enc_columns = []\n",
    "df_post_leenc = df_post_drop.copy()"
   ]
  },
  {
   "cell_type": "code",
   "execution_count": 9,
   "metadata": {
    "collapsed": true
   },
   "outputs": [],
   "source": [
    "#np.unique(df.iloc[:,1]) #欠損値チェック"
   ]
  },
  {
   "cell_type": "code",
   "execution_count": 10,
   "metadata": {
    "collapsed": true
   },
   "outputs": [],
   "source": [
    "for i in np.arange(0,9):\n",
    "    le = np.append(le,LabelEncoder())\n",
    "    le[i].fit(df_post_leenc.iloc[:,i])\n",
    "    enc_columns = np.append(enc_columns , df_post_leenc.columns[i] + '_' + le[i].classes_)\n",
    "    df_post_leenc.iloc[:,i] = le[i].transform(df_post_leenc.iloc[:,i])"
   ]
  },
  {
   "cell_type": "code",
   "execution_count": 11,
   "metadata": {},
   "outputs": [
    {
     "data": {
      "text/html": [
       "<div>\n",
       "<style>\n",
       "    .dataframe thead tr:only-child th {\n",
       "        text-align: right;\n",
       "    }\n",
       "\n",
       "    .dataframe thead th {\n",
       "        text-align: left;\n",
       "    }\n",
       "\n",
       "    .dataframe tbody tr th {\n",
       "        vertical-align: top;\n",
       "    }\n",
       "</style>\n",
       "<table border=\"1\" class=\"dataframe\">\n",
       "  <thead>\n",
       "    <tr style=\"text-align: right;\">\n",
       "      <th></th>\n",
       "      <th>性別</th>\n",
       "      <th>最終学歴</th>\n",
       "      <th>結婚</th>\n",
       "      <th>支払状況_1ヵ月前</th>\n",
       "      <th>支払状況_2ヵ月前</th>\n",
       "      <th>支払状況_3ヵ月前</th>\n",
       "      <th>支払状況_4ヵ月前</th>\n",
       "      <th>支払状況_5ヵ月前</th>\n",
       "      <th>支払状況_6ヵ月前</th>\n",
       "      <th>年齢</th>\n",
       "      <th>...</th>\n",
       "      <th>請求額_4ヵ月前</th>\n",
       "      <th>請求額_5ヵ月前</th>\n",
       "      <th>請求額_6ヵ月前</th>\n",
       "      <th>支払額_1ヵ月前</th>\n",
       "      <th>支払額_2ヵ月前</th>\n",
       "      <th>支払額_3ヵ月前</th>\n",
       "      <th>支払額_4ヵ月前</th>\n",
       "      <th>支払額_5ヵ月前</th>\n",
       "      <th>支払額_6ヵ月前</th>\n",
       "      <th>債務不履行</th>\n",
       "    </tr>\n",
       "  </thead>\n",
       "  <tbody>\n",
       "    <tr>\n",
       "      <th>0</th>\n",
       "      <td>0</td>\n",
       "      <td>1</td>\n",
       "      <td>1</td>\n",
       "      <td>1</td>\n",
       "      <td>1</td>\n",
       "      <td>8</td>\n",
       "      <td>8</td>\n",
       "      <td>7</td>\n",
       "      <td>7</td>\n",
       "      <td>24</td>\n",
       "      <td>...</td>\n",
       "      <td>0</td>\n",
       "      <td>0</td>\n",
       "      <td>0</td>\n",
       "      <td>0</td>\n",
       "      <td>689</td>\n",
       "      <td>0</td>\n",
       "      <td>0</td>\n",
       "      <td>0</td>\n",
       "      <td>0</td>\n",
       "      <td>1</td>\n",
       "    </tr>\n",
       "    <tr>\n",
       "      <th>1</th>\n",
       "      <td>0</td>\n",
       "      <td>1</td>\n",
       "      <td>2</td>\n",
       "      <td>8</td>\n",
       "      <td>1</td>\n",
       "      <td>8</td>\n",
       "      <td>8</td>\n",
       "      <td>7</td>\n",
       "      <td>0</td>\n",
       "      <td>26</td>\n",
       "      <td>...</td>\n",
       "      <td>3272</td>\n",
       "      <td>3455</td>\n",
       "      <td>3261</td>\n",
       "      <td>0</td>\n",
       "      <td>1000</td>\n",
       "      <td>1000</td>\n",
       "      <td>1000</td>\n",
       "      <td>0</td>\n",
       "      <td>2000</td>\n",
       "      <td>1</td>\n",
       "    </tr>\n",
       "  </tbody>\n",
       "</table>\n",
       "<p>2 rows × 24 columns</p>\n",
       "</div>"
      ],
      "text/plain": [
       "   性別  最終学歴  結婚  支払状況_1ヵ月前  支払状況_2ヵ月前  支払状況_3ヵ月前  支払状況_4ヵ月前  支払状況_5ヵ月前  \\\n",
       "0   0     1   1          1          1          8          8          7   \n",
       "1   0     1   2          8          1          8          8          7   \n",
       "\n",
       "   支払状況_6ヵ月前  年齢  ...    請求額_4ヵ月前  請求額_5ヵ月前  請求額_6ヵ月前  支払額_1ヵ月前  支払額_2ヵ月前  \\\n",
       "0          7  24  ...           0         0         0         0       689   \n",
       "1          0  26  ...        3272      3455      3261         0      1000   \n",
       "\n",
       "   支払額_3ヵ月前  支払額_4ヵ月前  支払額_5ヵ月前  支払額_6ヵ月前  債務不履行  \n",
       "0         0         0         0         0      1  \n",
       "1      1000      1000         0      2000      1  \n",
       "\n",
       "[2 rows x 24 columns]"
      ]
     },
     "execution_count": 11,
     "metadata": {},
     "output_type": "execute_result"
    }
   ],
   "source": [
    "df_post_leenc.head(2)"
   ]
  },
  {
   "cell_type": "code",
   "execution_count": 12,
   "metadata": {},
   "outputs": [
    {
     "data": {
      "text/plain": [
       "(29931, 24)"
      ]
     },
     "execution_count": 12,
     "metadata": {},
     "output_type": "execute_result"
    }
   ],
   "source": [
    "df_post_leenc.shape"
   ]
  },
  {
   "cell_type": "markdown",
   "metadata": {},
   "source": [
    "### One-Hotエンコーディング"
   ]
  },
  {
   "cell_type": "code",
   "execution_count": 13,
   "metadata": {},
   "outputs": [
    {
     "data": {
      "text/plain": [
       "OneHotEncoder(categorical_features='all', dtype=<class 'numpy.float64'>,\n",
       "       handle_unknown='error', n_values='auto', sparse=True)"
      ]
     },
     "execution_count": 13,
     "metadata": {},
     "output_type": "execute_result"
    }
   ],
   "source": [
    "one_hot_encoder = OneHotEncoder()\n",
    "one_hot_encoder.fit(df_post_leenc.iloc[:,:9])"
   ]
  },
  {
   "cell_type": "code",
   "execution_count": 14,
   "metadata": {
    "collapsed": true
   },
   "outputs": [],
   "source": [
    "enc_data = one_hot_encoder.transform(df_post_leenc.iloc[:,:9]).toarray()"
   ]
  },
  {
   "cell_type": "code",
   "execution_count": 15,
   "metadata": {
    "collapsed": true
   },
   "outputs": [],
   "source": [
    "df_ohe = pd.DataFrame(enc_data)\n",
    "df_ohe.columns = enc_columns"
   ]
  },
  {
   "cell_type": "code",
   "execution_count": 16,
   "metadata": {},
   "outputs": [
    {
     "data": {
      "text/html": [
       "<div>\n",
       "<style>\n",
       "    .dataframe thead tr:only-child th {\n",
       "        text-align: right;\n",
       "    }\n",
       "\n",
       "    .dataframe thead th {\n",
       "        text-align: left;\n",
       "    }\n",
       "\n",
       "    .dataframe tbody tr th {\n",
       "        vertical-align: top;\n",
       "    }\n",
       "</style>\n",
       "<table border=\"1\" class=\"dataframe\">\n",
       "  <thead>\n",
       "    <tr style=\"text-align: right;\">\n",
       "      <th></th>\n",
       "      <th>性別_女</th>\n",
       "      <th>性別_男</th>\n",
       "      <th>最終学歴_その他</th>\n",
       "      <th>最終学歴_大学</th>\n",
       "      <th>最終学歴_大学院</th>\n",
       "      <th>最終学歴_高校</th>\n",
       "      <th>結婚_その他</th>\n",
       "      <th>結婚_既婚</th>\n",
       "      <th>結婚_未婚</th>\n",
       "      <th>支払状況_1ヵ月前_1ヵ月</th>\n",
       "      <th>...</th>\n",
       "      <th>支払状況_5ヵ月前_8ヵ月</th>\n",
       "      <th>支払状況_5ヵ月前_なし</th>\n",
       "      <th>支払状況_6ヵ月前_2ヵ月</th>\n",
       "      <th>支払状況_6ヵ月前_3ヵ月</th>\n",
       "      <th>支払状況_6ヵ月前_4ヵ月</th>\n",
       "      <th>支払状況_6ヵ月前_5ヵ月</th>\n",
       "      <th>支払状況_6ヵ月前_6ヵ月</th>\n",
       "      <th>支払状況_6ヵ月前_7ヵ月</th>\n",
       "      <th>支払状況_6ヵ月前_8ヵ月</th>\n",
       "      <th>支払状況_6ヵ月前_なし</th>\n",
       "    </tr>\n",
       "  </thead>\n",
       "  <tbody>\n",
       "    <tr>\n",
       "      <th>0</th>\n",
       "      <td>1.0</td>\n",
       "      <td>0.0</td>\n",
       "      <td>0.0</td>\n",
       "      <td>1.0</td>\n",
       "      <td>0.0</td>\n",
       "      <td>0.0</td>\n",
       "      <td>0.0</td>\n",
       "      <td>1.0</td>\n",
       "      <td>0.0</td>\n",
       "      <td>0.0</td>\n",
       "      <td>...</td>\n",
       "      <td>0.0</td>\n",
       "      <td>1.0</td>\n",
       "      <td>0.0</td>\n",
       "      <td>0.0</td>\n",
       "      <td>0.0</td>\n",
       "      <td>0.0</td>\n",
       "      <td>0.0</td>\n",
       "      <td>0.0</td>\n",
       "      <td>0.0</td>\n",
       "      <td>1.0</td>\n",
       "    </tr>\n",
       "  </tbody>\n",
       "</table>\n",
       "<p>1 rows × 61 columns</p>\n",
       "</div>"
      ],
      "text/plain": [
       "   性別_女  性別_男  最終学歴_その他  最終学歴_大学  最終学歴_大学院  最終学歴_高校  結婚_その他  結婚_既婚  結婚_未婚  \\\n",
       "0   1.0   0.0       0.0      1.0       0.0      0.0     0.0    1.0    0.0   \n",
       "\n",
       "   支払状況_1ヵ月前_1ヵ月      ...       支払状況_5ヵ月前_8ヵ月  支払状況_5ヵ月前_なし  支払状況_6ヵ月前_2ヵ月  \\\n",
       "0            0.0      ...                 0.0           1.0            0.0   \n",
       "\n",
       "   支払状況_6ヵ月前_3ヵ月  支払状況_6ヵ月前_4ヵ月  支払状況_6ヵ月前_5ヵ月  支払状況_6ヵ月前_6ヵ月  支払状況_6ヵ月前_7ヵ月  \\\n",
       "0            0.0            0.0            0.0            0.0            0.0   \n",
       "\n",
       "   支払状況_6ヵ月前_8ヵ月  支払状況_6ヵ月前_なし  \n",
       "0            0.0           1.0  \n",
       "\n",
       "[1 rows x 61 columns]"
      ]
     },
     "execution_count": 16,
     "metadata": {},
     "output_type": "execute_result"
    }
   ],
   "source": [
    "df_ohe.head(1)"
   ]
  },
  {
   "cell_type": "code",
   "execution_count": 17,
   "metadata": {},
   "outputs": [
    {
     "data": {
      "text/plain": [
       "(29931, 61)"
      ]
     },
     "execution_count": 17,
     "metadata": {},
     "output_type": "execute_result"
    }
   ],
   "source": [
    "df_ohe.shape"
   ]
  },
  {
   "cell_type": "code",
   "execution_count": 18,
   "metadata": {},
   "outputs": [
    {
     "data": {
      "text/plain": [
       "(29931, 14)"
      ]
     },
     "execution_count": 18,
     "metadata": {},
     "output_type": "execute_result"
    }
   ],
   "source": [
    "df_post_leenc.iloc[:,9:-1].shape"
   ]
  },
  {
   "cell_type": "code",
   "execution_count": 19,
   "metadata": {},
   "outputs": [
    {
     "data": {
      "text/plain": [
       "(29931,)"
      ]
     },
     "execution_count": 19,
     "metadata": {},
     "output_type": "execute_result"
    }
   ],
   "source": [
    "df_post_leenc.iloc[:,-1].shape"
   ]
  },
  {
   "cell_type": "code",
   "execution_count": 20,
   "metadata": {
    "collapsed": true
   },
   "outputs": [],
   "source": [
    "df_post_enc = pd.concat([df_post_leenc.iloc[:,9:-1],df_ohe,df_post_leenc.iloc[:,-1]],axis=1)"
   ]
  },
  {
   "cell_type": "code",
   "execution_count": 21,
   "metadata": {},
   "outputs": [
    {
     "data": {
      "text/html": [
       "<div>\n",
       "<style>\n",
       "    .dataframe thead tr:only-child th {\n",
       "        text-align: right;\n",
       "    }\n",
       "\n",
       "    .dataframe thead th {\n",
       "        text-align: left;\n",
       "    }\n",
       "\n",
       "    .dataframe tbody tr th {\n",
       "        vertical-align: top;\n",
       "    }\n",
       "</style>\n",
       "<table border=\"1\" class=\"dataframe\">\n",
       "  <thead>\n",
       "    <tr style=\"text-align: right;\">\n",
       "      <th></th>\n",
       "      <th>年齢</th>\n",
       "      <th>上限額</th>\n",
       "      <th>請求額_1ヵ月前</th>\n",
       "      <th>請求額_2ヵ月前</th>\n",
       "      <th>請求額_3ヵ月前</th>\n",
       "      <th>請求額_4ヵ月前</th>\n",
       "      <th>請求額_5ヵ月前</th>\n",
       "      <th>請求額_6ヵ月前</th>\n",
       "      <th>支払額_1ヵ月前</th>\n",
       "      <th>支払額_2ヵ月前</th>\n",
       "      <th>...</th>\n",
       "      <th>支払状況_5ヵ月前_なし</th>\n",
       "      <th>支払状況_6ヵ月前_2ヵ月</th>\n",
       "      <th>支払状況_6ヵ月前_3ヵ月</th>\n",
       "      <th>支払状況_6ヵ月前_4ヵ月</th>\n",
       "      <th>支払状況_6ヵ月前_5ヵ月</th>\n",
       "      <th>支払状況_6ヵ月前_6ヵ月</th>\n",
       "      <th>支払状況_6ヵ月前_7ヵ月</th>\n",
       "      <th>支払状況_6ヵ月前_8ヵ月</th>\n",
       "      <th>支払状況_6ヵ月前_なし</th>\n",
       "      <th>債務不履行</th>\n",
       "    </tr>\n",
       "  </thead>\n",
       "  <tbody>\n",
       "    <tr>\n",
       "      <th>0</th>\n",
       "      <td>24</td>\n",
       "      <td>20000</td>\n",
       "      <td>3913</td>\n",
       "      <td>3102</td>\n",
       "      <td>689</td>\n",
       "      <td>0</td>\n",
       "      <td>0</td>\n",
       "      <td>0</td>\n",
       "      <td>0</td>\n",
       "      <td>689</td>\n",
       "      <td>...</td>\n",
       "      <td>1.0</td>\n",
       "      <td>0.0</td>\n",
       "      <td>0.0</td>\n",
       "      <td>0.0</td>\n",
       "      <td>0.0</td>\n",
       "      <td>0.0</td>\n",
       "      <td>0.0</td>\n",
       "      <td>0.0</td>\n",
       "      <td>1.0</td>\n",
       "      <td>1</td>\n",
       "    </tr>\n",
       "    <tr>\n",
       "      <th>1</th>\n",
       "      <td>26</td>\n",
       "      <td>120000</td>\n",
       "      <td>2682</td>\n",
       "      <td>1725</td>\n",
       "      <td>2682</td>\n",
       "      <td>3272</td>\n",
       "      <td>3455</td>\n",
       "      <td>3261</td>\n",
       "      <td>0</td>\n",
       "      <td>1000</td>\n",
       "      <td>...</td>\n",
       "      <td>1.0</td>\n",
       "      <td>1.0</td>\n",
       "      <td>0.0</td>\n",
       "      <td>0.0</td>\n",
       "      <td>0.0</td>\n",
       "      <td>0.0</td>\n",
       "      <td>0.0</td>\n",
       "      <td>0.0</td>\n",
       "      <td>0.0</td>\n",
       "      <td>1</td>\n",
       "    </tr>\n",
       "    <tr>\n",
       "      <th>2</th>\n",
       "      <td>34</td>\n",
       "      <td>90000</td>\n",
       "      <td>29239</td>\n",
       "      <td>14027</td>\n",
       "      <td>13559</td>\n",
       "      <td>14331</td>\n",
       "      <td>14948</td>\n",
       "      <td>15549</td>\n",
       "      <td>1518</td>\n",
       "      <td>1500</td>\n",
       "      <td>...</td>\n",
       "      <td>1.0</td>\n",
       "      <td>0.0</td>\n",
       "      <td>0.0</td>\n",
       "      <td>0.0</td>\n",
       "      <td>0.0</td>\n",
       "      <td>0.0</td>\n",
       "      <td>0.0</td>\n",
       "      <td>0.0</td>\n",
       "      <td>1.0</td>\n",
       "      <td>0</td>\n",
       "    </tr>\n",
       "    <tr>\n",
       "      <th>3</th>\n",
       "      <td>37</td>\n",
       "      <td>50000</td>\n",
       "      <td>46990</td>\n",
       "      <td>48233</td>\n",
       "      <td>49291</td>\n",
       "      <td>28314</td>\n",
       "      <td>28959</td>\n",
       "      <td>29547</td>\n",
       "      <td>2000</td>\n",
       "      <td>2019</td>\n",
       "      <td>...</td>\n",
       "      <td>1.0</td>\n",
       "      <td>0.0</td>\n",
       "      <td>0.0</td>\n",
       "      <td>0.0</td>\n",
       "      <td>0.0</td>\n",
       "      <td>0.0</td>\n",
       "      <td>0.0</td>\n",
       "      <td>0.0</td>\n",
       "      <td>1.0</td>\n",
       "      <td>0</td>\n",
       "    </tr>\n",
       "    <tr>\n",
       "      <th>4</th>\n",
       "      <td>57</td>\n",
       "      <td>50000</td>\n",
       "      <td>8617</td>\n",
       "      <td>5670</td>\n",
       "      <td>35835</td>\n",
       "      <td>20940</td>\n",
       "      <td>19146</td>\n",
       "      <td>19131</td>\n",
       "      <td>2000</td>\n",
       "      <td>36681</td>\n",
       "      <td>...</td>\n",
       "      <td>1.0</td>\n",
       "      <td>0.0</td>\n",
       "      <td>0.0</td>\n",
       "      <td>0.0</td>\n",
       "      <td>0.0</td>\n",
       "      <td>0.0</td>\n",
       "      <td>0.0</td>\n",
       "      <td>0.0</td>\n",
       "      <td>1.0</td>\n",
       "      <td>0</td>\n",
       "    </tr>\n",
       "  </tbody>\n",
       "</table>\n",
       "<p>5 rows × 76 columns</p>\n",
       "</div>"
      ],
      "text/plain": [
       "   年齢     上限額  請求額_1ヵ月前  請求額_2ヵ月前  請求額_3ヵ月前  請求額_4ヵ月前  請求額_5ヵ月前  請求額_6ヵ月前  \\\n",
       "0  24   20000      3913      3102       689         0         0         0   \n",
       "1  26  120000      2682      1725      2682      3272      3455      3261   \n",
       "2  34   90000     29239     14027     13559     14331     14948     15549   \n",
       "3  37   50000     46990     48233     49291     28314     28959     29547   \n",
       "4  57   50000      8617      5670     35835     20940     19146     19131   \n",
       "\n",
       "   支払額_1ヵ月前  支払額_2ヵ月前  ...    支払状況_5ヵ月前_なし  支払状況_6ヵ月前_2ヵ月  支払状況_6ヵ月前_3ヵ月  \\\n",
       "0         0       689  ...             1.0            0.0            0.0   \n",
       "1         0      1000  ...             1.0            1.0            0.0   \n",
       "2      1518      1500  ...             1.0            0.0            0.0   \n",
       "3      2000      2019  ...             1.0            0.0            0.0   \n",
       "4      2000     36681  ...             1.0            0.0            0.0   \n",
       "\n",
       "   支払状況_6ヵ月前_4ヵ月  支払状況_6ヵ月前_5ヵ月  支払状況_6ヵ月前_6ヵ月  支払状況_6ヵ月前_7ヵ月  支払状況_6ヵ月前_8ヵ月  \\\n",
       "0            0.0            0.0            0.0            0.0            0.0   \n",
       "1            0.0            0.0            0.0            0.0            0.0   \n",
       "2            0.0            0.0            0.0            0.0            0.0   \n",
       "3            0.0            0.0            0.0            0.0            0.0   \n",
       "4            0.0            0.0            0.0            0.0            0.0   \n",
       "\n",
       "   支払状況_6ヵ月前_なし  債務不履行  \n",
       "0           1.0      1  \n",
       "1           0.0      1  \n",
       "2           1.0      0  \n",
       "3           1.0      0  \n",
       "4           1.0      0  \n",
       "\n",
       "[5 rows x 76 columns]"
      ]
     },
     "execution_count": 21,
     "metadata": {},
     "output_type": "execute_result"
    }
   ],
   "source": [
    "df_post_enc.head(5)"
   ]
  },
  {
   "cell_type": "code",
   "execution_count": 22,
   "metadata": {},
   "outputs": [
    {
     "data": {
      "text/plain": [
       "(29931, 76)"
      ]
     },
     "execution_count": 22,
     "metadata": {},
     "output_type": "execute_result"
    }
   ],
   "source": [
    "df_post_enc.shape"
   ]
  },
  {
   "cell_type": "markdown",
   "metadata": {},
   "source": [
    "### 標準化"
   ]
  },
  {
   "cell_type": "code",
   "execution_count": 23,
   "metadata": {
    "collapsed": true
   },
   "outputs": [],
   "source": [
    "sc = StandardScaler()"
   ]
  },
  {
   "cell_type": "code",
   "execution_count": 24,
   "metadata": {},
   "outputs": [
    {
     "data": {
      "text/plain": [
       "StandardScaler(copy=True, with_mean=True, with_std=True)"
      ]
     },
     "execution_count": 24,
     "metadata": {},
     "output_type": "execute_result"
    }
   ],
   "source": [
    "sc.fit(df_post_enc.iloc[:,:-1])"
   ]
  },
  {
   "cell_type": "code",
   "execution_count": 25,
   "metadata": {
    "collapsed": true
   },
   "outputs": [],
   "source": [
    "df_post_sc = pd.DataFrame(sc.transform(df_post_enc.iloc[:,:-1]))"
   ]
  },
  {
   "cell_type": "markdown",
   "metadata": {},
   "source": [
    "### 主成分分析"
   ]
  },
  {
   "cell_type": "markdown",
   "metadata": {},
   "source": [
    "#### 主成分の探索"
   ]
  },
  {
   "cell_type": "code",
   "execution_count": 26,
   "metadata": {
    "collapsed": true
   },
   "outputs": [],
   "source": [
    "pca = []\n",
    "num_components = np.arange(1, len(df_post_sc.columns)+1)\n",
    "cnt = 0\n",
    "list_pca = np.empty((0,2))"
   ]
  },
  {
   "cell_type": "code",
   "execution_count": 27,
   "metadata": {
    "collapsed": true
   },
   "outputs": [],
   "source": [
    "for i in num_components:\n",
    "    pca = np.append(pca,PCA(n_components = i))\n",
    "    pca[cnt].fit(df_post_sc)\n",
    "    list_pca = np.append(list_pca, np.array([[i, pca[cnt].explained_variance_ratio_.sum()]]), axis = 0)\n",
    "    cnt += 1"
   ]
  },
  {
   "cell_type": "code",
   "execution_count": 28,
   "metadata": {
    "scrolled": true
   },
   "outputs": [
    {
     "data": {
      "text/plain": [
       "array([[  1.        ,   0.09470553],\n",
       "       [  2.        ,   0.17410375],\n",
       "       [  3.        ,   0.22854136],\n",
       "       [  4.        ,   0.27456209],\n",
       "       [  5.        ,   0.31445114],\n",
       "       [  6.        ,   0.35037095],\n",
       "       [  7.        ,   0.38289318],\n",
       "       [  8.        ,   0.41481818],\n",
       "       [  9.        ,   0.44188829],\n",
       "       [ 10.        ,   0.46857642],\n",
       "       [ 11.        ,   0.49471768],\n",
       "       [ 12.        ,   0.52033401],\n",
       "       [ 13.        ,   0.54472931],\n",
       "       [ 14.        ,   0.56941549],\n",
       "       [ 15.        ,   0.59002449],\n",
       "       [ 16.        ,   0.60959418],\n",
       "       [ 17.        ,   0.6296095 ],\n",
       "       [ 18.        ,   0.64759043],\n",
       "       [ 19.        ,   0.66504774],\n",
       "       [ 20.        ,   0.68099991],\n",
       "       [ 21.        ,   0.69627909],\n",
       "       [ 22.        ,   0.71040125],\n",
       "       [ 23.        ,   0.72419851],\n",
       "       [ 24.        ,   0.73785844],\n",
       "       [ 25.        ,   0.75109604],\n",
       "       [ 26.        ,   0.76374908],\n",
       "       [ 27.        ,   0.77635498],\n",
       "       [ 28.        ,   0.78856176],\n",
       "       [ 29.        ,   0.80032587],\n",
       "       [ 30.        ,   0.81203235],\n",
       "       [ 31.        ,   0.82279017],\n",
       "       [ 32.        ,   0.83370542],\n",
       "       [ 33.        ,   0.84436932],\n",
       "       [ 34.        ,   0.85472205],\n",
       "       [ 35.        ,   0.86465887],\n",
       "       [ 36.        ,   0.87429663],\n",
       "       [ 37.        ,   0.88402783],\n",
       "       [ 38.        ,   0.89329905],\n",
       "       [ 39.        ,   0.90226083],\n",
       "       [ 40.        ,   0.91099827],\n",
       "       [ 41.        ,   0.9193698 ],\n",
       "       [ 42.        ,   0.92680528],\n",
       "       [ 43.        ,   0.93404735],\n",
       "       [ 44.        ,   0.94076224],\n",
       "       [ 45.        ,   0.94724722],\n",
       "       [ 46.        ,   0.95342687],\n",
       "       [ 47.        ,   0.95892749],\n",
       "       [ 48.        ,   0.96429342],\n",
       "       [ 49.        ,   0.96928674],\n",
       "       [ 50.        ,   0.97380269],\n",
       "       [ 51.        ,   0.97756027],\n",
       "       [ 52.        ,   0.98119073],\n",
       "       [ 53.        ,   0.98458609],\n",
       "       [ 54.        ,   0.98769701],\n",
       "       [ 55.        ,   0.99040257],\n",
       "       [ 56.        ,   0.99275502],\n",
       "       [ 57.        ,   0.99472175],\n",
       "       [ 58.        ,   0.99616331],\n",
       "       [ 59.        ,   0.9971056 ],\n",
       "       [ 60.        ,   0.99779972],\n",
       "       [ 61.        ,   0.99841433],\n",
       "       [ 62.        ,   0.99896012],\n",
       "       [ 63.        ,   0.99929716],\n",
       "       [ 64.        ,   0.99960625],\n",
       "       [ 65.        ,   0.99987013],\n",
       "       [ 66.        ,   1.        ],\n",
       "       [ 67.        ,   1.        ],\n",
       "       [ 68.        ,   1.        ],\n",
       "       [ 69.        ,   1.        ],\n",
       "       [ 70.        ,   1.        ],\n",
       "       [ 71.        ,   1.        ],\n",
       "       [ 72.        ,   1.        ],\n",
       "       [ 73.        ,   1.        ],\n",
       "       [ 74.        ,   1.        ],\n",
       "       [ 75.        ,   1.        ]])"
      ]
     },
     "execution_count": 28,
     "metadata": {},
     "output_type": "execute_result"
    }
   ],
   "source": [
    "list_pca"
   ]
  },
  {
   "cell_type": "markdown",
   "metadata": {},
   "source": [
    "39くらいの主成分数が良いという結果に。"
   ]
  },
  {
   "cell_type": "markdown",
   "metadata": {},
   "source": [
    "#### 最適な主成分数での主成分分析結果を利用"
   ]
  },
  {
   "cell_type": "code",
   "execution_count": 29,
   "metadata": {
    "collapsed": true
   },
   "outputs": [],
   "source": [
    "best_pca = pca[38]"
   ]
  },
  {
   "cell_type": "code",
   "execution_count": 30,
   "metadata": {
    "collapsed": true
   },
   "outputs": [],
   "source": [
    "X = best_pca.transform(df_post_sc) #特徴変数の決定"
   ]
  },
  {
   "cell_type": "code",
   "execution_count": 31,
   "metadata": {
    "collapsed": true
   },
   "outputs": [],
   "source": [
    "y = df_post_enc.iloc[:,-1].values"
   ]
  },
  {
   "cell_type": "markdown",
   "metadata": {},
   "source": [
    "## 最適なモデルを探索"
   ]
  },
  {
   "cell_type": "code",
   "execution_count": 32,
   "metadata": {
    "collapsed": true
   },
   "outputs": [],
   "source": [
    "param_grid = {'C':[0.0001,0.001,0.01,0.1,1,10,100,1000,10000],'penalty':['l1','l2']}"
   ]
  },
  {
   "cell_type": "code",
   "execution_count": 33,
   "metadata": {
    "collapsed": true
   },
   "outputs": [],
   "source": [
    "clf_lr = LogisticRegression()"
   ]
  },
  {
   "cell_type": "code",
   "execution_count": 34,
   "metadata": {
    "collapsed": true
   },
   "outputs": [],
   "source": [
    "scorer = make_scorer(score_func=recall_score,pos_label=1)"
   ]
  },
  {
   "cell_type": "code",
   "execution_count": 35,
   "metadata": {
    "collapsed": true
   },
   "outputs": [],
   "source": [
    "gs = GridSearchCV(estimator=clf_lr,\n",
    "                  param_grid=param_grid,\n",
    "                  cv=10,\n",
    "                  scoring=scorer,\n",
    "                  n_jobs=-1)"
   ]
  },
  {
   "cell_type": "code",
   "execution_count": 36,
   "metadata": {},
   "outputs": [
    {
     "data": {
      "text/plain": [
       "GridSearchCV(cv=10, error_score='raise',\n",
       "       estimator=LogisticRegression(C=1.0, class_weight=None, dual=False, fit_intercept=True,\n",
       "          intercept_scaling=1, max_iter=100, multi_class='ovr', n_jobs=1,\n",
       "          penalty='l2', random_state=None, solver='liblinear', tol=0.0001,\n",
       "          verbose=0, warm_start=False),\n",
       "       fit_params={}, iid=True, n_jobs=-1,\n",
       "       param_grid={'C': [0.0001, 0.001, 0.01, 0.1, 1, 10, 100, 1000, 10000], 'penalty': ['l1', 'l2']},\n",
       "       pre_dispatch='2*n_jobs', refit=True, return_train_score=True,\n",
       "       scoring=make_scorer(recall_score, pos_label=1), verbose=0)"
      ]
     },
     "execution_count": 36,
     "metadata": {},
     "output_type": "execute_result"
    }
   ],
   "source": [
    "gs.fit(X=X,y=y)"
   ]
  },
  {
   "cell_type": "markdown",
   "metadata": {},
   "source": [
    "## 最適なモデルの評価の算出"
   ]
  },
  {
   "cell_type": "code",
   "execution_count": 37,
   "metadata": {},
   "outputs": [
    {
     "data": {
      "text/plain": [
       "0.55610654631343381"
      ]
     },
     "execution_count": 37,
     "metadata": {},
     "output_type": "execute_result"
    }
   ],
   "source": [
    "gs.best_score_"
   ]
  },
  {
   "cell_type": "code",
   "execution_count": 38,
   "metadata": {
    "collapsed": true
   },
   "outputs": [],
   "source": [
    "best_model = gs.best_estimator_"
   ]
  },
  {
   "cell_type": "markdown",
   "metadata": {},
   "source": [
    "## ※オプション課題"
   ]
  },
  {
   "cell_type": "markdown",
   "metadata": {},
   "source": [
    "以下の内容を実装してください。"
   ]
  },
  {
   "cell_type": "markdown",
   "metadata": {},
   "source": [
    "- 必要なデータのシリアライズ\n",
    "- 新たなノートブックファイルの作成\n",
    "- 「クレジットカード_予測用.csv」を使い、新たな特徴変数から、債務不履行が起こるかどうかを予測"
   ]
  }
 ],
 "metadata": {
  "anaconda-cloud": {},
  "kernelspec": {
   "display_name": "Python 3",
   "language": "python",
   "name": "python3"
  },
  "language_info": {
   "codemirror_mode": {
    "name": "ipython",
    "version": 3
   },
   "file_extension": ".py",
   "mimetype": "text/x-python",
   "name": "python",
   "nbconvert_exporter": "python",
   "pygments_lexer": "ipython3",
   "version": "3.6.1"
  }
 },
 "nbformat": 4,
 "nbformat_minor": 1
}
