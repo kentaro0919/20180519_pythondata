{
 "cells": [
  {
   "cell_type": "markdown",
   "metadata": {},
   "source": [
    "# 実習1　分類"
   ]
  },
  {
   "cell_type": "markdown",
   "metadata": {},
   "source": [
    "## 実習概要"
   ]
  },
  {
   "cell_type": "markdown",
   "metadata": {},
   "source": [
    "scikit-learnのライブラリを使用して、以下の操作を習得します。"
   ]
  },
  {
   "cell_type": "markdown",
   "metadata": {},
   "source": [
    "- ロジスティック回帰による分類\n",
    "- ランダムフォレストによる分類\n",
    "- 最適な評価指標によるモデル評価"
   ]
  },
  {
   "cell_type": "markdown",
   "metadata": {},
   "source": [
    "※セルは適宜追加してください。"
   ]
  },
  {
   "cell_type": "markdown",
   "metadata": {},
   "source": [
    "## データ概要"
   ]
  },
  {
   "cell_type": "markdown",
   "metadata": {},
   "source": [
    "- クレジットカード.csv"
   ]
  },
  {
   "cell_type": "markdown",
   "metadata": {},
   "source": [
    "    C:\\PyML\\exercise\\1.Classifier\\クレジットカード.csv"
   ]
  },
  {
   "cell_type": "markdown",
   "metadata": {},
   "source": [
    "    あなたはクレジットカード会社A社の運用担当です。将来的に債務不履行を起こす予兆があるユーザーを事前に把握し、アプローチしていきたいと考えています。"
   ]
  },
  {
   "cell_type": "markdown",
   "metadata": {},
   "source": [
    "|列名|意味|\n",
    "|:--|:--|\n",
    "|性別、最終学歴など|クレジットカード利用者のユーザー情報|\n",
    "|支払状況|過去の滞納情報。「なし」=滞納なし、「Nヶ月」=Nヶ月滞納。|\n",
    "|請求額|クレジットカード会社からの請求額|\n",
    "|支払額|クレジットカード会社からの貸し出し額|\n",
    "|債務不履行|当月の債務不履行の発生有無（1が債務不履行あり、0が債務不履行なし）|"
   ]
  },
  {
   "cell_type": "markdown",
   "metadata": {},
   "source": [
    "## 事前準備"
   ]
  },
  {
   "cell_type": "markdown",
   "metadata": {},
   "source": [
    "### ライブラリのインポート"
   ]
  },
  {
   "cell_type": "markdown",
   "metadata": {},
   "source": [
    "※必要であれば、ライブラリを追加インポートしてください"
   ]
  },
  {
   "cell_type": "code",
   "execution_count": null,
   "metadata": {
    "collapsed": true
   },
   "outputs": [],
   "source": [
    "import numpy as np\n",
    "import pandas as pd"
   ]
  },
  {
   "cell_type": "markdown",
   "metadata": {},
   "source": [
    "### ファイルの読み込み"
   ]
  },
  {
   "cell_type": "code",
   "execution_count": null,
   "metadata": {
    "collapsed": true
   },
   "outputs": [],
   "source": [
    "df = pd.read_csv('クレジットカード.csv',encoding='shift_jis',engine='python')"
   ]
  },
  {
   "cell_type": "code",
   "execution_count": null,
   "metadata": {
    "collapsed": true
   },
   "outputs": [],
   "source": [
    "df.head(3)"
   ]
  },
  {
   "cell_type": "markdown",
   "metadata": {},
   "source": [
    "## データ加工"
   ]
  },
  {
   "cell_type": "markdown",
   "metadata": {},
   "source": [
    "### 欠損値削除"
   ]
  },
  {
   "cell_type": "code",
   "execution_count": null,
   "metadata": {
    "collapsed": true
   },
   "outputs": [],
   "source": [
    "df_post_drop = df.dropna()"
   ]
  },
  {
   "cell_type": "code",
   "execution_count": null,
   "metadata": {
    "collapsed": true
   },
   "outputs": [],
   "source": [
    "df_post_drop.shape"
   ]
  },
  {
   "cell_type": "code",
   "execution_count": null,
   "metadata": {
    "collapsed": true
   },
   "outputs": [],
   "source": [
    "df_post_drop = df_post_drop.reset_index(drop=True) # indexの振りなおしをしないと、後でconcatする際、正しく結合されないので注意"
   ]
  },
  {
   "cell_type": "code",
   "execution_count": null,
   "metadata": {
    "collapsed": true
   },
   "outputs": [],
   "source": [
    "df_post_drop.head(1)"
   ]
  },
  {
   "cell_type": "markdown",
   "metadata": {},
   "source": [
    "### ホールドアウト法で分割"
   ]
  },
  {
   "cell_type": "markdown",
   "metadata": {},
   "source": [
    "※本演習では、特徴変数としては、数値データを指定してください。"
   ]
  },
  {
   "cell_type": "code",
   "execution_count": null,
   "metadata": {
    "collapsed": true
   },
   "outputs": [],
   "source": []
  },
  {
   "cell_type": "markdown",
   "metadata": {},
   "source": [
    "## 学習、評価"
   ]
  },
  {
   "cell_type": "markdown",
   "metadata": {},
   "source": [
    "下記の手法を使用して予測モデルを作成し、評価してください。"
   ]
  },
  {
   "cell_type": "markdown",
   "metadata": {},
   "source": [
    "- ロジスティック回帰（正則化弱め ※C=10以上）\n",
    "- ロジスティック回帰（L1正則化強め ※C=1以下）\n",
    "- ロジスティック回帰（L2正則化強め ※C=1以下）\n",
    "- ランダムフォレスト"
   ]
  },
  {
   "cell_type": "code",
   "execution_count": null,
   "metadata": {
    "collapsed": true
   },
   "outputs": [],
   "source": []
  }
 ],
 "metadata": {
  "anaconda-cloud": {},
  "kernelspec": {
   "display_name": "Python 3",
   "language": "python",
   "name": "python3"
  },
  "language_info": {
   "codemirror_mode": {
    "name": "ipython",
    "version": 3
   },
   "file_extension": ".py",
   "mimetype": "text/x-python",
   "name": "python",
   "nbconvert_exporter": "python",
   "pygments_lexer": "ipython3",
   "version": "3.6.1"
  }
 },
 "nbformat": 4,
 "nbformat_minor": 1
}
