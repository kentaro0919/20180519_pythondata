{
 "cells": [
  {
   "cell_type": "markdown",
   "metadata": {},
   "source": [
    "K-Means法"
   ]
  },
  {
   "cell_type": "markdown",
   "metadata": {},
   "source": [
    "# ライブラリのインポート"
   ]
  },
  {
   "cell_type": "code",
   "execution_count": null,
   "metadata": {
    "collapsed": true
   },
   "outputs": [],
   "source": [
    "import numpy as np\n",
    "import pandas as pd\n",
    "import matplotlib.pyplot as plt\n",
    "from sklearn.cluster import KMeans"
   ]
  },
  {
   "cell_type": "markdown",
   "metadata": {},
   "source": [
    "# ファイルの読み込み"
   ]
  },
  {
   "cell_type": "code",
   "execution_count": null,
   "metadata": {},
   "outputs": [],
   "source": [
    "df = pd.read_csv('demo5_sjis.csv', encoding='shift_jis') #demo5_sjis.csvファイルを読み込み(Shift-JIS形式)\n",
    "df.head() #データの確認"
   ]
  },
  {
   "cell_type": "markdown",
   "metadata": {},
   "source": [
    "# K-Means法を呼び出し"
   ]
  },
  {
   "cell_type": "code",
   "execution_count": null,
   "metadata": {
    "collapsed": true
   },
   "outputs": [],
   "source": [
    "kmeans = KMeans(n_clusters=3)            #K-means法の呼び出し（クラスタ数は3を指定）"
   ]
  },
  {
   "cell_type": "markdown",
   "metadata": {},
   "source": [
    "# K-meansの適用"
   ]
  },
  {
   "cell_type": "code",
   "execution_count": null,
   "metadata": {
    "collapsed": true
   },
   "outputs": [],
   "source": [
    "kmeans = kmeans.fit(X=df.iloc[:, 1:3])  #滞在時間と購入金額を対象データに指定して適用"
   ]
  },
  {
   "cell_type": "markdown",
   "metadata": {},
   "source": [
    "# 要約の準備"
   ]
  },
  {
   "cell_type": "code",
   "execution_count": null,
   "metadata": {},
   "outputs": [],
   "source": [
    "df['クラスタ番号'] = kmeans.labels_        #元のデータフレームに、「クラスタ番号」列を追加\n",
    "df.head()                               #データの確認"
   ]
  },
  {
   "cell_type": "markdown",
   "metadata": {},
   "source": [
    "# クラスタの特徴を確認"
   ]
  },
  {
   "cell_type": "code",
   "execution_count": null,
   "metadata": {},
   "outputs": [],
   "source": [
    "df['クラスタ番号'].value_counts() #各クラスタに所属する個体数を出力"
   ]
  },
  {
   "cell_type": "code",
   "execution_count": null,
   "metadata": {},
   "outputs": [],
   "source": [
    "df.groupby('クラスタ番号')['滞在時間', '購入金額'].mean() #各クラスタの平均（重心）を出力\n",
    "#kmeans.cluster_centers_"
   ]
  },
  {
   "cell_type": "markdown",
   "metadata": {
    "collapsed": true
   },
   "source": [
    "# クラスタの特徴を可視化する"
   ]
  },
  {
   "cell_type": "markdown",
   "metadata": {},
   "source": [
    "### 滞在時間と購入金額の散布図を、クラスタ番号で色分けする"
   ]
  },
  {
   "cell_type": "code",
   "execution_count": null,
   "metadata": {
    "collapsed": true
   },
   "outputs": [],
   "source": [
    "fig = plt.figure()                     #グラフ描画用オブジェクトを生成\n",
    "ax = fig.add_subplot(1, 1, 1)          #グラフの描画位置を指定"
   ]
  },
  {
   "cell_type": "code",
   "execution_count": null,
   "metadata": {},
   "outputs": [],
   "source": [
    "#クラスタ番号別に、グラフの描写方法(パラメータの設定)と利用データを指定\n",
    "df[df['クラスタ番号']==0].plot(x='滞在時間', y='購入金額', kind='scatter', ax=ax, color='r', alpha=0.5)\n",
    "df[df['クラスタ番号']==1].plot(x='滞在時間', y='購入金額', kind='scatter', ax=ax, color='b', alpha=0.5)\n",
    "df[df['クラスタ番号']==2].plot(x='滞在時間', y='購入金額', kind='scatter', ax=ax, color='g', alpha=0.5)"
   ]
  },
  {
   "cell_type": "code",
   "execution_count": null,
   "metadata": {},
   "outputs": [],
   "source": [
    "plt.legend([0, 1, 2]) #ラベルの指定"
   ]
  },
  {
   "cell_type": "code",
   "execution_count": null,
   "metadata": {},
   "outputs": [],
   "source": [
    "plt.show()            #グラフ描写"
   ]
  },
  {
   "cell_type": "markdown",
   "metadata": {},
   "source": [
    "### 各クラスタのお客様は、どの時間帯に来店しているか、積み上げ棒グラフで確認する"
   ]
  },
  {
   "cell_type": "code",
   "execution_count": null,
   "metadata": {},
   "outputs": [],
   "source": [
    "#クラスタ番号別、時間帯別の平均購入金額を集計\n",
    "bar_data = df.pivot_table('購入金額', aggfunc='mean', index='クラスタ番号', columns='時間帯')\n",
    "bar_data.head()"
   ]
  },
  {
   "cell_type": "code",
   "execution_count": null,
   "metadata": {
    "collapsed": true
   },
   "outputs": [],
   "source": [
    "fig = plt.figure()                                      #グラフ描画用オブジェクトを生成\n",
    "ax = fig.add_subplot(1, 1, 1)                           #グラフの描画位置を指定"
   ]
  },
  {
   "cell_type": "code",
   "execution_count": null,
   "metadata": {},
   "outputs": [],
   "source": [
    "bar_data.plot(kind='bar', ax=ax, stacked=True)          #グラフの描写方法(パラメータの設定)と利用データを指定"
   ]
  },
  {
   "cell_type": "code",
   "execution_count": null,
   "metadata": {},
   "outputs": [],
   "source": [
    "plt.legend(bbox_to_anchor=(1.4, 1))                     #詳細な描写設定（bbox_to_anchor:凡例の表示位置の指定）"
   ]
  },
  {
   "cell_type": "code",
   "execution_count": null,
   "metadata": {},
   "outputs": [],
   "source": [
    "plt.show()                                              #グラフ描写"
   ]
  },
  {
   "cell_type": "code",
   "execution_count": null,
   "metadata": {
    "collapsed": true
   },
   "outputs": [],
   "source": []
  }
 ],
 "metadata": {
  "anaconda-cloud": {},
  "kernelspec": {
   "display_name": "Python 3",
   "language": "python",
   "name": "python3"
  },
  "language_info": {
   "codemirror_mode": {
    "name": "ipython",
    "version": 3
   },
   "file_extension": ".py",
   "mimetype": "text/x-python",
   "name": "python",
   "nbconvert_exporter": "python",
   "pygments_lexer": "ipython3",
   "version": "3.6.1"
  }
 },
 "nbformat": 4,
 "nbformat_minor": 2
}
