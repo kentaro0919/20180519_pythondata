{
 "cells": [
  {
   "cell_type": "markdown",
   "metadata": {},
   "source": [
    "基本統計量、折れ線グラフ、散布図"
   ]
  },
  {
   "cell_type": "markdown",
   "metadata": {},
   "source": [
    "# ライブラリのインポート"
   ]
  },
  {
   "cell_type": "code",
   "execution_count": null,
   "metadata": {
    "collapsed": true
   },
   "outputs": [],
   "source": [
    "import numpy as np\n",
    "import pandas as pd\n",
    "import matplotlib.pyplot as plt"
   ]
  },
  {
   "cell_type": "markdown",
   "metadata": {},
   "source": [
    "# ファイル読み込み"
   ]
  },
  {
   "cell_type": "code",
   "execution_count": null,
   "metadata": {},
   "outputs": [],
   "source": [
    "df = pd.read_csv('demo2_sjis.csv', encoding='shift_jis') #demo2_sjis.csvファイルを読み込み(Shift-JIS形式)\n",
    "df.head()                                                #データの確認"
   ]
  },
  {
   "cell_type": "markdown",
   "metadata": {},
   "source": [
    "# 基本統計量"
   ]
  },
  {
   "cell_type": "code",
   "execution_count": null,
   "metadata": {},
   "outputs": [],
   "source": [
    "df.describe() #主要な基本統計量を算出"
   ]
  },
  {
   "cell_type": "code",
   "execution_count": null,
   "metadata": {},
   "outputs": [],
   "source": [
    "df['レシートNo']=df['レシートNo'].astype(np.object_) #「レシートNo」列をObject型に変換\n",
    "df.describe() #主要な基本統計量を算出"
   ]
  },
  {
   "cell_type": "markdown",
   "metadata": {},
   "source": [
    "# 基本統計量を個別に求める"
   ]
  },
  {
   "cell_type": "code",
   "execution_count": null,
   "metadata": {},
   "outputs": [],
   "source": [
    "grouped_df=df.groupby('レシートNo')['合計金額'].sum() #レシートNo別の合計金額を集計\n",
    "grouped_df.head()                                  #データの確認"
   ]
  },
  {
   "cell_type": "code",
   "execution_count": null,
   "metadata": {},
   "outputs": [],
   "source": [
    "grouped_df.mean()                                 #平均だけ算出"
   ]
  },
  {
   "cell_type": "code",
   "execution_count": null,
   "metadata": {},
   "outputs": [],
   "source": [
    "grouped_df.std()                                  #標準偏差だけ算出"
   ]
  },
  {
   "cell_type": "code",
   "execution_count": null,
   "metadata": {},
   "outputs": [],
   "source": [
    "grouped_df.min()                                  #最小値だけ算出"
   ]
  },
  {
   "cell_type": "code",
   "execution_count": null,
   "metadata": {},
   "outputs": [],
   "source": [
    "grouped_df.median()                               #中央値だけ算出"
   ]
  },
  {
   "cell_type": "code",
   "execution_count": null,
   "metadata": {},
   "outputs": [],
   "source": [
    "grouped_df.quantile(0.25)                         #第1四分位数だけ算出"
   ]
  },
  {
   "cell_type": "code",
   "execution_count": null,
   "metadata": {},
   "outputs": [],
   "source": [
    "grouped_df.quantile(0.75)                         #第3四分位数だけ算出"
   ]
  },
  {
   "cell_type": "code",
   "execution_count": null,
   "metadata": {},
   "outputs": [],
   "source": [
    "grouped_df.max()                                  #最大値だけ算出"
   ]
  },
  {
   "cell_type": "markdown",
   "metadata": {},
   "source": [
    "# 相関係数"
   ]
  },
  {
   "cell_type": "code",
   "execution_count": null,
   "metadata": {},
   "outputs": [],
   "source": [
    "df.head()    #データの確認"
   ]
  },
  {
   "cell_type": "code",
   "execution_count": null,
   "metadata": {},
   "outputs": [],
   "source": [
    "#レシートNo、商品大分類別の合計金額を集計(空白要素には0を代入)\n",
    "sctdf=df.pivot_table('合計金額', fill_value=0, index='レシートNo', columns='商品大分類')       \n",
    "sctdf.head()"
   ]
  },
  {
   "cell_type": "code",
   "execution_count": null,
   "metadata": {},
   "outputs": [],
   "source": [
    "sctdf.corr() #商品大分類の売上の相関行列を算出"
   ]
  },
  {
   "cell_type": "code",
   "execution_count": null,
   "metadata": {},
   "outputs": [],
   "source": [
    "sctdf.loc[:, ['肉類', '野菜・海藻']].corr() #肉類と野菜・海藻類の売上の相関係数を算出"
   ]
  },
  {
   "cell_type": "markdown",
   "metadata": {},
   "source": [
    "# 折れ線グラフ"
   ]
  },
  {
   "cell_type": "markdown",
   "metadata": {},
   "source": [
    "商品大分類ごとに、売り上げの推移をみる"
   ]
  },
  {
   "cell_type": "code",
   "execution_count": null,
   "metadata": {},
   "outputs": [],
   "source": [
    "df.head()                           #データの確認"
   ]
  },
  {
   "cell_type": "code",
   "execution_count": null,
   "metadata": {
    "collapsed": true
   },
   "outputs": [],
   "source": [
    "#年月、商品大分類別の合計金額を集計\n",
    "line_df = df.pivot_table('合計金額', aggfunc='sum', index='年月', columns='商品大分類') "
   ]
  },
  {
   "cell_type": "code",
   "execution_count": null,
   "metadata": {
    "collapsed": true
   },
   "outputs": [],
   "source": [
    "fig = plt.figure(figsize=(8, 4))    #グラフ描画用オブジェクトを生成(figsizeオプションにより、グラフサイズを指定)"
   ]
  },
  {
   "cell_type": "code",
   "execution_count": null,
   "metadata": {
    "collapsed": true
   },
   "outputs": [],
   "source": [
    "ax = fig.add_subplot(1, 1, 1)       #グラフの描画位置を指定"
   ]
  },
  {
   "cell_type": "code",
   "execution_count": null,
   "metadata": {},
   "outputs": [],
   "source": [
    "line_df.plot(ax=ax)                 #グラフの描写方法(パラメータの設定)と利用データを指定"
   ]
  },
  {
   "cell_type": "code",
   "execution_count": null,
   "metadata": {},
   "outputs": [],
   "source": [
    "plt.show()                          #グラフ描写"
   ]
  },
  {
   "cell_type": "markdown",
   "metadata": {},
   "source": [
    "# 散布図"
   ]
  },
  {
   "cell_type": "markdown",
   "metadata": {},
   "source": [
    "### 野菜・海藻の売れ行きと、魚介類の売り上げには関係性がありそうかどうかを確認する"
   ]
  },
  {
   "cell_type": "code",
   "execution_count": null,
   "metadata": {},
   "outputs": [],
   "source": [
    "df.head() #データの確認"
   ]
  },
  {
   "cell_type": "code",
   "execution_count": null,
   "metadata": {},
   "outputs": [],
   "source": [
    "#レシートNo、商品大分類別の合計金額を集計(空白要素には0を代入)\n",
    "sctdf = df.pivot_table('合計金額', aggfunc='sum', fill_value=0, index='レシートNo', columns='商品大分類')              \n",
    "sctdf.head()"
   ]
  },
  {
   "cell_type": "code",
   "execution_count": null,
   "metadata": {
    "collapsed": true
   },
   "outputs": [],
   "source": [
    "fig = plt.figure()                                         #グラフ描画用オブジェクトを生成\n",
    "ax = fig.add_subplot(1, 1, 1)                              #グラフの描画位置を指定"
   ]
  },
  {
   "cell_type": "code",
   "execution_count": null,
   "metadata": {},
   "outputs": [],
   "source": [
    "sctdf.plot(x='野菜・海藻', y='魚介類', kind='scatter', ax=ax) #グラフの描写方法(パラメータの設定)と利用データを指定"
   ]
  },
  {
   "cell_type": "code",
   "execution_count": null,
   "metadata": {},
   "outputs": [],
   "source": [
    "plt.show()                                                #グラフ描写"
   ]
  },
  {
   "cell_type": "markdown",
   "metadata": {},
   "source": [
    "同様のことを、週末（金、土、日）と、それ以外で傾向に違いがあるかを確認する"
   ]
  },
  {
   "cell_type": "code",
   "execution_count": null,
   "metadata": {
    "collapsed": true
   },
   "outputs": [],
   "source": [
    "#「曜日」列が、「5_金曜日」,「6_土曜日」,「7_日曜日」か(週末)、それ以外か(週末以外)でデータを分割\n",
    "df1 = df.loc[df['曜日'].isin(['5_金曜日', '6_土曜日', '7_日曜日']), :]   \n",
    "df2 = df.loc[~df['曜日'].isin(['5_金曜日', '6_土曜日', '7_日曜日']), :]  "
   ]
  },
  {
   "cell_type": "code",
   "execution_count": null,
   "metadata": {
    "collapsed": true
   },
   "outputs": [],
   "source": [
    "#週末のデータと週末以外のデータにおける、レシートNo、商品大分類別の合計金額を集計(空白要素には0を代入)\n",
    "sctdf1 = df1.pivot_table('合計金額', aggfunc='sum', fill_value=0, index='レシートNo', columns='商品大分類')   \n",
    "sctdf2 = df2.pivot_table('合計金額', aggfunc='sum', fill_value=0, index='レシートNo', columns='商品大分類')"
   ]
  },
  {
   "cell_type": "code",
   "execution_count": null,
   "metadata": {
    "collapsed": true
   },
   "outputs": [],
   "source": [
    "fig = plt.figure()              #グラフ描画用オブジェクトを生成\n",
    "ax = fig.add_subplot(1, 1, 1)   #グラフの描画位置を指定"
   ]
  },
  {
   "cell_type": "code",
   "execution_count": null,
   "metadata": {},
   "outputs": [],
   "source": [
    "#グラフの描写方法(パラメータの設定)と利用データを指定(週末のデータは赤色に、それ以外のデータは青色で表示)\n",
    "sctdf1.plot(x='野菜・海藻', y='魚介類', kind='scatter', ax=ax, color='r')\n",
    "sctdf2.plot(x='野菜・海藻', y='魚介類', kind='scatter', ax=ax, color='b', alpha=0.5) "
   ]
  },
  {
   "cell_type": "code",
   "execution_count": null,
   "metadata": {},
   "outputs": [],
   "source": [
    "ax.legend(['週末', '週末以外'])　 #凡例表示"
   ]
  },
  {
   "cell_type": "code",
   "execution_count": null,
   "metadata": {},
   "outputs": [],
   "source": [
    "plt.show()                      #グラフ描写"
   ]
  }
 ],
 "metadata": {
  "anaconda-cloud": {},
  "kernelspec": {
   "display_name": "Python 3",
   "language": "python",
   "name": "python3"
  },
  "language_info": {
   "codemirror_mode": {
    "name": "ipython",
    "version": 3
   },
   "file_extension": ".py",
   "mimetype": "text/x-python",
   "name": "python",
   "nbconvert_exporter": "python",
   "pygments_lexer": "ipython3",
   "version": "3.6.1"
  }
 },
 "nbformat": 4,
 "nbformat_minor": 2
}
