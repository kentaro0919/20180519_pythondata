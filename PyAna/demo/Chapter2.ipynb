{
 "cells": [
  {
   "cell_type": "markdown",
   "metadata": {},
   "source": [
    "# ライブラリのインポート"
   ]
  },
  {
   "cell_type": "code",
   "execution_count": 17,
   "metadata": {
    "collapsed": true
   },
   "outputs": [],
   "source": [
    "import numpy as np\n",
    "import pandas as pd"
   ]
  },
  {
   "cell_type": "markdown",
   "metadata": {},
   "source": [
    "# ファイル読み込み"
   ]
  },
  {
   "cell_type": "code",
   "execution_count": 18,
   "metadata": {
    "collapsed": true
   },
   "outputs": [],
   "source": [
    "df = pd.read_csv('demo1_sjis.csv', encoding='shift_jis') #demo1_sjis.csvファイルを読み込み(Shift-JIS形式)"
   ]
  },
  {
   "cell_type": "code",
   "execution_count": 19,
   "metadata": {},
   "outputs": [
    {
     "data": {
      "text/html": [
       "<div>\n",
       "<style>\n",
       "    .dataframe thead tr:only-child th {\n",
       "        text-align: right;\n",
       "    }\n",
       "\n",
       "    .dataframe thead th {\n",
       "        text-align: left;\n",
       "    }\n",
       "\n",
       "    .dataframe tbody tr th {\n",
       "        vertical-align: top;\n",
       "    }\n",
       "</style>\n",
       "<table border=\"1\" class=\"dataframe\">\n",
       "  <thead>\n",
       "    <tr style=\"text-align: right;\">\n",
       "      <th></th>\n",
       "      <th>従業員ID</th>\n",
       "      <th>等級</th>\n",
       "      <th>性別</th>\n",
       "      <th>所属本部</th>\n",
       "      <th>所属部</th>\n",
       "      <th>残業時間</th>\n",
       "      <th>評価点</th>\n",
       "    </tr>\n",
       "  </thead>\n",
       "  <tbody>\n",
       "    <tr>\n",
       "      <th>0</th>\n",
       "      <td>10304</td>\n",
       "      <td>1</td>\n",
       "      <td>男</td>\n",
       "      <td>管理本部</td>\n",
       "      <td>情報システム部</td>\n",
       "      <td>6.2</td>\n",
       "      <td>28</td>\n",
       "    </tr>\n",
       "    <tr>\n",
       "      <th>1</th>\n",
       "      <td>10342</td>\n",
       "      <td>2</td>\n",
       "      <td>女</td>\n",
       "      <td>管理本部</td>\n",
       "      <td>情報システム部</td>\n",
       "      <td>8.0</td>\n",
       "      <td>33</td>\n",
       "    </tr>\n",
       "    <tr>\n",
       "      <th>2</th>\n",
       "      <td>10831</td>\n",
       "      <td>2</td>\n",
       "      <td>男</td>\n",
       "      <td>管理本部</td>\n",
       "      <td>情報システム部</td>\n",
       "      <td>0.0</td>\n",
       "      <td>39</td>\n",
       "    </tr>\n",
       "    <tr>\n",
       "      <th>3</th>\n",
       "      <td>10578</td>\n",
       "      <td>2</td>\n",
       "      <td>男</td>\n",
       "      <td>管理本部</td>\n",
       "      <td>情報システム部</td>\n",
       "      <td>7.8</td>\n",
       "      <td>28</td>\n",
       "    </tr>\n",
       "    <tr>\n",
       "      <th>4</th>\n",
       "      <td>10991</td>\n",
       "      <td>2</td>\n",
       "      <td>男</td>\n",
       "      <td>管理本部</td>\n",
       "      <td>情報システム部</td>\n",
       "      <td>9.9</td>\n",
       "      <td>27</td>\n",
       "    </tr>\n",
       "  </tbody>\n",
       "</table>\n",
       "</div>"
      ],
      "text/plain": [
       "   従業員ID  等級 性別  所属本部      所属部  残業時間  評価点\n",
       "0  10304   1  男  管理本部  情報システム部   6.2   28\n",
       "1  10342   2  女  管理本部  情報システム部   8.0   33\n",
       "2  10831   2  男  管理本部  情報システム部   0.0   39\n",
       "3  10578   2  男  管理本部  情報システム部   7.8   28\n",
       "4  10991   2  男  管理本部  情報システム部   9.9   27"
      ]
     },
     "execution_count": 19,
     "metadata": {},
     "output_type": "execute_result"
    }
   ],
   "source": [
    "df.head()  #先頭5行の抽出"
   ]
  },
  {
   "cell_type": "markdown",
   "metadata": {},
   "source": [
    "# ファイル書き出し"
   ]
  },
  {
   "cell_type": "code",
   "execution_count": 20,
   "metadata": {
    "collapsed": true
   },
   "outputs": [],
   "source": [
    "df.to_csv('new_data.csv', index=False) #new_data.csvファイルに書き込み（インデックスは書き込み対象外）"
   ]
  },
  {
   "cell_type": "markdown",
   "metadata": {},
   "source": [
    "# データフレームの取り扱い"
   ]
  },
  {
   "cell_type": "code",
   "execution_count": 21,
   "metadata": {},
   "outputs": [
    {
     "data": {
      "text/plain": [
       "(229, 7)"
      ]
     },
     "execution_count": 21,
     "metadata": {},
     "output_type": "execute_result"
    }
   ],
   "source": [
    "df.shape   #行数、列数の出力"
   ]
  },
  {
   "cell_type": "code",
   "execution_count": 22,
   "metadata": {},
   "outputs": [
    {
     "data": {
      "text/plain": [
       "Index(['従業員ID', '等級', '性別', '所属本部', '所属部', '残業時間', '評価点'], dtype='object')"
      ]
     },
     "execution_count": 22,
     "metadata": {},
     "output_type": "execute_result"
    }
   ],
   "source": [
    "df.columns #列名の出力"
   ]
  },
  {
   "cell_type": "code",
   "execution_count": 23,
   "metadata": {},
   "outputs": [
    {
     "data": {
      "text/plain": [
       "RangeIndex(start=0, stop=229, step=1)"
      ]
     },
     "execution_count": 23,
     "metadata": {},
     "output_type": "execute_result"
    }
   ],
   "source": [
    "df.index   #インデックス名(行名)の出力"
   ]
  },
  {
   "cell_type": "code",
   "execution_count": 24,
   "metadata": {},
   "outputs": [
    {
     "data": {
      "text/plain": [
       "従業員ID      int64\n",
       "等級         int64\n",
       "性別        object\n",
       "所属本部      object\n",
       "所属部       object\n",
       "残業時間     float64\n",
       "評価点        int64\n",
       "dtype: object"
      ]
     },
     "execution_count": 24,
     "metadata": {},
     "output_type": "execute_result"
    }
   ],
   "source": [
    "df.dtypes  #データ型の出力"
   ]
  },
  {
   "cell_type": "markdown",
   "metadata": {},
   "source": [
    "# データ型の変換"
   ]
  },
  {
   "cell_type": "code",
   "execution_count": 25,
   "metadata": {
    "collapsed": true
   },
   "outputs": [],
   "source": [
    "df[['従業員ID', '等級']]=df[['従業員ID', '等級']].astype(np.object_) #「従業員」列と「等級」列をobject型に変換"
   ]
  },
  {
   "cell_type": "code",
   "execution_count": 26,
   "metadata": {},
   "outputs": [
    {
     "data": {
      "text/plain": [
       "従業員ID     object\n",
       "等級        object\n",
       "性別        object\n",
       "所属本部      object\n",
       "所属部       object\n",
       "残業時間     float64\n",
       "評価点        int64\n",
       "dtype: object"
      ]
     },
     "execution_count": 26,
     "metadata": {},
     "output_type": "execute_result"
    }
   ],
   "source": [
    "df.dtypes #変換したデータの出力"
   ]
  },
  {
   "cell_type": "markdown",
   "metadata": {},
   "source": [
    "# データ抽出"
   ]
  },
  {
   "cell_type": "code",
   "execution_count": 27,
   "metadata": {},
   "outputs": [
    {
     "data": {
      "text/html": [
       "<div>\n",
       "<style>\n",
       "    .dataframe thead tr:only-child th {\n",
       "        text-align: right;\n",
       "    }\n",
       "\n",
       "    .dataframe thead th {\n",
       "        text-align: left;\n",
       "    }\n",
       "\n",
       "    .dataframe tbody tr th {\n",
       "        vertical-align: top;\n",
       "    }\n",
       "</style>\n",
       "<table border=\"1\" class=\"dataframe\">\n",
       "  <thead>\n",
       "    <tr style=\"text-align: right;\">\n",
       "      <th></th>\n",
       "      <th>従業員ID</th>\n",
       "      <th>等級</th>\n",
       "      <th>性別</th>\n",
       "      <th>所属本部</th>\n",
       "      <th>所属部</th>\n",
       "      <th>残業時間</th>\n",
       "      <th>評価点</th>\n",
       "    </tr>\n",
       "  </thead>\n",
       "  <tbody>\n",
       "    <tr>\n",
       "      <th>0</th>\n",
       "      <td>10304</td>\n",
       "      <td>1</td>\n",
       "      <td>男</td>\n",
       "      <td>管理本部</td>\n",
       "      <td>情報システム部</td>\n",
       "      <td>6.2</td>\n",
       "      <td>28</td>\n",
       "    </tr>\n",
       "    <tr>\n",
       "      <th>1</th>\n",
       "      <td>10342</td>\n",
       "      <td>2</td>\n",
       "      <td>女</td>\n",
       "      <td>管理本部</td>\n",
       "      <td>情報システム部</td>\n",
       "      <td>8.0</td>\n",
       "      <td>33</td>\n",
       "    </tr>\n",
       "    <tr>\n",
       "      <th>2</th>\n",
       "      <td>10831</td>\n",
       "      <td>2</td>\n",
       "      <td>男</td>\n",
       "      <td>管理本部</td>\n",
       "      <td>情報システム部</td>\n",
       "      <td>0.0</td>\n",
       "      <td>39</td>\n",
       "    </tr>\n",
       "    <tr>\n",
       "      <th>3</th>\n",
       "      <td>10578</td>\n",
       "      <td>2</td>\n",
       "      <td>男</td>\n",
       "      <td>管理本部</td>\n",
       "      <td>情報システム部</td>\n",
       "      <td>7.8</td>\n",
       "      <td>28</td>\n",
       "    </tr>\n",
       "    <tr>\n",
       "      <th>4</th>\n",
       "      <td>10991</td>\n",
       "      <td>2</td>\n",
       "      <td>男</td>\n",
       "      <td>管理本部</td>\n",
       "      <td>情報システム部</td>\n",
       "      <td>9.9</td>\n",
       "      <td>27</td>\n",
       "    </tr>\n",
       "  </tbody>\n",
       "</table>\n",
       "</div>"
      ],
      "text/plain": [
       "   従業員ID 等級 性別  所属本部      所属部  残業時間  評価点\n",
       "0  10304  1  男  管理本部  情報システム部   6.2   28\n",
       "1  10342  2  女  管理本部  情報システム部   8.0   33\n",
       "2  10831  2  男  管理本部  情報システム部   0.0   39\n",
       "3  10578  2  男  管理本部  情報システム部   7.8   28\n",
       "4  10991  2  男  管理本部  情報システム部   9.9   27"
      ]
     },
     "execution_count": 27,
     "metadata": {},
     "output_type": "execute_result"
    }
   ],
   "source": [
    "df.head()                                          #先頭5行の抽出"
   ]
  },
  {
   "cell_type": "code",
   "execution_count": 31,
   "metadata": {},
   "outputs": [
    {
     "data": {
      "text/plain": [
       "10304"
      ]
     },
     "execution_count": 31,
     "metadata": {},
     "output_type": "execute_result"
    }
   ],
   "source": [
    "df.iloc[0, 0]                                      #特定の行列の抽出（インデックス、列ともに番号で指定）"
   ]
  },
  {
   "cell_type": "code",
   "execution_count": 32,
   "metadata": {},
   "outputs": [
    {
     "data": {
      "text/plain": [
       "10304"
      ]
     },
     "execution_count": 32,
     "metadata": {},
     "output_type": "execute_result"
    }
   ],
   "source": [
    "df.loc[0, '従業員ID']                               #特定の行列の抽出（インデックスは番号、列は名前で指定）"
   ]
  },
  {
   "cell_type": "code",
   "execution_count": 33,
   "metadata": {},
   "outputs": [
    {
     "data": {
      "text/plain": [
       "0      男\n",
       "1      女\n",
       "2      男\n",
       "3      男\n",
       "4      男\n",
       "5      女\n",
       "6      男\n",
       "7      男\n",
       "8      男\n",
       "9      男\n",
       "10     男\n",
       "11     男\n",
       "12     男\n",
       "13     男\n",
       "14     男\n",
       "15     男\n",
       "16     女\n",
       "17     男\n",
       "18     女\n",
       "19     女\n",
       "20     女\n",
       "21     女\n",
       "22     男\n",
       "23     女\n",
       "24     女\n",
       "25     女\n",
       "26     女\n",
       "27     女\n",
       "28     女\n",
       "29     女\n",
       "      ..\n",
       "199    男\n",
       "200    男\n",
       "201    男\n",
       "202    男\n",
       "203    男\n",
       "204    男\n",
       "205    男\n",
       "206    男\n",
       "207    男\n",
       "208    男\n",
       "209    男\n",
       "210    男\n",
       "211    男\n",
       "212    男\n",
       "213    男\n",
       "214    男\n",
       "215    男\n",
       "216    男\n",
       "217    男\n",
       "218    男\n",
       "219    男\n",
       "220    男\n",
       "221    男\n",
       "222    男\n",
       "223    男\n",
       "224    男\n",
       "225    女\n",
       "226    男\n",
       "227    男\n",
       "228    男\n",
       "Name: 性別, Length: 229, dtype: object"
      ]
     },
     "execution_count": 33,
     "metadata": {},
     "output_type": "execute_result"
    }
   ],
   "source": [
    "df.iloc[:, 2]                                      #特定の列の抽出（列番号で指定）"
   ]
  },
  {
   "cell_type": "code",
   "execution_count": 34,
   "metadata": {},
   "outputs": [
    {
     "data": {
      "text/plain": [
       "0      男\n",
       "1      女\n",
       "2      男\n",
       "3      男\n",
       "4      男\n",
       "5      女\n",
       "6      男\n",
       "7      男\n",
       "8      男\n",
       "9      男\n",
       "10     男\n",
       "11     男\n",
       "12     男\n",
       "13     男\n",
       "14     男\n",
       "15     男\n",
       "16     女\n",
       "17     男\n",
       "18     女\n",
       "19     女\n",
       "20     女\n",
       "21     女\n",
       "22     男\n",
       "23     女\n",
       "24     女\n",
       "25     女\n",
       "26     女\n",
       "27     女\n",
       "28     女\n",
       "29     女\n",
       "      ..\n",
       "199    男\n",
       "200    男\n",
       "201    男\n",
       "202    男\n",
       "203    男\n",
       "204    男\n",
       "205    男\n",
       "206    男\n",
       "207    男\n",
       "208    男\n",
       "209    男\n",
       "210    男\n",
       "211    男\n",
       "212    男\n",
       "213    男\n",
       "214    男\n",
       "215    男\n",
       "216    男\n",
       "217    男\n",
       "218    男\n",
       "219    男\n",
       "220    男\n",
       "221    男\n",
       "222    男\n",
       "223    男\n",
       "224    男\n",
       "225    女\n",
       "226    男\n",
       "227    男\n",
       "228    男\n",
       "Name: 性別, Length: 229, dtype: object"
      ]
     },
     "execution_count": 34,
     "metadata": {},
     "output_type": "execute_result"
    }
   ],
   "source": [
    "df['性別']                                          #特定の列の抽出（列名で指定）"
   ]
  },
  {
   "cell_type": "code",
   "execution_count": 35,
   "metadata": {},
   "outputs": [
    {
     "data": {
      "text/plain": [
       "従業員ID      10578\n",
       "等級             2\n",
       "性別             男\n",
       "所属本部        管理本部\n",
       "所属部      情報システム部\n",
       "残業時間         7.8\n",
       "評価点           28\n",
       "Name: 3, dtype: object"
      ]
     },
     "execution_count": 35,
     "metadata": {},
     "output_type": "execute_result"
    }
   ],
   "source": [
    "df.iloc[3, :]                                      #特定の行の抽出(インデックス番号で指定)"
   ]
  },
  {
   "cell_type": "code",
   "execution_count": null,
   "metadata": {
    "collapsed": true
   },
   "outputs": [],
   "source": [
    "df.iloc[[225, 227], 4:6]                           #特定の複数行列の指定(非連続の2行をインデックス番号で指定し、連続する2列を列番号で指定)"
   ]
  },
  {
   "cell_type": "code",
   "execution_count": null,
   "metadata": {
    "collapsed": true
   },
   "outputs": [],
   "source": [
    "df[df['所属部']=='総務部']                           #「所属部」列が総務部の行を抽出"
   ]
  },
  {
   "cell_type": "code",
   "execution_count": null,
   "metadata": {
    "collapsed": true
   },
   "outputs": [],
   "source": [
    "df2 = df[df['残業時間']>=60]                        #「残業時間」列が60以上の行を抽出し、df2に代入\n",
    "df2.head()                                         #df2の先頭5行を抽出"
   ]
  },
  {
   "cell_type": "code",
   "execution_count": null,
   "metadata": {
    "collapsed": true
   },
   "outputs": [],
   "source": [
    "df[(df['所属本部']=='営業本部') & (df['評価点']>80)]  #「所属本部」列が営業本部、かつ、「評価点」列が80より上の行を抽出"
   ]
  },
  {
   "cell_type": "code",
   "execution_count": null,
   "metadata": {
    "collapsed": true
   },
   "outputs": [],
   "source": [
    "df.loc[df['等級']==1, :].iloc[:, 0:3]              #「等級」列が1の行の1~3列目を抽出"
   ]
  },
  {
   "cell_type": "markdown",
   "metadata": {},
   "source": [
    "# 行列の追加と削除"
   ]
  },
  {
   "cell_type": "code",
   "execution_count": null,
   "metadata": {
    "collapsed": true
   },
   "outputs": [],
   "source": [
    "df.head()                    #先頭5行の抽出"
   ]
  },
  {
   "cell_type": "code",
   "execution_count": null,
   "metadata": {
    "collapsed": true
   },
   "outputs": [],
   "source": [
    "df['new_col']=range(len(df)) #「new_col」列を新規追加（dfの行数分、値を追加）\n",
    "df.head()                    #先頭5行の抽出"
   ]
  },
  {
   "cell_type": "code",
   "execution_count": null,
   "metadata": {
    "collapsed": true
   },
   "outputs": [],
   "source": [
    "df=df.drop('new_col', axis=1) #「new_col」列の削除(列削除の場合は、axisに1を指定)\n",
    "df.head()                     #先頭5行の抽出"
   ]
  },
  {
   "cell_type": "markdown",
   "metadata": {},
   "source": [
    "# データの集計"
   ]
  },
  {
   "cell_type": "markdown",
   "metadata": {},
   "source": [
    "### 集計"
   ]
  },
  {
   "cell_type": "code",
   "execution_count": null,
   "metadata": {
    "collapsed": true
   },
   "outputs": [],
   "source": [
    "df['所属部'].value_counts()                       #所属部別のデータの個数（人数）をカウント"
   ]
  },
  {
   "cell_type": "code",
   "execution_count": null,
   "metadata": {
    "collapsed": true
   },
   "outputs": [],
   "source": [
    "df['評価点'].value_counts(bins=10, sort=False)    #評価点別のデータの個数(人数)をカウント（評価点の変量を離散化）"
   ]
  },
  {
   "cell_type": "markdown",
   "metadata": {},
   "source": [
    "### グループ化"
   ]
  },
  {
   "cell_type": "code",
   "execution_count": null,
   "metadata": {
    "collapsed": true
   },
   "outputs": [],
   "source": [
    "df.head() #先頭5行の抽出"
   ]
  },
  {
   "cell_type": "code",
   "execution_count": null,
   "metadata": {
    "collapsed": true
   },
   "outputs": [],
   "source": [
    "df.groupby('所属部')['残業時間', '評価点'].mean()                       #所属部別の平均残業時間と平均評価点を集計"
   ]
  },
  {
   "cell_type": "code",
   "execution_count": null,
   "metadata": {
    "collapsed": true
   },
   "outputs": [],
   "source": [
    "df2=df.groupby('所属部').agg({'残業時間':[np.sum], '評価点':[np.mean]}) #所属部別の合計残業時間と、平均評価点を集計\n",
    "df2\n",
    "\n",
    "#以下の記述でも実行可\n",
    "#df2=df.groupby('所属部').agg({'残業時間':['sum'], '評価点':['mean']})"
   ]
  },
  {
   "cell_type": "markdown",
   "metadata": {},
   "source": [
    "参考"
   ]
  },
  {
   "cell_type": "code",
   "execution_count": null,
   "metadata": {
    "collapsed": true
   },
   "outputs": [],
   "source": [
    "df2.columns=['残業時間合計', '評価点平均']       #df2の列名を変更\n",
    "df2                                          "
   ]
  },
  {
   "cell_type": "markdown",
   "metadata": {},
   "source": [
    "### ピボットテーブル"
   ]
  },
  {
   "cell_type": "code",
   "execution_count": null,
   "metadata": {
    "collapsed": true
   },
   "outputs": [],
   "source": [
    "df.head() #先頭5行の抽出"
   ]
  },
  {
   "cell_type": "code",
   "execution_count": null,
   "metadata": {
    "collapsed": true
   },
   "outputs": [],
   "source": [
    "df.pivot_table('従業員ID', aggfunc='count', index='所属部', columns='等級') #所属部、等級別の従業員IDをカウント"
   ]
  },
  {
   "cell_type": "code",
   "execution_count": null,
   "metadata": {
    "collapsed": true
   },
   "outputs": [],
   "source": [
    "df.pivot_table('残業時間', index='所属部', columns='等級')                  #所属部、等級別の平均残業時間を集計"
   ]
  },
  {
   "cell_type": "code",
   "execution_count": null,
   "metadata": {
    "collapsed": true
   },
   "outputs": [],
   "source": [
    "df.pivot_table('残業時間', aggfunc='sum', index='所属部', columns='等級')   #所属部、等級別の合計残業時間を集計"
   ]
  }
 ],
 "metadata": {
  "anaconda-cloud": {},
  "kernelspec": {
   "display_name": "Python 3",
   "language": "python",
   "name": "python3"
  },
  "language_info": {
   "codemirror_mode": {
    "name": "ipython",
    "version": 3
   },
   "file_extension": ".py",
   "mimetype": "text/x-python",
   "name": "python",
   "nbconvert_exporter": "python",
   "pygments_lexer": "ipython3",
   "version": "3.6.1"
  }
 },
 "nbformat": 4,
 "nbformat_minor": 2
}
