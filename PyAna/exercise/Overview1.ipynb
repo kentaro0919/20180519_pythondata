{
 "cells": [
  {
   "cell_type": "markdown",
   "metadata": {},
   "source": [
    "## 実習で使用するデータの概要"
   ]
  },
  {
   "cell_type": "markdown",
   "metadata": {},
   "source": [
    "|ファイル名|使用箇所|テーマ|概要|出典|\n",
    "|:--|:--|:--|:--|:--|\n",
    "|exercise2-3_sjis.csv|exercise2、exercise3|集計、加工、要約|コンビニデータ|株式会社富士通ラーニングメディア（以降、当社）で用意|\n",
    "|exercise4_sjis.csv、exercise4_predict_sjis.csv|exercise4|分類|ワインデータ|次のデータを基に、当社で編集。P. Cortez, A. Cerdeira, F. Almeida, T. Matos and J. Reis. Modeling wine preferences by data mining from physicochemical properties. In Decision Support Systems, Elsevier, 47(4):547-553, 2009. https://archive.ics.uci.edu/ml/datasets/Wine+Quality |\n",
    "|exercise5_sjis.csv|exercise5|クラスタリング|弁当屋データ|次のデータを基に、当社で編集。Abreu, N. (2011). Analise do perfil do cliente Recheio e desenvolvimento de um sistema promocional. Mestrado em Marketing, ISCTE-IUL, Lisbon https://archive.ics.uci.edu/ml/datasets/Wholesale+customers |\n",
    "|工業用液体データ.csv|チャレンジ演習|全テーマ|センサーデータ|当社で用意。一部、Open Weather Map（ https://openweathermap.org/ ）から収集したデータを編集。|"
   ]
  },
  {
   "cell_type": "markdown",
   "metadata": {},
   "source": [
    "### 「exercise2-3_sjis.csv」の概要\n",
    "- コンビニエンスストアにおける販売データ\n",
    "\n",
    "|列名|備考|\n",
    "|:--|:--|\n",
    "|注文番号|レシートを一意に識別するための番号|\n",
    "|店舗名|種類は「01A」「02B」「03C」|\n",
    "|来店曜日|種類は「01月」「02火」「03水」「04木」「05金」「06土」「07日」|\n",
    "|来店時間帯|種類は「01朝」「02日中」「03夜間」|\n",
    "|滞留時間|来店してから購入するまでの時間（単位：秒）。未購入者は含まれない|\n",
    "|性別|種類は「01男」「02女」|\n",
    "|年齢層|種類は「01小児」「02中高生」「03青年」「04中年」「05壮年」|\n",
    "|年齢||\n",
    "|合計金額||\n",
    "|フラグ|種類は「0」「1」。キャンペーン対象商品を購入したかどうかのフラグ。0は購入なし、1は購入あり|"
   ]
  },
  {
   "cell_type": "markdown",
   "metadata": {},
   "source": [
    "### 「exercise4_sjis.csv」、「exercise4_predict_sjis.csv」の概要\n",
    "#### ※「exercise4_predict_sjis.csv」には、「ランク」列はありません。\n",
    "- ワインのランクデータ\n",
    "\n",
    "|列名|備考|\n",
    "|:--|:--|\n",
    "|不揮発酸濃度||\n",
    "|揮発酸濃度||\n",
    "|クエン酸濃度||\n",
    "|残留糖分濃度||\n",
    "|塩化ナトリウム濃度||\n",
    "|遊離亜硫酸濃度||\n",
    "|総亜硫酸濃度||\n",
    "|密度||\n",
    "|pH||\n",
    "|硫酸カリウム濃度||\n",
    "|アルコール度数||\n",
    "|ランク|ワインの味のランク。種類は「A」「B」「C」「D」（Aは最高、Bは高、Cは低、Dは最低）|"
   ]
  },
  {
   "cell_type": "markdown",
   "metadata": {},
   "source": [
    "### 「exercise5_sjis.csv」の概要\n",
    "- 弁当屋（商品は弁当と惣菜）フランチャイズの販売データ\n",
    "\n",
    "|列名|備考|\n",
    "|:--|:--|\n",
    "|注文番号||\n",
    "|店舗種別|種類は「一般」「自然食」|\n",
    "|地域|種類は「東京」「愛知」「大阪」|\n",
    "|惣菜販売額||\n",
    "|弁当販売額||"
   ]
  },
  {
   "cell_type": "markdown",
   "metadata": {},
   "source": [
    "### 「工業用液体データ.csv」の概要\n",
    "- 液体の品質データ（以下の2点を集約）\n",
    "    - 製造現場において、熟練工が品質評価したデータ\n",
    "    - センサーから得られた様々なデータを、指標値に変換したデータ\n",
    "\n",
    "|列名|備考|\n",
    "|:--|:--|\n",
    "|年月日||\n",
    "|時刻||\n",
    "|品質|種類は「A」「B」「C」。製造現場で、熟練工がつけた品質評価（Aは良、Bは可、Cは不可）|\n",
    "|温度1||\n",
    "|温度2||\n",
    "|温度3||\n",
    "|粘度||\n",
    "|水圧||\n",
    "|濁度||\n",
    "|加速度||\n",
    "|照射時間||\n",
    "|鉄分||\n",
    "|ナトリウム||\n",
    "|残留塩素濃度||\n",
    "|酸素飽和度||"
   ]
  }
 ],
 "metadata": {
  "anaconda-cloud": {},
  "kernelspec": {
   "display_name": "Python 3",
   "language": "python",
   "name": "python3"
  },
  "language_info": {
   "codemirror_mode": {
    "name": "ipython",
    "version": 3
   },
   "file_extension": ".py",
   "mimetype": "text/x-python",
   "name": "python",
   "nbconvert_exporter": "python",
   "pygments_lexer": "ipython3",
   "version": "3.6.1"
  }
 },
 "nbformat": 4,
 "nbformat_minor": 1
}
