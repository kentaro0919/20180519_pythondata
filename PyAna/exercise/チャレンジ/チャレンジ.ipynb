{
 "cells": [
  {
   "cell_type": "markdown",
   "metadata": {},
   "source": [
    "# チャレンジ演習"
   ]
  },
  {
   "cell_type": "markdown",
   "metadata": {},
   "source": [
    "本実習は、これまでの実習内容の復習用のまとめ問題です。具体的な分析の流れは各自で考え、進めてください。"
   ]
  },
  {
   "cell_type": "markdown",
   "metadata": {},
   "source": [
    "## シナリオ\n",
    "F社は、製品の製造過程で、ある液体を扱っています。この液体の品質により、加工物（出荷物）の品質にも影響が及びます。液体の品質にばらつきが大きく、加工物の欠品が多いことが課題となっています。\n",
    "液体の品質向上に向けた活動の一環として、「熟練工による、液体の品質評価の記録」と「様々なセンサーによる、液体に関連する特性の収集」を始めました。\n",
    "品質向上のための施策を考案するために、データを分析します。"
   ]
  },
  {
   "cell_type": "markdown",
   "metadata": {},
   "source": [
    "## 使用するデータ\n",
    "- ファイル名：「工業用液体データ.csv」（文字コード：「Shift-JIS」）"
   ]
  },
  {
   "cell_type": "markdown",
   "metadata": {},
   "source": [
    "※本演習には、特に解答はありません。自由に分析し、これまで学習した各種ライブラリの使い方を確認してください。"
   ]
  }
 ],
 "metadata": {
  "anaconda-cloud": {},
  "kernelspec": {
   "display_name": "Python 3",
   "language": "python",
   "name": "python3"
  },
  "language_info": {
   "codemirror_mode": {
    "name": "ipython",
    "version": 3
   },
   "file_extension": ".py",
   "mimetype": "text/x-python",
   "name": "python",
   "nbconvert_exporter": "python",
   "pygments_lexer": "ipython3",
   "version": "3.5.2"
  }
 },
 "nbformat": 4,
 "nbformat_minor": 1
}
