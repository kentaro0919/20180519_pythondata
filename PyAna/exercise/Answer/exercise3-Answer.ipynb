{
 "cells": [
  {
   "cell_type": "markdown",
   "metadata": {},
   "source": [
    "# 実習3　データの要約"
   ]
  },
  {
   "cell_type": "markdown",
   "metadata": {},
   "source": [
    "## 実習概要\n",
    "Pandasライブラリ、Matplotlibを使用して、以下の操作を習得します。\n",
    "- 基本統計量の算出\n",
    "- 棒グラフ、帯グラフの作成\n",
    "- 散布図の作成"
   ]
  },
  {
   "cell_type": "markdown",
   "metadata": {},
   "source": [
    "## 事前準備\n",
    "Jupyter Notebookが起動していない場合、「C:\\PyAna」フォルダで、Jupyter Notebookを起動します。コマンドは以下です。\n",
    "> cd C:\\PyAna\n",
    "\n",
    "> jupyter notebook"
   ]
  },
  {
   "cell_type": "markdown",
   "metadata": {},
   "source": [
    "## 実習の流れ"
   ]
  },
  {
   "cell_type": "markdown",
   "metadata": {},
   "source": [
    "### 1. 「exercise」フォルダに移動し、ノートブックを起動します（ノートブック名：「exercise3」）。"
   ]
  },
  {
   "cell_type": "markdown",
   "metadata": {},
   "source": [
    "### 2. 以下のライブラリをインポートします。\n",
    "- numPy\n",
    "- pandas\n",
    "- matplotlib.pyplot"
   ]
  },
  {
   "cell_type": "code",
   "execution_count": 1,
   "metadata": {
    "collapsed": true
   },
   "outputs": [],
   "source": [
    "import numpy as np\n",
    "import pandas as pd\n",
    "import matplotlib.pyplot as plt"
   ]
  },
  {
   "cell_type": "markdown",
   "metadata": {},
   "source": [
    "### 3. 以下のファイルをデータフレームとして読み込みます。データフレーム名は任意です。\n",
    "- ファイル名：「exercise2-3_sjis.csv」（文字コード：「Shift-JIS」）"
   ]
  },
  {
   "cell_type": "code",
   "execution_count": 2,
   "metadata": {
    "collapsed": true
   },
   "outputs": [],
   "source": [
    "df = pd.read_csv('exercise2-3_sjis.csv', encoding='shift-jis') #exercise2-3_sjis.csvファイルを読み込み(Shift-JIS形式)"
   ]
  },
  {
   "cell_type": "markdown",
   "metadata": {},
   "source": [
    "### 4. データの列構造を確認するために、先頭行を抽出します。"
   ]
  },
  {
   "cell_type": "code",
   "execution_count": 3,
   "metadata": {},
   "outputs": [
    {
     "data": {
      "text/html": [
       "<div>\n",
       "<style>\n",
       "    .dataframe thead tr:only-child th {\n",
       "        text-align: right;\n",
       "    }\n",
       "\n",
       "    .dataframe thead th {\n",
       "        text-align: left;\n",
       "    }\n",
       "\n",
       "    .dataframe tbody tr th {\n",
       "        vertical-align: top;\n",
       "    }\n",
       "</style>\n",
       "<table border=\"1\" class=\"dataframe\">\n",
       "  <thead>\n",
       "    <tr style=\"text-align: right;\">\n",
       "      <th></th>\n",
       "      <th>注文番号</th>\n",
       "      <th>店舗名</th>\n",
       "      <th>来店曜日</th>\n",
       "      <th>来店時間帯</th>\n",
       "      <th>滞留時間</th>\n",
       "      <th>性別</th>\n",
       "      <th>年齢層</th>\n",
       "      <th>年齢</th>\n",
       "      <th>合計金額</th>\n",
       "      <th>フラグ</th>\n",
       "    </tr>\n",
       "  </thead>\n",
       "  <tbody>\n",
       "    <tr>\n",
       "      <th>0</th>\n",
       "      <td>6</td>\n",
       "      <td>01A</td>\n",
       "      <td>07日</td>\n",
       "      <td>03夜間</td>\n",
       "      <td>534.98</td>\n",
       "      <td>01男</td>\n",
       "      <td>04中年</td>\n",
       "      <td>58</td>\n",
       "      <td>1104</td>\n",
       "      <td>0</td>\n",
       "    </tr>\n",
       "    <tr>\n",
       "      <th>1</th>\n",
       "      <td>10</td>\n",
       "      <td>01A</td>\n",
       "      <td>03水</td>\n",
       "      <td>03夜間</td>\n",
       "      <td>2484.00</td>\n",
       "      <td>01男</td>\n",
       "      <td>02中高生</td>\n",
       "      <td>16</td>\n",
       "      <td>126</td>\n",
       "      <td>0</td>\n",
       "    </tr>\n",
       "    <tr>\n",
       "      <th>2</th>\n",
       "      <td>16</td>\n",
       "      <td>01A</td>\n",
       "      <td>02火</td>\n",
       "      <td>02日中</td>\n",
       "      <td>745.52</td>\n",
       "      <td>01男</td>\n",
       "      <td>02中高生</td>\n",
       "      <td>15</td>\n",
       "      <td>418</td>\n",
       "      <td>0</td>\n",
       "    </tr>\n",
       "    <tr>\n",
       "      <th>3</th>\n",
       "      <td>17</td>\n",
       "      <td>01A</td>\n",
       "      <td>04木</td>\n",
       "      <td>02日中</td>\n",
       "      <td>35.04</td>\n",
       "      <td>01男</td>\n",
       "      <td>02中高生</td>\n",
       "      <td>13</td>\n",
       "      <td>549</td>\n",
       "      <td>0</td>\n",
       "    </tr>\n",
       "    <tr>\n",
       "      <th>4</th>\n",
       "      <td>20</td>\n",
       "      <td>01A</td>\n",
       "      <td>01月</td>\n",
       "      <td>03夜間</td>\n",
       "      <td>459.99</td>\n",
       "      <td>01男</td>\n",
       "      <td>04中年</td>\n",
       "      <td>48</td>\n",
       "      <td>1480</td>\n",
       "      <td>0</td>\n",
       "    </tr>\n",
       "  </tbody>\n",
       "</table>\n",
       "</div>"
      ],
      "text/plain": [
       "   注文番号  店舗名 来店曜日 来店時間帯     滞留時間   性別    年齢層  年齢  合計金額  フラグ\n",
       "0     6  01A  07日  03夜間   534.98  01男   04中年  58  1104    0\n",
       "1    10  01A  03水  03夜間  2484.00  01男  02中高生  16   126    0\n",
       "2    16  01A  02火  02日中   745.52  01男  02中高生  15   418    0\n",
       "3    17  01A  04木  02日中    35.04  01男  02中高生  13   549    0\n",
       "4    20  01A  01月  03夜間   459.99  01男   04中年  48  1480    0"
      ]
     },
     "execution_count": 3,
     "metadata": {},
     "output_type": "execute_result"
    }
   ],
   "source": [
    "df.head()      #データの確認"
   ]
  },
  {
   "cell_type": "markdown",
   "metadata": {},
   "source": [
    "### 5. 基本統計量を確認します。"
   ]
  },
  {
   "cell_type": "code",
   "execution_count": 4,
   "metadata": {},
   "outputs": [
    {
     "data": {
      "text/html": [
       "<div>\n",
       "<style>\n",
       "    .dataframe thead tr:only-child th {\n",
       "        text-align: right;\n",
       "    }\n",
       "\n",
       "    .dataframe thead th {\n",
       "        text-align: left;\n",
       "    }\n",
       "\n",
       "    .dataframe tbody tr th {\n",
       "        vertical-align: top;\n",
       "    }\n",
       "</style>\n",
       "<table border=\"1\" class=\"dataframe\">\n",
       "  <thead>\n",
       "    <tr style=\"text-align: right;\">\n",
       "      <th></th>\n",
       "      <th>注文番号</th>\n",
       "      <th>滞留時間</th>\n",
       "      <th>年齢</th>\n",
       "      <th>合計金額</th>\n",
       "      <th>フラグ</th>\n",
       "    </tr>\n",
       "  </thead>\n",
       "  <tbody>\n",
       "    <tr>\n",
       "      <th>count</th>\n",
       "      <td>3916.000000</td>\n",
       "      <td>3916.000000</td>\n",
       "      <td>3916.000000</td>\n",
       "      <td>3916.000000</td>\n",
       "      <td>3916.000000</td>\n",
       "    </tr>\n",
       "    <tr>\n",
       "      <th>mean</th>\n",
       "      <td>1958.500000</td>\n",
       "      <td>662.034229</td>\n",
       "      <td>35.047753</td>\n",
       "      <td>564.734678</td>\n",
       "      <td>0.269918</td>\n",
       "    </tr>\n",
       "    <tr>\n",
       "      <th>std</th>\n",
       "      <td>1130.596155</td>\n",
       "      <td>447.308590</td>\n",
       "      <td>21.139107</td>\n",
       "      <td>360.604608</td>\n",
       "      <td>0.443974</td>\n",
       "    </tr>\n",
       "    <tr>\n",
       "      <th>min</th>\n",
       "      <td>1.000000</td>\n",
       "      <td>30.650000</td>\n",
       "      <td>4.000000</td>\n",
       "      <td>9.000000</td>\n",
       "      <td>0.000000</td>\n",
       "    </tr>\n",
       "    <tr>\n",
       "      <th>25%</th>\n",
       "      <td>979.750000</td>\n",
       "      <td>333.637500</td>\n",
       "      <td>17.000000</td>\n",
       "      <td>301.000000</td>\n",
       "      <td>0.000000</td>\n",
       "    </tr>\n",
       "    <tr>\n",
       "      <th>50%</th>\n",
       "      <td>1958.500000</td>\n",
       "      <td>564.735000</td>\n",
       "      <td>29.000000</td>\n",
       "      <td>494.000000</td>\n",
       "      <td>0.000000</td>\n",
       "    </tr>\n",
       "    <tr>\n",
       "      <th>75%</th>\n",
       "      <td>2937.250000</td>\n",
       "      <td>924.040000</td>\n",
       "      <td>51.000000</td>\n",
       "      <td>734.000000</td>\n",
       "      <td>1.000000</td>\n",
       "    </tr>\n",
       "    <tr>\n",
       "      <th>max</th>\n",
       "      <td>3916.000000</td>\n",
       "      <td>2638.000000</td>\n",
       "      <td>99.000000</td>\n",
       "      <td>2304.000000</td>\n",
       "      <td>1.000000</td>\n",
       "    </tr>\n",
       "  </tbody>\n",
       "</table>\n",
       "</div>"
      ],
      "text/plain": [
       "              注文番号         滞留時間           年齢         合計金額          フラグ\n",
       "count  3916.000000  3916.000000  3916.000000  3916.000000  3916.000000\n",
       "mean   1958.500000   662.034229    35.047753   564.734678     0.269918\n",
       "std    1130.596155   447.308590    21.139107   360.604608     0.443974\n",
       "min       1.000000    30.650000     4.000000     9.000000     0.000000\n",
       "25%     979.750000   333.637500    17.000000   301.000000     0.000000\n",
       "50%    1958.500000   564.735000    29.000000   494.000000     0.000000\n",
       "75%    2937.250000   924.040000    51.000000   734.000000     1.000000\n",
       "max    3916.000000  2638.000000    99.000000  2304.000000     1.000000"
      ]
     },
     "execution_count": 4,
     "metadata": {},
     "output_type": "execute_result"
    }
   ],
   "source": [
    "df.describe()  #基本統計量を算出"
   ]
  },
  {
   "cell_type": "markdown",
   "metadata": {},
   "source": [
    "#### 【チャレンジ】店舗名が「01A」の基本統計量を確認します。"
   ]
  },
  {
   "cell_type": "code",
   "execution_count": 5,
   "metadata": {},
   "outputs": [
    {
     "data": {
      "text/html": [
       "<div>\n",
       "<style>\n",
       "    .dataframe thead tr:only-child th {\n",
       "        text-align: right;\n",
       "    }\n",
       "\n",
       "    .dataframe thead th {\n",
       "        text-align: left;\n",
       "    }\n",
       "\n",
       "    .dataframe tbody tr th {\n",
       "        vertical-align: top;\n",
       "    }\n",
       "</style>\n",
       "<table border=\"1\" class=\"dataframe\">\n",
       "  <thead>\n",
       "    <tr style=\"text-align: right;\">\n",
       "      <th></th>\n",
       "      <th>注文番号</th>\n",
       "      <th>滞留時間</th>\n",
       "      <th>年齢</th>\n",
       "      <th>合計金額</th>\n",
       "      <th>フラグ</th>\n",
       "    </tr>\n",
       "  </thead>\n",
       "  <tbody>\n",
       "    <tr>\n",
       "      <th>count</th>\n",
       "      <td>1316.000000</td>\n",
       "      <td>1316.000000</td>\n",
       "      <td>1316.000000</td>\n",
       "      <td>1316.000000</td>\n",
       "      <td>1316.000000</td>\n",
       "    </tr>\n",
       "    <tr>\n",
       "      <th>mean</th>\n",
       "      <td>1913.490881</td>\n",
       "      <td>650.968412</td>\n",
       "      <td>35.281155</td>\n",
       "      <td>567.109422</td>\n",
       "      <td>0.334347</td>\n",
       "    </tr>\n",
       "    <tr>\n",
       "      <th>std</th>\n",
       "      <td>1119.934844</td>\n",
       "      <td>449.089516</td>\n",
       "      <td>20.912310</td>\n",
       "      <td>364.185337</td>\n",
       "      <td>0.471941</td>\n",
       "    </tr>\n",
       "    <tr>\n",
       "      <th>min</th>\n",
       "      <td>5.000000</td>\n",
       "      <td>31.260000</td>\n",
       "      <td>4.000000</td>\n",
       "      <td>23.000000</td>\n",
       "      <td>0.000000</td>\n",
       "    </tr>\n",
       "    <tr>\n",
       "      <th>25%</th>\n",
       "      <td>956.500000</td>\n",
       "      <td>322.052500</td>\n",
       "      <td>18.000000</td>\n",
       "      <td>306.000000</td>\n",
       "      <td>0.000000</td>\n",
       "    </tr>\n",
       "    <tr>\n",
       "      <th>50%</th>\n",
       "      <td>1899.500000</td>\n",
       "      <td>560.795000</td>\n",
       "      <td>30.000000</td>\n",
       "      <td>485.500000</td>\n",
       "      <td>0.000000</td>\n",
       "    </tr>\n",
       "    <tr>\n",
       "      <th>75%</th>\n",
       "      <td>2875.250000</td>\n",
       "      <td>903.160000</td>\n",
       "      <td>51.000000</td>\n",
       "      <td>747.500000</td>\n",
       "      <td>1.000000</td>\n",
       "    </tr>\n",
       "    <tr>\n",
       "      <th>max</th>\n",
       "      <td>3914.000000</td>\n",
       "      <td>2638.000000</td>\n",
       "      <td>99.000000</td>\n",
       "      <td>2304.000000</td>\n",
       "      <td>1.000000</td>\n",
       "    </tr>\n",
       "  </tbody>\n",
       "</table>\n",
       "</div>"
      ],
      "text/plain": [
       "              注文番号         滞留時間           年齢         合計金額          フラグ\n",
       "count  1316.000000  1316.000000  1316.000000  1316.000000  1316.000000\n",
       "mean   1913.490881   650.968412    35.281155   567.109422     0.334347\n",
       "std    1119.934844   449.089516    20.912310   364.185337     0.471941\n",
       "min       5.000000    31.260000     4.000000    23.000000     0.000000\n",
       "25%     956.500000   322.052500    18.000000   306.000000     0.000000\n",
       "50%    1899.500000   560.795000    30.000000   485.500000     0.000000\n",
       "75%    2875.250000   903.160000    51.000000   747.500000     1.000000\n",
       "max    3914.000000  2638.000000    99.000000  2304.000000     1.000000"
      ]
     },
     "execution_count": 5,
     "metadata": {},
     "output_type": "execute_result"
    }
   ],
   "source": [
    "df.loc[df['店舗名']=='01A', :].describe() #「店舗名」列が「01A」のデータの基本統計量を算出"
   ]
  },
  {
   "cell_type": "markdown",
   "metadata": {},
   "source": [
    "### 6. 来店時間帯別、年齢層別の顧客の人数をグループ棒グラフで確認します。※「年齢」ではなく「年齢層」"
   ]
  },
  {
   "cell_type": "code",
   "execution_count": 6,
   "metadata": {
    "collapsed": true
   },
   "outputs": [],
   "source": [
    "#来店時間帯、年齢層別の注文番号数をカウント\n",
    "bar_data = df.pivot_table('注文番号', aggfunc='count', index='来店時間帯', columns='年齢層')"
   ]
  },
  {
   "cell_type": "code",
   "execution_count": 7,
   "metadata": {
    "collapsed": true
   },
   "outputs": [],
   "source": [
    "fig = plt.figure()                       #グラフ描画用オブジェクトを生成\n",
    "ax = fig.add_subplot(1, 1, 1)            #グラフの描画位置を指定"
   ]
  },
  {
   "cell_type": "code",
   "execution_count": 8,
   "metadata": {},
   "outputs": [
    {
     "data": {
      "text/plain": [
       "<matplotlib.axes._subplots.AxesSubplot at 0x25e49d4d8d0>"
      ]
     },
     "execution_count": 8,
     "metadata": {},
     "output_type": "execute_result"
    }
   ],
   "source": [
    "bar_data.plot(kind='bar', ax=ax)         #グラフの描写方法(パラメータの設定)と利用データを指定"
   ]
  },
  {
   "cell_type": "code",
   "execution_count": 9,
   "metadata": {},
   "outputs": [
    {
     "data": {
      "text/plain": [
       "<matplotlib.legend.Legend at 0x25e46922be0>"
      ]
     },
     "execution_count": 9,
     "metadata": {},
     "output_type": "execute_result"
    }
   ],
   "source": [
    "plt.legend(bbox_to_anchor=(1.3, 1))      #詳細な描写設定（bbox_to_anchor:凡例の表示位置の指定）"
   ]
  },
  {
   "cell_type": "code",
   "execution_count": 10,
   "metadata": {},
   "outputs": [
    {
     "data": {
      "image/png": "[encoded data removed]",
      "text/plain": [
       "<matplotlib.figure.Figure at 0x25e49d4d898>"
      ]
     },
     "metadata": {},
     "output_type": "display_data"
    }
   ],
   "source": [
    "plt.show()                               #グラフ描写"
   ]
  },
  {
   "cell_type": "markdown",
   "metadata": {},
   "source": [
    "#### 【チャレンジ】来店時間帯ごとの、顧客の年齢層の分布を帯グラフで確認します。※「年齢」ではなく「年齢層」"
   ]
  },
  {
   "cell_type": "code",
   "execution_count": 11,
   "metadata": {
    "collapsed": true
   },
   "outputs": [],
   "source": [
    "#来店時間帯、年齢層別の注文番号数をカウント\n",
    "bar_data = df.pivot_table('注文番号', aggfunc='count', index='来店時間帯', columns='年齢層')\n",
    "\n",
    "#各要素を、来店時間帯別の注文番号数で除算\n",
    "div_data = bar_data.div(bar_data.sum(axis=1), axis=0) "
   ]
  },
  {
   "cell_type": "code",
   "execution_count": 12,
   "metadata": {
    "collapsed": true
   },
   "outputs": [],
   "source": [
    "fig = plt.figure()                                    #グラフ描画用オブジェクトを生成\n",
    "ax = fig.add_subplot(1, 1, 1)                         #グラフの描画位置を指定"
   ]
  },
  {
   "cell_type": "code",
   "execution_count": 13,
   "metadata": {},
   "outputs": [
    {
     "data": {
      "text/plain": [
       "<matplotlib.axes._subplots.AxesSubplot at 0x25e495d8278>"
      ]
     },
     "execution_count": 13,
     "metadata": {},
     "output_type": "execute_result"
    }
   ],
   "source": [
    "div_data.plot(kind='bar', ax=ax, stacked=True)        #グラフの描写方法(パラメータの設定)と利用データを指定"
   ]
  },
  {
   "cell_type": "code",
   "execution_count": 14,
   "metadata": {},
   "outputs": [
    {
     "data": {
      "text/plain": [
       "<matplotlib.legend.Legend at 0x25e49dbd7b8>"
      ]
     },
     "execution_count": 14,
     "metadata": {},
     "output_type": "execute_result"
    }
   ],
   "source": [
    "plt.legend(bbox_to_anchor=(1.3, 1))                   #詳細な描写設定（bbox_to_anchor:凡例の表示位置の指定）"
   ]
  },
  {
   "cell_type": "code",
   "execution_count": 15,
   "metadata": {},
   "outputs": [
    {
     "data": {
      "image/png": "[encoded data removed]",
      "text/plain": [
       "<matplotlib.figure.Figure at 0x25e495d8390>"
      ]
     },
     "metadata": {},
     "output_type": "display_data"
    }
   ],
   "source": [
    "plt.show()                                            #グラフの描写"
   ]
  },
  {
   "cell_type": "markdown",
   "metadata": {},
   "source": [
    "### 7. 滞留時間と合計金額の関係を確認します。"
   ]
  },
  {
   "cell_type": "markdown",
   "metadata": {},
   "source": [
    "滞留時間と合計金額の相関係数"
   ]
  },
  {
   "cell_type": "code",
   "execution_count": 16,
   "metadata": {},
   "outputs": [
    {
     "data": {
      "text/html": [
       "<div>\n",
       "<style>\n",
       "    .dataframe thead tr:only-child th {\n",
       "        text-align: right;\n",
       "    }\n",
       "\n",
       "    .dataframe thead th {\n",
       "        text-align: left;\n",
       "    }\n",
       "\n",
       "    .dataframe tbody tr th {\n",
       "        vertical-align: top;\n",
       "    }\n",
       "</style>\n",
       "<table border=\"1\" class=\"dataframe\">\n",
       "  <thead>\n",
       "    <tr style=\"text-align: right;\">\n",
       "      <th></th>\n",
       "      <th>滞留時間</th>\n",
       "      <th>合計金額</th>\n",
       "    </tr>\n",
       "  </thead>\n",
       "  <tbody>\n",
       "    <tr>\n",
       "      <th>滞留時間</th>\n",
       "      <td>1.0000</td>\n",
       "      <td>-0.1756</td>\n",
       "    </tr>\n",
       "    <tr>\n",
       "      <th>合計金額</th>\n",
       "      <td>-0.1756</td>\n",
       "      <td>1.0000</td>\n",
       "    </tr>\n",
       "  </tbody>\n",
       "</table>\n",
       "</div>"
      ],
      "text/plain": [
       "        滞留時間    合計金額\n",
       "滞留時間  1.0000 -0.1756\n",
       "合計金額 -0.1756  1.0000"
      ]
     },
     "execution_count": 16,
     "metadata": {},
     "output_type": "execute_result"
    }
   ],
   "source": [
    "df.loc[:, ['滞留時間', '合計金額']].corr()                   #滞留時間と合計金額の相関行列を算出"
   ]
  },
  {
   "cell_type": "markdown",
   "metadata": {},
   "source": [
    "滞留時間と合計金額の散布図"
   ]
  },
  {
   "cell_type": "code",
   "execution_count": 17,
   "metadata": {
    "collapsed": true
   },
   "outputs": [],
   "source": [
    "fig = plt.figure()                                        #グラフ描画用オブジェクトを生成\n",
    "ax = fig.add_subplot(1, 1, 1)                             #グラフの描画位置を指定"
   ]
  },
  {
   "cell_type": "code",
   "execution_count": 18,
   "metadata": {},
   "outputs": [
    {
     "data": {
      "text/plain": [
       "<matplotlib.axes._subplots.AxesSubplot at 0x25e49effb38>"
      ]
     },
     "execution_count": 18,
     "metadata": {},
     "output_type": "execute_result"
    }
   ],
   "source": [
    "df.plot(x='滞留時間', y='合計金額', kind='scatter', ax=ax)   #グラフの描写方法(パラメータの設定)と利用データを指定"
   ]
  },
  {
   "cell_type": "code",
   "execution_count": 19,
   "metadata": {},
   "outputs": [
    {
     "data": {
      "image/png": "[encoded data removed]",
      "text/plain": [
       "<matplotlib.figure.Figure at 0x25e49f07e80>"
      ]
     },
     "metadata": {},
     "output_type": "display_data"
    }
   ],
   "source": [
    "plt.show()                                                #グラフ描写"
   ]
  },
  {
   "cell_type": "markdown",
   "metadata": {},
   "source": [
    "#### 【チャレンジ】年齢層を以下の2層に分けて、散布図の点を色分け\n",
    "- 「01小児」と「02中高生」\n",
    "- 「03青年」と「04中年」と「05壮年」。つまり、「01小児」と「02中高生」以外"
   ]
  },
  {
   "cell_type": "code",
   "execution_count": 20,
   "metadata": {},
   "outputs": [],
   "source": [
    "#「年齢層」列が、「01小児」または「02中高生」か（中高生以下）か、それ以外か（青年以上）かで、データ分割\n",
    "sctdata1 = df[df['年齢層'].isin(['01小児', '02中高生'])]\n",
    "sctdata2 = df[~df['年齢層'].isin(['01小児', '02中高生'])]   "
   ]
  },
  {
   "cell_type": "code",
   "execution_count": 21,
   "metadata": {
    "collapsed": true
   },
   "outputs": [],
   "source": [
    "fig = plt.figure()                      #グラフ描画用オブジェクトを生成\n",
    "ax = fig.add_subplot(1,1,1)             #グラフの描画位置を指定"
   ]
  },
  {
   "cell_type": "code",
   "execution_count": 22,
   "metadata": {},
   "outputs": [
    {
     "data": {
      "text/plain": [
       "<matplotlib.axes._subplots.AxesSubplot at 0x25e4a13a438>"
      ]
     },
     "execution_count": 22,
     "metadata": {},
     "output_type": "execute_result"
    }
   ],
   "source": [
    "#グラフの描写方法(パラメータの設定)と利用データを指定(青年以上のデータは青色に、中高生以下のデータは赤色で表示)\n",
    "sctdata2.plot(x='滞留時間', y='合計金額', kind='scatter', ax=ax, color='b', alpha=0.5)\n",
    "sctdata1.plot(x='滞留時間', y='合計金額', kind='scatter', ax=ax, color='r', alpha=0.5)"
   ]
  },
  {
   "cell_type": "code",
   "execution_count": 23,
   "metadata": {},
   "outputs": [
    {
     "data": {
      "text/plain": [
       "<matplotlib.legend.Legend at 0x25e4a203860>"
      ]
     },
     "execution_count": 23,
     "metadata": {},
     "output_type": "execute_result"
    }
   ],
   "source": [
    "#詳細な描写設定（ラベルの指定、bbox_to_anchor:凡例の表示位置の指定）\n",
    "plt.legend(['青年以上', '中高生以下'], bbox_to_anchor=(1.3, 1))"
   ]
  },
  {
   "cell_type": "code",
   "execution_count": 24,
   "metadata": {},
   "outputs": [
    {
     "data": {
      "image/png": "[encoded data removed]",
      "text/plain": [
       "<matplotlib.figure.Figure at 0x25e4a13a4a8>"
      ]
     },
     "metadata": {},
     "output_type": "display_data"
    }
   ],
   "source": [
    "plt.show()           #グラフ描写"
   ]
  }
 ],
 "metadata": {
  "anaconda-cloud": {},
  "kernelspec": {
   "display_name": "Python 3",
   "language": "python",
   "name": "python3"
  },
  "language_info": {
   "codemirror_mode": {
    "name": "ipython",
    "version": 3
   },
   "file_extension": ".py",
   "mimetype": "text/x-python",
   "name": "python",
   "nbconvert_exporter": "python",
   "pygments_lexer": "ipython3",
   "version": "3.6.1"
  }
 },
 "nbformat": 4,
 "nbformat_minor": 1
}
