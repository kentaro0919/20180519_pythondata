{
 "cells": [
  {
   "cell_type": "markdown",
   "metadata": {},
   "source": [
    "# 実習4　ロジスティック回帰"
   ]
  },
  {
   "cell_type": "markdown",
   "metadata": {},
   "source": [
    "## 実習概要\n",
    "scikit-learnライブラリを用いて、ロジスティック回帰を適用する方法を習得します。\n",
    "- ロジスティック回帰モデルの作成\n",
    "\n",
    "- 作成したモデルによる、分類予測"
   ]
  },
  {
   "cell_type": "markdown",
   "metadata": {},
   "source": [
    "## 事前準備\n",
    "Jupyter Notebookが起動していない場合、「C:\\PyAna」フォルダで、Jupyter Notebookを起動します。コマンドは以下です。\n",
    "> cd C:\\PyAna\n",
    "\n",
    "> jupyter notebook"
   ]
  },
  {
   "cell_type": "markdown",
   "metadata": {},
   "source": [
    "## 実習の流れ\n",
    "***セルは適宜、追加してください***"
   ]
  },
  {
   "cell_type": "markdown",
   "metadata": {},
   "source": [
    "### 2. 以下のライブラリをインポートします。\n",
    "- numPy\n",
    "- pandas\n",
    "- sklearn.linear_model から LogisticRegression"
   ]
  },
  {
   "cell_type": "code",
   "execution_count": 1,
   "metadata": {
    "collapsed": true
   },
   "outputs": [],
   "source": [
    "import numpy as np\n",
    "import pandas as pd\n",
    "from sklearn.linear_model import LogisticRegression"
   ]
  },
  {
   "cell_type": "markdown",
   "metadata": {},
   "source": [
    "### 3. 以下のファイルをデータフレームとして読み込みます。データフレーム名は任意です。\n",
    "- ファイル名：「exercise4_sjis.csv」（文字コード：「Shift-JIS」）"
   ]
  },
  {
   "cell_type": "code",
   "execution_count": 2,
   "metadata": {
    "collapsed": true
   },
   "outputs": [],
   "source": [
    "df = pd.read_csv('exercise4_sjis.csv', encoding='shift_jis') #exercise4_sjis.csvファイルを読み込み(Shift-JIS形式)"
   ]
  },
  {
   "cell_type": "markdown",
   "metadata": {},
   "source": [
    "### 4. データの列構造を確認するために、先頭行を抽出します。"
   ]
  },
  {
   "cell_type": "code",
   "execution_count": 3,
   "metadata": {},
   "outputs": [
    {
     "data": {
      "text/html": [
       "<div>\n",
       "<style>\n",
       "    .dataframe thead tr:only-child th {\n",
       "        text-align: right;\n",
       "    }\n",
       "\n",
       "    .dataframe thead th {\n",
       "        text-align: left;\n",
       "    }\n",
       "\n",
       "    .dataframe tbody tr th {\n",
       "        vertical-align: top;\n",
       "    }\n",
       "</style>\n",
       "<table border=\"1\" class=\"dataframe\">\n",
       "  <thead>\n",
       "    <tr style=\"text-align: right;\">\n",
       "      <th></th>\n",
       "      <th>不揮発酸濃度</th>\n",
       "      <th>揮発酸濃度</th>\n",
       "      <th>クエン酸濃度</th>\n",
       "      <th>残留糖分濃度</th>\n",
       "      <th>塩化ナトリウム濃度</th>\n",
       "      <th>遊離亜硫酸濃度</th>\n",
       "      <th>総亜硫酸濃度</th>\n",
       "      <th>密度</th>\n",
       "      <th>pH</th>\n",
       "      <th>硫酸カリウム濃度</th>\n",
       "      <th>アルコール度数</th>\n",
       "      <th>ランク</th>\n",
       "    </tr>\n",
       "  </thead>\n",
       "  <tbody>\n",
       "    <tr>\n",
       "      <th>0</th>\n",
       "      <td>7.0</td>\n",
       "      <td>0.27</td>\n",
       "      <td>0.36</td>\n",
       "      <td>20.7</td>\n",
       "      <td>0.045</td>\n",
       "      <td>45.0</td>\n",
       "      <td>170.0</td>\n",
       "      <td>1.0010</td>\n",
       "      <td>3.00</td>\n",
       "      <td>0.45</td>\n",
       "      <td>8.8</td>\n",
       "      <td>C</td>\n",
       "    </tr>\n",
       "    <tr>\n",
       "      <th>1</th>\n",
       "      <td>6.3</td>\n",
       "      <td>0.30</td>\n",
       "      <td>0.34</td>\n",
       "      <td>1.6</td>\n",
       "      <td>0.049</td>\n",
       "      <td>14.0</td>\n",
       "      <td>132.0</td>\n",
       "      <td>0.9940</td>\n",
       "      <td>3.30</td>\n",
       "      <td>0.49</td>\n",
       "      <td>9.5</td>\n",
       "      <td>C</td>\n",
       "    </tr>\n",
       "    <tr>\n",
       "      <th>2</th>\n",
       "      <td>8.1</td>\n",
       "      <td>0.28</td>\n",
       "      <td>0.40</td>\n",
       "      <td>6.9</td>\n",
       "      <td>0.050</td>\n",
       "      <td>30.0</td>\n",
       "      <td>97.0</td>\n",
       "      <td>0.9951</td>\n",
       "      <td>3.26</td>\n",
       "      <td>0.44</td>\n",
       "      <td>10.1</td>\n",
       "      <td>C</td>\n",
       "    </tr>\n",
       "    <tr>\n",
       "      <th>3</th>\n",
       "      <td>7.2</td>\n",
       "      <td>0.23</td>\n",
       "      <td>0.32</td>\n",
       "      <td>8.5</td>\n",
       "      <td>0.058</td>\n",
       "      <td>47.0</td>\n",
       "      <td>186.0</td>\n",
       "      <td>0.9956</td>\n",
       "      <td>3.19</td>\n",
       "      <td>0.40</td>\n",
       "      <td>9.9</td>\n",
       "      <td>C</td>\n",
       "    </tr>\n",
       "    <tr>\n",
       "      <th>4</th>\n",
       "      <td>7.2</td>\n",
       "      <td>0.23</td>\n",
       "      <td>0.32</td>\n",
       "      <td>8.5</td>\n",
       "      <td>0.058</td>\n",
       "      <td>47.0</td>\n",
       "      <td>186.0</td>\n",
       "      <td>0.9956</td>\n",
       "      <td>3.19</td>\n",
       "      <td>0.40</td>\n",
       "      <td>9.9</td>\n",
       "      <td>C</td>\n",
       "    </tr>\n",
       "  </tbody>\n",
       "</table>\n",
       "</div>"
      ],
      "text/plain": [
       "   不揮発酸濃度  揮発酸濃度  クエン酸濃度  残留糖分濃度  塩化ナトリウム濃度  遊離亜硫酸濃度  総亜硫酸濃度      密度    pH  \\\n",
       "0     7.0   0.27    0.36    20.7      0.045     45.0   170.0  1.0010  3.00   \n",
       "1     6.3   0.30    0.34     1.6      0.049     14.0   132.0  0.9940  3.30   \n",
       "2     8.1   0.28    0.40     6.9      0.050     30.0    97.0  0.9951  3.26   \n",
       "3     7.2   0.23    0.32     8.5      0.058     47.0   186.0  0.9956  3.19   \n",
       "4     7.2   0.23    0.32     8.5      0.058     47.0   186.0  0.9956  3.19   \n",
       "\n",
       "   硫酸カリウム濃度  アルコール度数 ランク  \n",
       "0      0.45      8.8   C  \n",
       "1      0.49      9.5   C  \n",
       "2      0.44     10.1   C  \n",
       "3      0.40      9.9   C  \n",
       "4      0.40      9.9   C  "
      ]
     },
     "execution_count": 3,
     "metadata": {},
     "output_type": "execute_result"
    }
   ],
   "source": [
    "df.head() #データの確認"
   ]
  },
  {
   "cell_type": "markdown",
   "metadata": {},
   "source": [
    "### 5. 読み込んだ学習用のデータを使い、ランクを分類するモデルを作成します。"
   ]
  },
  {
   "cell_type": "code",
   "execution_count": 4,
   "metadata": {
    "collapsed": true
   },
   "outputs": [],
   "source": [
    "lr = LogisticRegression()                #ロジスティック回帰の呼び出し"
   ]
  },
  {
   "cell_type": "code",
   "execution_count": 5,
   "metadata": {},
   "outputs": [
    {
     "data": {
      "text/plain": [
       "LogisticRegression(C=1.0, class_weight=None, dual=False, fit_intercept=True,\n",
       "          intercept_scaling=1, max_iter=100, multi_class='ovr', n_jobs=1,\n",
       "          penalty='l2', random_state=None, solver='liblinear', tol=0.0001,\n",
       "          verbose=0, warm_start=False)"
      ]
     },
     "execution_count": 5,
     "metadata": {},
     "output_type": "execute_result"
    }
   ],
   "source": [
    "lr.fit(X=df.iloc[:, 0:-1], y=df['ランク']) #特徴変数(ランク以外のデータ)と、目的変数(ランク)を指定"
   ]
  },
  {
   "cell_type": "markdown",
   "metadata": {},
   "source": [
    "### 6. モデルを評価するために、以下の指標を出力します。"
   ]
  },
  {
   "cell_type": "markdown",
   "metadata": {},
   "source": [
    "正解率"
   ]
  },
  {
   "cell_type": "code",
   "execution_count": 6,
   "metadata": {},
   "outputs": [
    {
     "data": {
      "text/plain": [
       "0.75500612995504701"
      ]
     },
     "execution_count": 6,
     "metadata": {},
     "output_type": "execute_result"
    }
   ],
   "source": [
    "lr.score(X=df.iloc[:, 0:-1], y=df['ランク']) #正解率を算出し、モデルの精度を確認"
   ]
  },
  {
   "cell_type": "markdown",
   "metadata": {},
   "source": [
    "### 【チャレンジ】新しく得られた特徴変数から、目的変数を予測します。\n",
    "#### 下記のファイルを読み込みます。\n",
    "- ファイル名：「exercise4_predict_sjis.csv」(文字コード：「Shift-JIS」)"
   ]
  },
  {
   "cell_type": "code",
   "execution_count": 7,
   "metadata": {
    "collapsed": true
   },
   "outputs": [],
   "source": [
    "predict_data = pd.read_csv('exercise4_predict_sjis.csv', encoding='shift_jis') #exercise4_predict_sjis.csvファイルを読み込み(Shift-JIS形式)"
   ]
  },
  {
   "cell_type": "code",
   "execution_count": 8,
   "metadata": {},
   "outputs": [
    {
     "data": {
      "text/html": [
       "<div>\n",
       "<style>\n",
       "    .dataframe thead tr:only-child th {\n",
       "        text-align: right;\n",
       "    }\n",
       "\n",
       "    .dataframe thead th {\n",
       "        text-align: left;\n",
       "    }\n",
       "\n",
       "    .dataframe tbody tr th {\n",
       "        vertical-align: top;\n",
       "    }\n",
       "</style>\n",
       "<table border=\"1\" class=\"dataframe\">\n",
       "  <thead>\n",
       "    <tr style=\"text-align: right;\">\n",
       "      <th></th>\n",
       "      <th>不揮発酸濃度</th>\n",
       "      <th>揮発酸濃度</th>\n",
       "      <th>クエン酸濃度</th>\n",
       "      <th>残留糖分濃度</th>\n",
       "      <th>塩化ナトリウム濃度</th>\n",
       "      <th>遊離亜硫酸濃度</th>\n",
       "      <th>総亜硫酸濃度</th>\n",
       "      <th>密度</th>\n",
       "      <th>pH</th>\n",
       "      <th>硫酸カリウム濃度</th>\n",
       "      <th>アルコール度数</th>\n",
       "    </tr>\n",
       "  </thead>\n",
       "  <tbody>\n",
       "    <tr>\n",
       "      <th>0</th>\n",
       "      <td>6.5</td>\n",
       "      <td>0.24</td>\n",
       "      <td>0.19</td>\n",
       "      <td>1.2</td>\n",
       "      <td>0.041</td>\n",
       "      <td>30</td>\n",
       "      <td>111</td>\n",
       "      <td>0.99254</td>\n",
       "      <td>2.99</td>\n",
       "      <td>0.46</td>\n",
       "      <td>9.40</td>\n",
       "    </tr>\n",
       "    <tr>\n",
       "      <th>1</th>\n",
       "      <td>5.5</td>\n",
       "      <td>0.29</td>\n",
       "      <td>0.30</td>\n",
       "      <td>1.1</td>\n",
       "      <td>0.022</td>\n",
       "      <td>20</td>\n",
       "      <td>110</td>\n",
       "      <td>0.98869</td>\n",
       "      <td>3.34</td>\n",
       "      <td>0.38</td>\n",
       "      <td>12.80</td>\n",
       "    </tr>\n",
       "    <tr>\n",
       "      <th>2</th>\n",
       "      <td>6.2</td>\n",
       "      <td>0.21</td>\n",
       "      <td>0.28</td>\n",
       "      <td>5.7</td>\n",
       "      <td>0.028</td>\n",
       "      <td>45</td>\n",
       "      <td>121</td>\n",
       "      <td>0.99168</td>\n",
       "      <td>3.21</td>\n",
       "      <td>1.08</td>\n",
       "      <td>12.15</td>\n",
       "    </tr>\n",
       "  </tbody>\n",
       "</table>\n",
       "</div>"
      ],
      "text/plain": [
       "   不揮発酸濃度  揮発酸濃度  クエン酸濃度  残留糖分濃度  塩化ナトリウム濃度  遊離亜硫酸濃度  総亜硫酸濃度       密度    pH  \\\n",
       "0     6.5   0.24    0.19     1.2      0.041       30     111  0.99254  2.99   \n",
       "1     5.5   0.29    0.30     1.1      0.022       20     110  0.98869  3.34   \n",
       "2     6.2   0.21    0.28     5.7      0.028       45     121  0.99168  3.21   \n",
       "\n",
       "   硫酸カリウム濃度  アルコール度数  \n",
       "0      0.46     9.40  \n",
       "1      0.38    12.80  \n",
       "2      1.08    12.15  "
      ]
     },
     "execution_count": 8,
     "metadata": {},
     "output_type": "execute_result"
    }
   ],
   "source": [
    "predict_data.head() #データの確認"
   ]
  },
  {
   "cell_type": "markdown",
   "metadata": {},
   "source": [
    "#### 手順6までで作成した分類予測モデルを適応し、液体の品質（ランク）を予測します。"
   ]
  },
  {
   "cell_type": "code",
   "execution_count": 9,
   "metadata": {},
   "outputs": [
    {
     "data": {
      "text/plain": [
       "array(['C', 'C', 'B'], dtype=object)"
      ]
     },
     "execution_count": 9,
     "metadata": {},
     "output_type": "execute_result"
    }
   ],
   "source": [
    "lr.predict(predict_data)  #新たに得られた特徴変数(predict_data変数)から、目的変数(ランク)を予測"
   ]
  }
 ],
 "metadata": {
  "anaconda-cloud": {},
  "kernelspec": {
   "display_name": "Python 3",
   "language": "python",
   "name": "python3"
  },
  "language_info": {
   "codemirror_mode": {
    "name": "ipython",
    "version": 3
   },
   "file_extension": ".py",
   "mimetype": "text/x-python",
   "name": "python",
   "nbconvert_exporter": "python",
   "pygments_lexer": "ipython3",
   "version": "3.6.1"
  }
 },
 "nbformat": 4,
 "nbformat_minor": 1
}
