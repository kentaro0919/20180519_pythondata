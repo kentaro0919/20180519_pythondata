{
 "cells": [
  {
   "cell_type": "markdown",
   "metadata": {},
   "source": [
    "# 実習2　データの集計"
   ]
  },
  {
   "cell_type": "markdown",
   "metadata": {},
   "source": [
    "## 実習概要\n",
    "Pandasライブラリを使用して、以下の操作を習得します。\n",
    "- ファイルの読み込み\n",
    "- データの抽出\n",
    "- 集計"
   ]
  },
  {
   "cell_type": "markdown",
   "metadata": {},
   "source": [
    "## 事前準備\n",
    "Jupyter Notebookが起動していない場合、「C:\\PyAna」フォルダで、Jupyter Notebookを起動します。コマンドは以下です。\n",
    "> cd C:\\PyAna\n",
    "\n",
    "> jupyter notebook"
   ]
  },
  {
   "cell_type": "markdown",
   "metadata": {},
   "source": [
    "## 実習の流れ\n",
    "***セルは適宜、追加してください***"
   ]
  },
  {
   "cell_type": "markdown",
   "metadata": {},
   "source": [
    "### 1. 「exercise」フォルダに移動し、ノートブックを起動します（ノートブック名：「exercise2」）。"
   ]
  },
  {
   "cell_type": "markdown",
   "metadata": {},
   "source": [
    "### 2. 以下のライブラリをインポートします。\n",
    "- numPy\n",
    "- pandas"
   ]
  },
  {
   "cell_type": "code",
   "execution_count": 1,
   "metadata": {
    "collapsed": true
   },
   "outputs": [],
   "source": [
    "import numpy as np\n",
    "import pandas as pd"
   ]
  },
  {
   "cell_type": "markdown",
   "metadata": {},
   "source": [
    "### 3. 以下のファイルをデータフレームとして読み込みます。データフレーム名は任意です。\n",
    "- ファイル名：「exercise2-3_sjis.csv」（文字コード：「Shift-JIS」）"
   ]
  },
  {
   "cell_type": "code",
   "execution_count": 2,
   "metadata": {
    "collapsed": true
   },
   "outputs": [],
   "source": [
    "df = pd.read_csv('exercise2-3_sjis.csv', encoding='shift-jis') #exercise2-3_sjis.csvファイルを読み込み(Shift-JIS形式)"
   ]
  },
  {
   "cell_type": "markdown",
   "metadata": {},
   "source": [
    "### 4. データが正しく読み込まれているかを確認するために、先頭行と末尾行を抽出します。"
   ]
  },
  {
   "cell_type": "code",
   "execution_count": 3,
   "metadata": {},
   "outputs": [
    {
     "data": {
      "text/html": [
       "<div>\n",
       "<style>\n",
       "    .dataframe thead tr:only-child th {\n",
       "        text-align: right;\n",
       "    }\n",
       "\n",
       "    .dataframe thead th {\n",
       "        text-align: left;\n",
       "    }\n",
       "\n",
       "    .dataframe tbody tr th {\n",
       "        vertical-align: top;\n",
       "    }\n",
       "</style>\n",
       "<table border=\"1\" class=\"dataframe\">\n",
       "  <thead>\n",
       "    <tr style=\"text-align: right;\">\n",
       "      <th></th>\n",
       "      <th>注文番号</th>\n",
       "      <th>店舗名</th>\n",
       "      <th>来店曜日</th>\n",
       "      <th>来店時間帯</th>\n",
       "      <th>滞留時間</th>\n",
       "      <th>性別</th>\n",
       "      <th>年齢層</th>\n",
       "      <th>年齢</th>\n",
       "      <th>合計金額</th>\n",
       "      <th>フラグ</th>\n",
       "    </tr>\n",
       "  </thead>\n",
       "  <tbody>\n",
       "    <tr>\n",
       "      <th>0</th>\n",
       "      <td>6</td>\n",
       "      <td>01A</td>\n",
       "      <td>07日</td>\n",
       "      <td>03夜間</td>\n",
       "      <td>534.98</td>\n",
       "      <td>01男</td>\n",
       "      <td>04中年</td>\n",
       "      <td>58</td>\n",
       "      <td>1104</td>\n",
       "      <td>0</td>\n",
       "    </tr>\n",
       "    <tr>\n",
       "      <th>1</th>\n",
       "      <td>10</td>\n",
       "      <td>01A</td>\n",
       "      <td>03水</td>\n",
       "      <td>03夜間</td>\n",
       "      <td>2484.00</td>\n",
       "      <td>01男</td>\n",
       "      <td>02中高生</td>\n",
       "      <td>16</td>\n",
       "      <td>126</td>\n",
       "      <td>0</td>\n",
       "    </tr>\n",
       "    <tr>\n",
       "      <th>2</th>\n",
       "      <td>16</td>\n",
       "      <td>01A</td>\n",
       "      <td>02火</td>\n",
       "      <td>02日中</td>\n",
       "      <td>745.52</td>\n",
       "      <td>01男</td>\n",
       "      <td>02中高生</td>\n",
       "      <td>15</td>\n",
       "      <td>418</td>\n",
       "      <td>0</td>\n",
       "    </tr>\n",
       "    <tr>\n",
       "      <th>3</th>\n",
       "      <td>17</td>\n",
       "      <td>01A</td>\n",
       "      <td>04木</td>\n",
       "      <td>02日中</td>\n",
       "      <td>35.04</td>\n",
       "      <td>01男</td>\n",
       "      <td>02中高生</td>\n",
       "      <td>13</td>\n",
       "      <td>549</td>\n",
       "      <td>0</td>\n",
       "    </tr>\n",
       "    <tr>\n",
       "      <th>4</th>\n",
       "      <td>20</td>\n",
       "      <td>01A</td>\n",
       "      <td>01月</td>\n",
       "      <td>03夜間</td>\n",
       "      <td>459.99</td>\n",
       "      <td>01男</td>\n",
       "      <td>04中年</td>\n",
       "      <td>48</td>\n",
       "      <td>1480</td>\n",
       "      <td>0</td>\n",
       "    </tr>\n",
       "  </tbody>\n",
       "</table>\n",
       "</div>"
      ],
      "text/plain": [
       "   注文番号  店舗名 来店曜日 来店時間帯     滞留時間   性別    年齢層  年齢  合計金額  フラグ\n",
       "0     6  01A  07日  03夜間   534.98  01男   04中年  58  1104    0\n",
       "1    10  01A  03水  03夜間  2484.00  01男  02中高生  16   126    0\n",
       "2    16  01A  02火  02日中   745.52  01男  02中高生  15   418    0\n",
       "3    17  01A  04木  02日中    35.04  01男  02中高生  13   549    0\n",
       "4    20  01A  01月  03夜間   459.99  01男   04中年  48  1480    0"
      ]
     },
     "execution_count": 3,
     "metadata": {},
     "output_type": "execute_result"
    }
   ],
   "source": [
    "df.head() #先頭5行の抽出"
   ]
  },
  {
   "cell_type": "code",
   "execution_count": 4,
   "metadata": {},
   "outputs": [
    {
     "data": {
      "text/html": [
       "<div>\n",
       "<style>\n",
       "    .dataframe thead tr:only-child th {\n",
       "        text-align: right;\n",
       "    }\n",
       "\n",
       "    .dataframe thead th {\n",
       "        text-align: left;\n",
       "    }\n",
       "\n",
       "    .dataframe tbody tr th {\n",
       "        vertical-align: top;\n",
       "    }\n",
       "</style>\n",
       "<table border=\"1\" class=\"dataframe\">\n",
       "  <thead>\n",
       "    <tr style=\"text-align: right;\">\n",
       "      <th></th>\n",
       "      <th>注文番号</th>\n",
       "      <th>店舗名</th>\n",
       "      <th>来店曜日</th>\n",
       "      <th>来店時間帯</th>\n",
       "      <th>滞留時間</th>\n",
       "      <th>性別</th>\n",
       "      <th>年齢層</th>\n",
       "      <th>年齢</th>\n",
       "      <th>合計金額</th>\n",
       "      <th>フラグ</th>\n",
       "    </tr>\n",
       "  </thead>\n",
       "  <tbody>\n",
       "    <tr>\n",
       "      <th>3911</th>\n",
       "      <td>3887</td>\n",
       "      <td>03C</td>\n",
       "      <td>03水</td>\n",
       "      <td>03夜間</td>\n",
       "      <td>1087.75</td>\n",
       "      <td>02女</td>\n",
       "      <td>04中年</td>\n",
       "      <td>39</td>\n",
       "      <td>111</td>\n",
       "      <td>1</td>\n",
       "    </tr>\n",
       "    <tr>\n",
       "      <th>3912</th>\n",
       "      <td>3890</td>\n",
       "      <td>03C</td>\n",
       "      <td>06土</td>\n",
       "      <td>01朝</td>\n",
       "      <td>291.89</td>\n",
       "      <td>02女</td>\n",
       "      <td>04中年</td>\n",
       "      <td>45</td>\n",
       "      <td>628</td>\n",
       "      <td>1</td>\n",
       "    </tr>\n",
       "    <tr>\n",
       "      <th>3913</th>\n",
       "      <td>3896</td>\n",
       "      <td>03C</td>\n",
       "      <td>02火</td>\n",
       "      <td>03夜間</td>\n",
       "      <td>1595.00</td>\n",
       "      <td>02女</td>\n",
       "      <td>02中高生</td>\n",
       "      <td>17</td>\n",
       "      <td>357</td>\n",
       "      <td>1</td>\n",
       "    </tr>\n",
       "    <tr>\n",
       "      <th>3914</th>\n",
       "      <td>3911</td>\n",
       "      <td>03C</td>\n",
       "      <td>02火</td>\n",
       "      <td>01朝</td>\n",
       "      <td>428.60</td>\n",
       "      <td>02女</td>\n",
       "      <td>04中年</td>\n",
       "      <td>50</td>\n",
       "      <td>633</td>\n",
       "      <td>1</td>\n",
       "    </tr>\n",
       "    <tr>\n",
       "      <th>3915</th>\n",
       "      <td>3916</td>\n",
       "      <td>03C</td>\n",
       "      <td>04木</td>\n",
       "      <td>03夜間</td>\n",
       "      <td>97.13</td>\n",
       "      <td>02女</td>\n",
       "      <td>05壮年</td>\n",
       "      <td>64</td>\n",
       "      <td>800</td>\n",
       "      <td>1</td>\n",
       "    </tr>\n",
       "  </tbody>\n",
       "</table>\n",
       "</div>"
      ],
      "text/plain": [
       "      注文番号  店舗名 来店曜日 来店時間帯     滞留時間   性別    年齢層  年齢  合計金額  フラグ\n",
       "3911  3887  03C  03水  03夜間  1087.75  02女   04中年  39   111    1\n",
       "3912  3890  03C  06土   01朝   291.89  02女   04中年  45   628    1\n",
       "3913  3896  03C  02火  03夜間  1595.00  02女  02中高生  17   357    1\n",
       "3914  3911  03C  02火   01朝   428.60  02女   04中年  50   633    1\n",
       "3915  3916  03C  04木  03夜間    97.13  02女   05壮年  64   800    1"
      ]
     },
     "execution_count": 4,
     "metadata": {},
     "output_type": "execute_result"
    }
   ],
   "source": [
    "df.tail() #末尾5行の抽出"
   ]
  },
  {
   "cell_type": "markdown",
   "metadata": {},
   "source": [
    "### 5. 以下の情報が確認できるアウトプットを、表などで作成してください。"
   ]
  },
  {
   "cell_type": "markdown",
   "metadata": {},
   "source": [
    "店舗名別のデータの個数（注文番号数）"
   ]
  },
  {
   "cell_type": "code",
   "execution_count": 5,
   "metadata": {},
   "outputs": [
    {
     "data": {
      "text/plain": [
       "03C    1338\n",
       "01A    1316\n",
       "02B    1262\n",
       "Name: 店舗名, dtype: int64"
      ]
     },
     "execution_count": 5,
     "metadata": {},
     "output_type": "execute_result"
    }
   ],
   "source": [
    "df['店舗名'].value_counts() # 店舗名別のデータの個数（注文番号数）をカウント"
   ]
  },
  {
   "cell_type": "markdown",
   "metadata": {},
   "source": [
    "「店舗名×来店時間帯」別のデータの個数（注文番号数）"
   ]
  },
  {
   "cell_type": "code",
   "execution_count": 6,
   "metadata": {},
   "outputs": [
    {
     "data": {
      "text/html": [
       "<div>\n",
       "<style>\n",
       "    .dataframe thead tr:only-child th {\n",
       "        text-align: right;\n",
       "    }\n",
       "\n",
       "    .dataframe thead th {\n",
       "        text-align: left;\n",
       "    }\n",
       "\n",
       "    .dataframe tbody tr th {\n",
       "        vertical-align: top;\n",
       "    }\n",
       "</style>\n",
       "<table border=\"1\" class=\"dataframe\">\n",
       "  <thead>\n",
       "    <tr style=\"text-align: right;\">\n",
       "      <th>来店時間帯</th>\n",
       "      <th>01朝</th>\n",
       "      <th>02日中</th>\n",
       "      <th>03夜間</th>\n",
       "    </tr>\n",
       "    <tr>\n",
       "      <th>店舗名</th>\n",
       "      <th></th>\n",
       "      <th></th>\n",
       "      <th></th>\n",
       "    </tr>\n",
       "  </thead>\n",
       "  <tbody>\n",
       "    <tr>\n",
       "      <th>01A</th>\n",
       "      <td>252</td>\n",
       "      <td>445</td>\n",
       "      <td>619</td>\n",
       "    </tr>\n",
       "    <tr>\n",
       "      <th>02B</th>\n",
       "      <td>227</td>\n",
       "      <td>465</td>\n",
       "      <td>570</td>\n",
       "    </tr>\n",
       "    <tr>\n",
       "      <th>03C</th>\n",
       "      <td>235</td>\n",
       "      <td>466</td>\n",
       "      <td>637</td>\n",
       "    </tr>\n",
       "  </tbody>\n",
       "</table>\n",
       "</div>"
      ],
      "text/plain": [
       "来店時間帯  01朝  02日中  03夜間\n",
       "店舗名                   \n",
       "01A    252   445   619\n",
       "02B    227   465   570\n",
       "03C    235   466   637"
      ]
     },
     "execution_count": 6,
     "metadata": {},
     "output_type": "execute_result"
    }
   ],
   "source": [
    "# 店舗名、来店時間帯別の注文番号数をカウント\n",
    "df.pivot_table('注文番号', aggfunc='count', index='店舗名', columns='来店時間帯')"
   ]
  },
  {
   "cell_type": "markdown",
   "metadata": {},
   "source": [
    "「店舗名×来店時間帯」別の滞留時間の平均"
   ]
  },
  {
   "cell_type": "code",
   "execution_count": 7,
   "metadata": {},
   "outputs": [
    {
     "data": {
      "text/html": [
       "<div>\n",
       "<style>\n",
       "    .dataframe thead tr:only-child th {\n",
       "        text-align: right;\n",
       "    }\n",
       "\n",
       "    .dataframe thead th {\n",
       "        text-align: left;\n",
       "    }\n",
       "\n",
       "    .dataframe tbody tr th {\n",
       "        vertical-align: top;\n",
       "    }\n",
       "</style>\n",
       "<table border=\"1\" class=\"dataframe\">\n",
       "  <thead>\n",
       "    <tr style=\"text-align: right;\">\n",
       "      <th>来店時間帯</th>\n",
       "      <th>01朝</th>\n",
       "      <th>02日中</th>\n",
       "      <th>03夜間</th>\n",
       "    </tr>\n",
       "    <tr>\n",
       "      <th>店舗名</th>\n",
       "      <th></th>\n",
       "      <th></th>\n",
       "      <th></th>\n",
       "    </tr>\n",
       "  </thead>\n",
       "  <tbody>\n",
       "    <tr>\n",
       "      <th>01A</th>\n",
       "      <td>547.832460</td>\n",
       "      <td>693.059011</td>\n",
       "      <td>662.696914</td>\n",
       "    </tr>\n",
       "    <tr>\n",
       "      <th>02B</th>\n",
       "      <td>546.930396</td>\n",
       "      <td>712.383892</td>\n",
       "      <td>672.809965</td>\n",
       "    </tr>\n",
       "    <tr>\n",
       "      <th>03C</th>\n",
       "      <td>583.184213</td>\n",
       "      <td>729.610193</td>\n",
       "      <td>659.170455</td>\n",
       "    </tr>\n",
       "  </tbody>\n",
       "</table>\n",
       "</div>"
      ],
      "text/plain": [
       "来店時間帯         01朝        02日中        03夜間\n",
       "店舗名                                      \n",
       "01A    547.832460  693.059011  662.696914\n",
       "02B    546.930396  712.383892  672.809965\n",
       "03C    583.184213  729.610193  659.170455"
      ]
     },
     "execution_count": 7,
     "metadata": {},
     "output_type": "execute_result"
    }
   ],
   "source": [
    "# 店舗名、来店時間帯別の平均滞留時間を集計\n",
    "df.pivot_table('滞留時間', index='店舗名', columns='来店時間帯')"
   ]
  },
  {
   "cell_type": "markdown",
   "metadata": {},
   "source": [
    "「店舗名×来店時間帯」別の合計金額の合計"
   ]
  },
  {
   "cell_type": "code",
   "execution_count": 8,
   "metadata": {},
   "outputs": [
    {
     "data": {
      "text/html": [
       "<div>\n",
       "<style>\n",
       "    .dataframe thead tr:only-child th {\n",
       "        text-align: right;\n",
       "    }\n",
       "\n",
       "    .dataframe thead th {\n",
       "        text-align: left;\n",
       "    }\n",
       "\n",
       "    .dataframe tbody tr th {\n",
       "        vertical-align: top;\n",
       "    }\n",
       "</style>\n",
       "<table border=\"1\" class=\"dataframe\">\n",
       "  <thead>\n",
       "    <tr style=\"text-align: right;\">\n",
       "      <th>来店時間帯</th>\n",
       "      <th>01朝</th>\n",
       "      <th>02日中</th>\n",
       "      <th>03夜間</th>\n",
       "    </tr>\n",
       "    <tr>\n",
       "      <th>店舗名</th>\n",
       "      <th></th>\n",
       "      <th></th>\n",
       "      <th></th>\n",
       "    </tr>\n",
       "  </thead>\n",
       "  <tbody>\n",
       "    <tr>\n",
       "      <th>01A</th>\n",
       "      <td>131686</td>\n",
       "      <td>268968</td>\n",
       "      <td>345662</td>\n",
       "    </tr>\n",
       "    <tr>\n",
       "      <th>02B</th>\n",
       "      <td>118908</td>\n",
       "      <td>281509</td>\n",
       "      <td>315485</td>\n",
       "    </tr>\n",
       "    <tr>\n",
       "      <th>03C</th>\n",
       "      <td>119095</td>\n",
       "      <td>277444</td>\n",
       "      <td>352744</td>\n",
       "    </tr>\n",
       "  </tbody>\n",
       "</table>\n",
       "</div>"
      ],
      "text/plain": [
       "来店時間帯     01朝    02日中    03夜間\n",
       "店舗名                          \n",
       "01A    131686  268968  345662\n",
       "02B    118908  281509  315485\n",
       "03C    119095  277444  352744"
      ]
     },
     "execution_count": 8,
     "metadata": {},
     "output_type": "execute_result"
    }
   ],
   "source": [
    "# 店舗名、来店時間帯別の合計金額の合計を集計\n",
    "df.pivot_table('合計金額', aggfunc='sum', index='店舗名', columns='来店時間帯')"
   ]
  }
 ],
 "metadata": {
  "anaconda-cloud": {},
  "kernelspec": {
   "display_name": "Python 3",
   "language": "python",
   "name": "python3"
  },
  "language_info": {
   "codemirror_mode": {
    "name": "ipython",
    "version": 3
   },
   "file_extension": ".py",
   "mimetype": "text/x-python",
   "name": "python",
   "nbconvert_exporter": "python",
   "pygments_lexer": "ipython3",
   "version": "3.6.1"
  }
 },
 "nbformat": 4,
 "nbformat_minor": 1
}
