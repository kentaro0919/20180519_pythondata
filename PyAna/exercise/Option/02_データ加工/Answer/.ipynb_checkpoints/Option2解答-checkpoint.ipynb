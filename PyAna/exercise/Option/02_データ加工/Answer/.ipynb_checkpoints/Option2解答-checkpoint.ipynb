{
 "cells": [
  {
   "cell_type": "markdown",
   "metadata": {},
   "source": [
    "# オプション実習2　データの加工"
   ]
  },
  {
   "cell_type": "markdown",
   "metadata": {},
   "source": [
    "## 実習概要\n",
    "Pandasライブラリを使用して、以下の操作を習得します。\n",
    "- グループ化\n",
    "- 結合\n",
    "- 離散化"
   ]
  },
  {
   "cell_type": "markdown",
   "metadata": {},
   "source": [
    "## 事前準備\n",
    "Jupyter Notebookが起動していない場合、「C:\\PyAna」フォルダで、Jupyter Notebookを起動します。コマンドは以下です。\n",
    "> cd C:\\PyAna\n",
    "\n",
    "> jupyter notebook"
   ]
  },
  {
   "cell_type": "markdown",
   "metadata": {},
   "source": [
    "## 実習の流れ"
   ]
  },
  {
   "cell_type": "markdown",
   "metadata": {},
   "source": [
    "### 1. 下記フォルダに移動し、ノートブックを起動します（ノートブック名：「Option2.ipynb」）。\n",
    "> 「exercise」フォルダ⇒「Option」フォルダ⇒「02_データ加工」"
   ]
  },
  {
   "cell_type": "markdown",
   "metadata": {},
   "source": [
    "### 2. 以下のライブラリをインポートします。\n",
    "- numPy\n",
    "- pandas"
   ]
  },
  {
   "cell_type": "code",
   "execution_count": 1,
   "metadata": {
    "collapsed": true
   },
   "outputs": [],
   "source": [
    "import numpy as np\n",
    "import pandas as pd"
   ]
  },
  {
   "cell_type": "markdown",
   "metadata": {},
   "source": [
    "### 3. 以下のファイルをそれぞれ別のデータフレームとして読み込みます。データフレーム名は任意です。\n",
    "- ファイル名：「01購入者アンケート.csv」（文字コード：「Shift-JIS」）\n",
    "- ファイル名：「02購入者情報.csv」（文字コード：「Shift-JIS」）"
   ]
  },
  {
   "cell_type": "code",
   "execution_count": 2,
   "metadata": {
    "collapsed": true
   },
   "outputs": [],
   "source": [
    "df1 = pd.read_csv('01購入者アンケート.csv', encoding='shift-jis', engine='python') #01購入者アンケート.csvファイルを読み込み(Shift-JIS形式)\n",
    "df2 = pd.read_csv('02購入者情報.csv', encoding='shift-jis', engine='python')     #02購入者情報.csvファイルを読み込み(Shift-JIS形式)"
   ]
  },
  {
   "cell_type": "markdown",
   "metadata": {},
   "source": [
    "### 4. データの列構造を確認するために、それぞれ先頭行を抽出します。"
   ]
  },
  {
   "cell_type": "code",
   "execution_count": 3,
   "metadata": {},
   "outputs": [
    {
     "data": {
      "text/html": [
       "<div>\n",
       "<style>\n",
       "    .dataframe thead tr:only-child th {\n",
       "        text-align: right;\n",
       "    }\n",
       "\n",
       "    .dataframe thead th {\n",
       "        text-align: left;\n",
       "    }\n",
       "\n",
       "    .dataframe tbody tr th {\n",
       "        vertical-align: top;\n",
       "    }\n",
       "</style>\n",
       "<table border=\"1\" class=\"dataframe\">\n",
       "  <thead>\n",
       "    <tr style=\"text-align: right;\">\n",
       "      <th></th>\n",
       "      <th>購入番号</th>\n",
       "      <th>購入日</th>\n",
       "      <th>会員番号</th>\n",
       "      <th>商品番号</th>\n",
       "      <th>購入個数</th>\n",
       "      <th>商品満足度</th>\n",
       "      <th>Ｗｅｂの使いやすさ</th>\n",
       "      <th>サポート評価</th>\n",
       "      <th>配送評価</th>\n",
       "    </tr>\n",
       "  </thead>\n",
       "  <tbody>\n",
       "    <tr>\n",
       "      <th>0</th>\n",
       "      <td>3227</td>\n",
       "      <td>2012/4/3</td>\n",
       "      <td>492</td>\n",
       "      <td>1</td>\n",
       "      <td>8</td>\n",
       "      <td>5</td>\n",
       "      <td>4</td>\n",
       "      <td>3</td>\n",
       "      <td>5</td>\n",
       "    </tr>\n",
       "    <tr>\n",
       "      <th>1</th>\n",
       "      <td>3228</td>\n",
       "      <td>2012/4/3</td>\n",
       "      <td>122</td>\n",
       "      <td>9</td>\n",
       "      <td>13</td>\n",
       "      <td>5</td>\n",
       "      <td>3</td>\n",
       "      <td>4</td>\n",
       "      <td>3</td>\n",
       "    </tr>\n",
       "    <tr>\n",
       "      <th>2</th>\n",
       "      <td>3229</td>\n",
       "      <td>2012/4/3</td>\n",
       "      <td>36</td>\n",
       "      <td>1</td>\n",
       "      <td>10</td>\n",
       "      <td>3</td>\n",
       "      <td>5</td>\n",
       "      <td>3</td>\n",
       "      <td>3</td>\n",
       "    </tr>\n",
       "    <tr>\n",
       "      <th>3</th>\n",
       "      <td>3230</td>\n",
       "      <td>2012/4/3</td>\n",
       "      <td>182</td>\n",
       "      <td>1</td>\n",
       "      <td>10</td>\n",
       "      <td>4</td>\n",
       "      <td>4</td>\n",
       "      <td>4</td>\n",
       "      <td>4</td>\n",
       "    </tr>\n",
       "    <tr>\n",
       "      <th>4</th>\n",
       "      <td>3231</td>\n",
       "      <td>2012/4/3</td>\n",
       "      <td>413</td>\n",
       "      <td>7</td>\n",
       "      <td>11</td>\n",
       "      <td>4</td>\n",
       "      <td>4</td>\n",
       "      <td>1</td>\n",
       "      <td>5</td>\n",
       "    </tr>\n",
       "  </tbody>\n",
       "</table>\n",
       "</div>"
      ],
      "text/plain": [
       "   購入番号       購入日  会員番号  商品番号  購入個数  商品満足度  Ｗｅｂの使いやすさ  サポート評価  配送評価\n",
       "0  3227  2012/4/3   492     1     8      5          4       3     5\n",
       "1  3228  2012/4/3   122     9    13      5          3       4     3\n",
       "2  3229  2012/4/3    36     1    10      3          5       3     3\n",
       "3  3230  2012/4/3   182     1    10      4          4       4     4\n",
       "4  3231  2012/4/3   413     7    11      4          4       1     5"
      ]
     },
     "execution_count": 3,
     "metadata": {},
     "output_type": "execute_result"
    }
   ],
   "source": [
    "df1.head() #データの確認"
   ]
  },
  {
   "cell_type": "code",
   "execution_count": 4,
   "metadata": {},
   "outputs": [
    {
     "data": {
      "text/html": [
       "<div>\n",
       "<style>\n",
       "    .dataframe thead tr:only-child th {\n",
       "        text-align: right;\n",
       "    }\n",
       "\n",
       "    .dataframe thead th {\n",
       "        text-align: left;\n",
       "    }\n",
       "\n",
       "    .dataframe tbody tr th {\n",
       "        vertical-align: top;\n",
       "    }\n",
       "</style>\n",
       "<table border=\"1\" class=\"dataframe\">\n",
       "  <thead>\n",
       "    <tr style=\"text-align: right;\">\n",
       "      <th></th>\n",
       "      <th>会員番号</th>\n",
       "      <th>年齢</th>\n",
       "      <th>性別</th>\n",
       "    </tr>\n",
       "  </thead>\n",
       "  <tbody>\n",
       "    <tr>\n",
       "      <th>0</th>\n",
       "      <td>1</td>\n",
       "      <td>70</td>\n",
       "      <td>男性</td>\n",
       "    </tr>\n",
       "    <tr>\n",
       "      <th>1</th>\n",
       "      <td>2</td>\n",
       "      <td>33</td>\n",
       "      <td>男性</td>\n",
       "    </tr>\n",
       "    <tr>\n",
       "      <th>2</th>\n",
       "      <td>3</td>\n",
       "      <td>34</td>\n",
       "      <td>女性</td>\n",
       "    </tr>\n",
       "    <tr>\n",
       "      <th>3</th>\n",
       "      <td>4</td>\n",
       "      <td>62</td>\n",
       "      <td>女性</td>\n",
       "    </tr>\n",
       "    <tr>\n",
       "      <th>4</th>\n",
       "      <td>5</td>\n",
       "      <td>57</td>\n",
       "      <td>女性</td>\n",
       "    </tr>\n",
       "  </tbody>\n",
       "</table>\n",
       "</div>"
      ],
      "text/plain": [
       "   会員番号  年齢  性別\n",
       "0     1  70  男性\n",
       "1     2  33  男性\n",
       "2     3  34  女性\n",
       "3     4  62  女性\n",
       "4     5  57  女性"
      ]
     },
     "execution_count": 4,
     "metadata": {},
     "output_type": "execute_result"
    }
   ],
   "source": [
    "df2.head() #データの確認"
   ]
  },
  {
   "cell_type": "markdown",
   "metadata": {},
   "source": [
    "### 5. 会員ごとにグループ化し、以下を確認します。"
   ]
  },
  {
   "cell_type": "markdown",
   "metadata": {},
   "source": [
    "会員ごとの購入個数、評価（商品満足度、Ｗｅｂの使いやすさ、サポート評価、配送評価）の平均を、表で確認します。"
   ]
  },
  {
   "cell_type": "code",
   "execution_count": 5,
   "metadata": {
    "scrolled": true
   },
   "outputs": [
    {
     "data": {
      "text/html": [
       "<div>\n",
       "<style>\n",
       "    .dataframe thead tr:only-child th {\n",
       "        text-align: right;\n",
       "    }\n",
       "\n",
       "    .dataframe thead th {\n",
       "        text-align: left;\n",
       "    }\n",
       "\n",
       "    .dataframe tbody tr th {\n",
       "        vertical-align: top;\n",
       "    }\n",
       "</style>\n",
       "<table border=\"1\" class=\"dataframe\">\n",
       "  <thead>\n",
       "    <tr style=\"text-align: right;\">\n",
       "      <th></th>\n",
       "      <th>会員番号</th>\n",
       "      <th>購入個数</th>\n",
       "      <th>商品満足度</th>\n",
       "      <th>Ｗｅｂの使いやすさ</th>\n",
       "      <th>サポート評価</th>\n",
       "      <th>配送評価</th>\n",
       "    </tr>\n",
       "  </thead>\n",
       "  <tbody>\n",
       "    <tr>\n",
       "      <th>0</th>\n",
       "      <td>1</td>\n",
       "      <td>8.000000</td>\n",
       "      <td>4.700000</td>\n",
       "      <td>4.100000</td>\n",
       "      <td>3.900000</td>\n",
       "      <td>4.000000</td>\n",
       "    </tr>\n",
       "    <tr>\n",
       "      <th>1</th>\n",
       "      <td>2</td>\n",
       "      <td>9.000000</td>\n",
       "      <td>1.333333</td>\n",
       "      <td>3.666667</td>\n",
       "      <td>4.666667</td>\n",
       "      <td>4.000000</td>\n",
       "    </tr>\n",
       "    <tr>\n",
       "      <th>2</th>\n",
       "      <td>3</td>\n",
       "      <td>9.250000</td>\n",
       "      <td>1.750000</td>\n",
       "      <td>4.750000</td>\n",
       "      <td>1.000000</td>\n",
       "      <td>4.000000</td>\n",
       "    </tr>\n",
       "    <tr>\n",
       "      <th>3</th>\n",
       "      <td>4</td>\n",
       "      <td>8.900000</td>\n",
       "      <td>4.100000</td>\n",
       "      <td>4.100000</td>\n",
       "      <td>3.900000</td>\n",
       "      <td>3.800000</td>\n",
       "    </tr>\n",
       "    <tr>\n",
       "      <th>4</th>\n",
       "      <td>5</td>\n",
       "      <td>8.545455</td>\n",
       "      <td>4.818182</td>\n",
       "      <td>3.818182</td>\n",
       "      <td>5.000000</td>\n",
       "      <td>4.272727</td>\n",
       "    </tr>\n",
       "  </tbody>\n",
       "</table>\n",
       "</div>"
      ],
      "text/plain": [
       "   会員番号      購入個数     商品満足度  Ｗｅｂの使いやすさ    サポート評価      配送評価\n",
       "0     1  8.000000  4.700000   4.100000  3.900000  4.000000\n",
       "1     2  9.000000  1.333333   3.666667  4.666667  4.000000\n",
       "2     3  9.250000  1.750000   4.750000  1.000000  4.000000\n",
       "3     4  8.900000  4.100000   4.100000  3.900000  3.800000\n",
       "4     5  8.545455  4.818182   3.818182  5.000000  4.272727"
      ]
     },
     "execution_count": 5,
     "metadata": {},
     "output_type": "execute_result"
    }
   ],
   "source": [
    "#会員番号別の、購入個数、商品満足度、Ｗｅｂの使いやすさ、サポート評価、配送評価の平均を集計後、データを確認\n",
    "df1.groupby('会員番号', as_index=False)['購入個数', '商品満足度', 'Ｗｅｂの使いやすさ', 'サポート評価', '配送評価'].mean().head()"
   ]
  },
  {
   "cell_type": "markdown",
   "metadata": {},
   "source": [
    "会員ごとの購入個数の合計、評価（商品満足度、Ｗｅｂの使いやすさ、サポート評価、配送評価）の平均を算出します。結果は、新たなデータフレームに代入します。"
   ]
  },
  {
   "cell_type": "code",
   "execution_count": 6,
   "metadata": {
    "collapsed": true
   },
   "outputs": [],
   "source": [
    "#会員番号別の、購入個数の合計及び、評価(商品満足度、Ｗｅｂの使いやすさ、サポート評価、配送評価)の平均を集計\n",
    "df_group = df1.groupby('会員番号', as_index=False).agg({'購入個数':[np.sum], '商品満足度':[np.mean], 'Ｗｅｂの使いやすさ':[np.mean], 'サポート評価':[np.mean], '配送評価':[np.mean]})"
   ]
  },
  {
   "cell_type": "markdown",
   "metadata": {},
   "source": [
    "グループ化の結果を確認します。"
   ]
  },
  {
   "cell_type": "code",
   "execution_count": 7,
   "metadata": {
    "scrolled": true
   },
   "outputs": [
    {
     "data": {
      "text/html": [
       "<div>\n",
       "<style>\n",
       "    .dataframe thead tr:only-child th {\n",
       "        text-align: right;\n",
       "    }\n",
       "\n",
       "    .dataframe thead th {\n",
       "        text-align: left;\n",
       "    }\n",
       "\n",
       "    .dataframe tbody tr th {\n",
       "        vertical-align: top;\n",
       "    }\n",
       "</style>\n",
       "<table border=\"1\" class=\"dataframe\">\n",
       "  <thead>\n",
       "    <tr>\n",
       "      <th></th>\n",
       "      <th>会員番号</th>\n",
       "      <th>購入個数</th>\n",
       "      <th>商品満足度</th>\n",
       "      <th>Ｗｅｂの使いやすさ</th>\n",
       "      <th>サポート評価</th>\n",
       "      <th>配送評価</th>\n",
       "    </tr>\n",
       "    <tr>\n",
       "      <th></th>\n",
       "      <th></th>\n",
       "      <th>sum</th>\n",
       "      <th>mean</th>\n",
       "      <th>mean</th>\n",
       "      <th>mean</th>\n",
       "      <th>mean</th>\n",
       "    </tr>\n",
       "  </thead>\n",
       "  <tbody>\n",
       "    <tr>\n",
       "      <th>0</th>\n",
       "      <td>1</td>\n",
       "      <td>80</td>\n",
       "      <td>4.700000</td>\n",
       "      <td>4.100000</td>\n",
       "      <td>3.900000</td>\n",
       "      <td>4.000000</td>\n",
       "    </tr>\n",
       "    <tr>\n",
       "      <th>1</th>\n",
       "      <td>2</td>\n",
       "      <td>27</td>\n",
       "      <td>1.333333</td>\n",
       "      <td>3.666667</td>\n",
       "      <td>4.666667</td>\n",
       "      <td>4.000000</td>\n",
       "    </tr>\n",
       "    <tr>\n",
       "      <th>2</th>\n",
       "      <td>3</td>\n",
       "      <td>37</td>\n",
       "      <td>1.750000</td>\n",
       "      <td>4.750000</td>\n",
       "      <td>1.000000</td>\n",
       "      <td>4.000000</td>\n",
       "    </tr>\n",
       "    <tr>\n",
       "      <th>3</th>\n",
       "      <td>4</td>\n",
       "      <td>89</td>\n",
       "      <td>4.100000</td>\n",
       "      <td>4.100000</td>\n",
       "      <td>3.900000</td>\n",
       "      <td>3.800000</td>\n",
       "    </tr>\n",
       "    <tr>\n",
       "      <th>4</th>\n",
       "      <td>5</td>\n",
       "      <td>94</td>\n",
       "      <td>4.818182</td>\n",
       "      <td>3.818182</td>\n",
       "      <td>5.000000</td>\n",
       "      <td>4.272727</td>\n",
       "    </tr>\n",
       "  </tbody>\n",
       "</table>\n",
       "</div>"
      ],
      "text/plain": [
       "  会員番号 購入個数     商品満足度 Ｗｅｂの使いやすさ    サポート評価      配送評価\n",
       "        sum      mean      mean      mean      mean\n",
       "0    1   80  4.700000  4.100000  3.900000  4.000000\n",
       "1    2   27  1.333333  3.666667  4.666667  4.000000\n",
       "2    3   37  1.750000  4.750000  1.000000  4.000000\n",
       "3    4   89  4.100000  4.100000  3.900000  3.800000\n",
       "4    5   94  4.818182  3.818182  5.000000  4.272727"
      ]
     },
     "execution_count": 7,
     "metadata": {},
     "output_type": "execute_result"
    }
   ],
   "source": [
    "df_group.head() #データの確認"
   ]
  },
  {
   "cell_type": "markdown",
   "metadata": {},
   "source": [
    "列名を以下に変更します。　※会員番号は変更なし\n",
    "- 「会員番号」　→　「会員番号」\n",
    "- 「購入個数」　→　「累計購入個数」\n",
    "- 「商品満足度」　→　「平均商品満足度」\n",
    "- 「Ｗｅｂの使いやすさ」　→　「平均Ｗｅｂの使いやすさ」\n",
    "- 「サポート評価」　→　「平均サポート評価」\n",
    "- 「配送評価」　→　「平均配送評価」"
   ]
  },
  {
   "cell_type": "code",
   "execution_count": 8,
   "metadata": {
    "collapsed": true
   },
   "outputs": [],
   "source": [
    "#全ての列名を変更\n",
    "df_group.columns = ['会員番号', '累計購入個数', '平均商品満足度','平均Ｗｅｂの使いやすさ', '平均サポート評価', '平均配送評価']"
   ]
  },
  {
   "cell_type": "markdown",
   "metadata": {},
   "source": [
    "列名が変更されていることを確認します。"
   ]
  },
  {
   "cell_type": "code",
   "execution_count": 9,
   "metadata": {},
   "outputs": [
    {
     "data": {
      "text/html": [
       "<div>\n",
       "<style>\n",
       "    .dataframe thead tr:only-child th {\n",
       "        text-align: right;\n",
       "    }\n",
       "\n",
       "    .dataframe thead th {\n",
       "        text-align: left;\n",
       "    }\n",
       "\n",
       "    .dataframe tbody tr th {\n",
       "        vertical-align: top;\n",
       "    }\n",
       "</style>\n",
       "<table border=\"1\" class=\"dataframe\">\n",
       "  <thead>\n",
       "    <tr style=\"text-align: right;\">\n",
       "      <th></th>\n",
       "      <th>会員番号</th>\n",
       "      <th>累計購入個数</th>\n",
       "      <th>平均商品満足度</th>\n",
       "      <th>平均Ｗｅｂの使いやすさ</th>\n",
       "      <th>平均サポート評価</th>\n",
       "      <th>平均配送評価</th>\n",
       "    </tr>\n",
       "  </thead>\n",
       "  <tbody>\n",
       "    <tr>\n",
       "      <th>0</th>\n",
       "      <td>1</td>\n",
       "      <td>80</td>\n",
       "      <td>4.700000</td>\n",
       "      <td>4.100000</td>\n",
       "      <td>3.900000</td>\n",
       "      <td>4.000000</td>\n",
       "    </tr>\n",
       "    <tr>\n",
       "      <th>1</th>\n",
       "      <td>2</td>\n",
       "      <td>27</td>\n",
       "      <td>1.333333</td>\n",
       "      <td>3.666667</td>\n",
       "      <td>4.666667</td>\n",
       "      <td>4.000000</td>\n",
       "    </tr>\n",
       "    <tr>\n",
       "      <th>2</th>\n",
       "      <td>3</td>\n",
       "      <td>37</td>\n",
       "      <td>1.750000</td>\n",
       "      <td>4.750000</td>\n",
       "      <td>1.000000</td>\n",
       "      <td>4.000000</td>\n",
       "    </tr>\n",
       "    <tr>\n",
       "      <th>3</th>\n",
       "      <td>4</td>\n",
       "      <td>89</td>\n",
       "      <td>4.100000</td>\n",
       "      <td>4.100000</td>\n",
       "      <td>3.900000</td>\n",
       "      <td>3.800000</td>\n",
       "    </tr>\n",
       "    <tr>\n",
       "      <th>4</th>\n",
       "      <td>5</td>\n",
       "      <td>94</td>\n",
       "      <td>4.818182</td>\n",
       "      <td>3.818182</td>\n",
       "      <td>5.000000</td>\n",
       "      <td>4.272727</td>\n",
       "    </tr>\n",
       "  </tbody>\n",
       "</table>\n",
       "</div>"
      ],
      "text/plain": [
       "   会員番号  累計購入個数   平均商品満足度  平均Ｗｅｂの使いやすさ  平均サポート評価    平均配送評価\n",
       "0     1      80  4.700000     4.100000  3.900000  4.000000\n",
       "1     2      27  1.333333     3.666667  4.666667  4.000000\n",
       "2     3      37  1.750000     4.750000  1.000000  4.000000\n",
       "3     4      89  4.100000     4.100000  3.900000  3.800000\n",
       "4     5      94  4.818182     3.818182  5.000000  4.272727"
      ]
     },
     "execution_count": 9,
     "metadata": {},
     "output_type": "execute_result"
    }
   ],
   "source": [
    "df_group.head()   #データの確認"
   ]
  },
  {
   "cell_type": "markdown",
   "metadata": {},
   "source": [
    "### 6. 会員番号を基に、以下のデータフレームを結合し、新たなデータフレームに代入します。\n",
    "- グループ化されたデータフレーム\n",
    "- 「02購入者情報.csv」を読み込んだデータフレーム"
   ]
  },
  {
   "cell_type": "code",
   "execution_count": 10,
   "metadata": {
    "collapsed": true
   },
   "outputs": [],
   "source": [
    "df_merge = pd.merge(df_group, df2, on='会員番号', how='left')  #df_groupとdf2を、会員番号をキーとして、左外部結合"
   ]
  },
  {
   "cell_type": "markdown",
   "metadata": {},
   "source": [
    "結合の結果を確認します。"
   ]
  },
  {
   "cell_type": "code",
   "execution_count": 11,
   "metadata": {},
   "outputs": [
    {
     "data": {
      "text/html": [
       "<div>\n",
       "<style>\n",
       "    .dataframe thead tr:only-child th {\n",
       "        text-align: right;\n",
       "    }\n",
       "\n",
       "    .dataframe thead th {\n",
       "        text-align: left;\n",
       "    }\n",
       "\n",
       "    .dataframe tbody tr th {\n",
       "        vertical-align: top;\n",
       "    }\n",
       "</style>\n",
       "<table border=\"1\" class=\"dataframe\">\n",
       "  <thead>\n",
       "    <tr style=\"text-align: right;\">\n",
       "      <th></th>\n",
       "      <th>会員番号</th>\n",
       "      <th>累計購入個数</th>\n",
       "      <th>平均商品満足度</th>\n",
       "      <th>平均Ｗｅｂの使いやすさ</th>\n",
       "      <th>平均サポート評価</th>\n",
       "      <th>平均配送評価</th>\n",
       "      <th>年齢</th>\n",
       "      <th>性別</th>\n",
       "    </tr>\n",
       "  </thead>\n",
       "  <tbody>\n",
       "    <tr>\n",
       "      <th>0</th>\n",
       "      <td>1</td>\n",
       "      <td>80</td>\n",
       "      <td>4.700000</td>\n",
       "      <td>4.100000</td>\n",
       "      <td>3.900000</td>\n",
       "      <td>4.000000</td>\n",
       "      <td>70</td>\n",
       "      <td>男性</td>\n",
       "    </tr>\n",
       "    <tr>\n",
       "      <th>1</th>\n",
       "      <td>2</td>\n",
       "      <td>27</td>\n",
       "      <td>1.333333</td>\n",
       "      <td>3.666667</td>\n",
       "      <td>4.666667</td>\n",
       "      <td>4.000000</td>\n",
       "      <td>33</td>\n",
       "      <td>男性</td>\n",
       "    </tr>\n",
       "    <tr>\n",
       "      <th>2</th>\n",
       "      <td>3</td>\n",
       "      <td>37</td>\n",
       "      <td>1.750000</td>\n",
       "      <td>4.750000</td>\n",
       "      <td>1.000000</td>\n",
       "      <td>4.000000</td>\n",
       "      <td>34</td>\n",
       "      <td>女性</td>\n",
       "    </tr>\n",
       "    <tr>\n",
       "      <th>3</th>\n",
       "      <td>4</td>\n",
       "      <td>89</td>\n",
       "      <td>4.100000</td>\n",
       "      <td>4.100000</td>\n",
       "      <td>3.900000</td>\n",
       "      <td>3.800000</td>\n",
       "      <td>62</td>\n",
       "      <td>女性</td>\n",
       "    </tr>\n",
       "    <tr>\n",
       "      <th>4</th>\n",
       "      <td>5</td>\n",
       "      <td>94</td>\n",
       "      <td>4.818182</td>\n",
       "      <td>3.818182</td>\n",
       "      <td>5.000000</td>\n",
       "      <td>4.272727</td>\n",
       "      <td>57</td>\n",
       "      <td>女性</td>\n",
       "    </tr>\n",
       "  </tbody>\n",
       "</table>\n",
       "</div>"
      ],
      "text/plain": [
       "   会員番号  累計購入個数   平均商品満足度  平均Ｗｅｂの使いやすさ  平均サポート評価    平均配送評価  年齢  性別\n",
       "0     1      80  4.700000     4.100000  3.900000  4.000000  70  男性\n",
       "1     2      27  1.333333     3.666667  4.666667  4.000000  33  男性\n",
       "2     3      37  1.750000     4.750000  1.000000  4.000000  34  女性\n",
       "3     4      89  4.100000     4.100000  3.900000  3.800000  62  女性\n",
       "4     5      94  4.818182     3.818182  5.000000  4.272727  57  女性"
      ]
     },
     "execution_count": 11,
     "metadata": {},
     "output_type": "execute_result"
    }
   ],
   "source": [
    "df_merge.head() #データの確認"
   ]
  },
  {
   "cell_type": "markdown",
   "metadata": {},
   "source": [
    "### 7. 年齢を10刻みの年齢層として離散化し、新たな列を作成します。"
   ]
  },
  {
   "cell_type": "code",
   "execution_count": 12,
   "metadata": {
    "collapsed": true
   },
   "outputs": [],
   "source": [
    "data_range = [10, 20, 30, 40, 50, 60, 70]                 #データ区間の配列を作成\n",
    "df_merge['年齢層'] = pd.cut(df_merge['年齢'], data_range)  #新たに、年齢を10刻みで分割した「年齢層列」を作成"
   ]
  },
  {
   "cell_type": "markdown",
   "metadata": {},
   "source": [
    "列作成の結果を確認します。"
   ]
  },
  {
   "cell_type": "code",
   "execution_count": 13,
   "metadata": {},
   "outputs": [
    {
     "data": {
      "text/html": [
       "<div>\n",
       "<style>\n",
       "    .dataframe thead tr:only-child th {\n",
       "        text-align: right;\n",
       "    }\n",
       "\n",
       "    .dataframe thead th {\n",
       "        text-align: left;\n",
       "    }\n",
       "\n",
       "    .dataframe tbody tr th {\n",
       "        vertical-align: top;\n",
       "    }\n",
       "</style>\n",
       "<table border=\"1\" class=\"dataframe\">\n",
       "  <thead>\n",
       "    <tr style=\"text-align: right;\">\n",
       "      <th></th>\n",
       "      <th>会員番号</th>\n",
       "      <th>累計購入個数</th>\n",
       "      <th>平均商品満足度</th>\n",
       "      <th>平均Ｗｅｂの使いやすさ</th>\n",
       "      <th>平均サポート評価</th>\n",
       "      <th>平均配送評価</th>\n",
       "      <th>年齢</th>\n",
       "      <th>性別</th>\n",
       "      <th>年齢層</th>\n",
       "    </tr>\n",
       "  </thead>\n",
       "  <tbody>\n",
       "    <tr>\n",
       "      <th>0</th>\n",
       "      <td>1</td>\n",
       "      <td>80</td>\n",
       "      <td>4.700000</td>\n",
       "      <td>4.100000</td>\n",
       "      <td>3.900000</td>\n",
       "      <td>4.000000</td>\n",
       "      <td>70</td>\n",
       "      <td>男性</td>\n",
       "      <td>(60, 70]</td>\n",
       "    </tr>\n",
       "    <tr>\n",
       "      <th>1</th>\n",
       "      <td>2</td>\n",
       "      <td>27</td>\n",
       "      <td>1.333333</td>\n",
       "      <td>3.666667</td>\n",
       "      <td>4.666667</td>\n",
       "      <td>4.000000</td>\n",
       "      <td>33</td>\n",
       "      <td>男性</td>\n",
       "      <td>(30, 40]</td>\n",
       "    </tr>\n",
       "    <tr>\n",
       "      <th>2</th>\n",
       "      <td>3</td>\n",
       "      <td>37</td>\n",
       "      <td>1.750000</td>\n",
       "      <td>4.750000</td>\n",
       "      <td>1.000000</td>\n",
       "      <td>4.000000</td>\n",
       "      <td>34</td>\n",
       "      <td>女性</td>\n",
       "      <td>(30, 40]</td>\n",
       "    </tr>\n",
       "    <tr>\n",
       "      <th>3</th>\n",
       "      <td>4</td>\n",
       "      <td>89</td>\n",
       "      <td>4.100000</td>\n",
       "      <td>4.100000</td>\n",
       "      <td>3.900000</td>\n",
       "      <td>3.800000</td>\n",
       "      <td>62</td>\n",
       "      <td>女性</td>\n",
       "      <td>(60, 70]</td>\n",
       "    </tr>\n",
       "    <tr>\n",
       "      <th>4</th>\n",
       "      <td>5</td>\n",
       "      <td>94</td>\n",
       "      <td>4.818182</td>\n",
       "      <td>3.818182</td>\n",
       "      <td>5.000000</td>\n",
       "      <td>4.272727</td>\n",
       "      <td>57</td>\n",
       "      <td>女性</td>\n",
       "      <td>(50, 60]</td>\n",
       "    </tr>\n",
       "  </tbody>\n",
       "</table>\n",
       "</div>"
      ],
      "text/plain": [
       "   会員番号  累計購入個数   平均商品満足度  平均Ｗｅｂの使いやすさ  平均サポート評価    平均配送評価  年齢  性別       年齢層\n",
       "0     1      80  4.700000     4.100000  3.900000  4.000000  70  男性  (60, 70]\n",
       "1     2      27  1.333333     3.666667  4.666667  4.000000  33  男性  (30, 40]\n",
       "2     3      37  1.750000     4.750000  1.000000  4.000000  34  女性  (30, 40]\n",
       "3     4      89  4.100000     4.100000  3.900000  3.800000  62  女性  (60, 70]\n",
       "4     5      94  4.818182     3.818182  5.000000  4.272727  57  女性  (50, 60]"
      ]
     },
     "execution_count": 13,
     "metadata": {},
     "output_type": "execute_result"
    }
   ],
   "source": [
    "df_merge.head() #データの確認"
   ]
  },
  {
   "cell_type": "markdown",
   "metadata": {},
   "source": [
    "### 8. 年齢層別、性別別の一人当たり累計商品購入個数（平均）を算出します。"
   ]
  },
  {
   "cell_type": "code",
   "execution_count": 14,
   "metadata": {},
   "outputs": [
    {
     "data": {
      "text/html": [
       "<div>\n",
       "<style>\n",
       "    .dataframe thead tr:only-child th {\n",
       "        text-align: right;\n",
       "    }\n",
       "\n",
       "    .dataframe thead th {\n",
       "        text-align: left;\n",
       "    }\n",
       "\n",
       "    .dataframe tbody tr th {\n",
       "        vertical-align: top;\n",
       "    }\n",
       "</style>\n",
       "<table border=\"1\" class=\"dataframe\">\n",
       "  <thead>\n",
       "    <tr style=\"text-align: right;\">\n",
       "      <th>年齢層</th>\n",
       "      <th>(10, 20]</th>\n",
       "      <th>(20, 30]</th>\n",
       "      <th>(30, 40]</th>\n",
       "      <th>(40, 50]</th>\n",
       "      <th>(50, 60]</th>\n",
       "      <th>(60, 70]</th>\n",
       "    </tr>\n",
       "    <tr>\n",
       "      <th>性別</th>\n",
       "      <th></th>\n",
       "      <th></th>\n",
       "      <th></th>\n",
       "      <th></th>\n",
       "      <th></th>\n",
       "      <th></th>\n",
       "    </tr>\n",
       "  </thead>\n",
       "  <tbody>\n",
       "    <tr>\n",
       "      <th>女性</th>\n",
       "      <td>31.8</td>\n",
       "      <td>27.225352</td>\n",
       "      <td>30.482353</td>\n",
       "      <td>55.363636</td>\n",
       "      <td>83.677419</td>\n",
       "      <td>84.5</td>\n",
       "    </tr>\n",
       "    <tr>\n",
       "      <th>男性</th>\n",
       "      <td>17.0</td>\n",
       "      <td>28.139785</td>\n",
       "      <td>30.000000</td>\n",
       "      <td>26.285714</td>\n",
       "      <td>76.875000</td>\n",
       "      <td>89.1</td>\n",
       "    </tr>\n",
       "  </tbody>\n",
       "</table>\n",
       "</div>"
      ],
      "text/plain": [
       "年齢層  (10, 20]   (20, 30]   (30, 40]   (40, 50]   (50, 60]  (60, 70]\n",
       "性別                                                                 \n",
       "女性       31.8  27.225352  30.482353  55.363636  83.677419      84.5\n",
       "男性       17.0  28.139785  30.000000  26.285714  76.875000      89.1"
      ]
     },
     "execution_count": 14,
     "metadata": {},
     "output_type": "execute_result"
    }
   ],
   "source": [
    "df_merge.pivot_table('累計購入個数', index='性別', columns='年齢層') #性別、年齢層別の平均累計購入個数を集計"
   ]
  }
 ],
 "metadata": {
  "anaconda-cloud": {},
  "kernelspec": {
   "display_name": "Python 3",
   "language": "python",
   "name": "python3"
  },
  "language_info": {
   "codemirror_mode": {
    "name": "ipython",
    "version": 3
   },
   "file_extension": ".py",
   "mimetype": "text/x-python",
   "name": "python",
   "nbconvert_exporter": "python",
   "pygments_lexer": "ipython3",
   "version": "3.6.1"
  }
 },
 "nbformat": 4,
 "nbformat_minor": 1
}
