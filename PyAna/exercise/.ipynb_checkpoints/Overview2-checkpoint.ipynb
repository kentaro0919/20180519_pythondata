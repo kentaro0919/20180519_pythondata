{
 "cells": [
  {
   "cell_type": "markdown",
   "metadata": {},
   "source": [
    "## 【参考】オプションで使用するデータの概要"
   ]
  },
  {
   "cell_type": "markdown",
   "metadata": {},
   "source": [
    "|ファイル名|使用箇所|テーマ|概要|出典|\n",
    "|:--|:--|:--|:--|:--|\n",
    "|01購入者アンケート.csv、02購入者情報.csv|Option（02_データ加工）|データ加工|Web販売・会員データ|当社で用意|"
   ]
  },
  {
   "cell_type": "markdown",
   "metadata": {},
   "source": [
    "### 「01購入者アンケート.csv」の概要\n",
    "- ECサイトにおける販売およびアンケートデータ\n",
    "\n",
    "|列名|備考|\n",
    "|:--|:--|\n",
    "|購入番号||\n",
    "|購入日||\n",
    "|会員番号||\n",
    "|商品番号||\n",
    "|購入個数||\n",
    "|商品満足度|アンケート評価。1～5段階|\n",
    "|Ｗｅｂの使いやすさ|アンケート評価。1～5段階|\n",
    "|サポート評価|アンケート評価。1～5段階|\n",
    "|配送評価|アンケート評価。1～5段階|"
   ]
  },
  {
   "cell_type": "markdown",
   "metadata": {},
   "source": [
    "### 「02購入者情報.csv」の概要\n",
    "- ECサイトにおける会員データ\n",
    "\n",
    "|列名|備考|\n",
    "|:--|:--|\n",
    "|会員番号|data1_sjis.csvの「会員番号」に該当|\n",
    "|年齢||\n",
    "|性別|種類は「女性」「男性」|"
   ]
  }
 ],
 "metadata": {
  "anaconda-cloud": {},
  "kernelspec": {
   "display_name": "Python 3",
   "language": "python",
   "name": "python3"
  },
  "language_info": {
   "codemirror_mode": {
    "name": "ipython",
    "version": 3
   },
   "file_extension": ".py",
   "mimetype": "text/x-python",
   "name": "python",
   "nbconvert_exporter": "python",
   "pygments_lexer": "ipython3",
   "version": "3.6.1"
  }
 },
 "nbformat": 4,
 "nbformat_minor": 1
}
