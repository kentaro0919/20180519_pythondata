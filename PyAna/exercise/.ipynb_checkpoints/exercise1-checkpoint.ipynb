{
 "cells": [
  {
   "cell_type": "markdown",
   "metadata": {},
   "source": [
    "# 実習1　Jupyter Notebookの基本操作"
   ]
  },
  {
   "cell_type": "markdown",
   "metadata": {},
   "source": [
    "## 実習概要\n",
    "Pythonによるデータ分析を効率的に行うために、Jupyter Notebookの操作を習得します。"
   ]
  },
  {
   "cell_type": "markdown",
   "metadata": {},
   "source": [
    "## 実習の流れ"
   ]
  },
  {
   "cell_type": "markdown",
   "metadata": {},
   "source": [
    "### 1. コマンドプロンプトを起動し、以下のコマンドを実行し、カレントディレクトリを「C:\\PyAna」に移動します。\n",
    "> cd C:\\PyAna"
   ]
  },
  {
   "cell_type": "markdown",
   "metadata": {},
   "source": [
    "### 2. Jupyter Notebookを起動します。"
   ]
  },
  {
   "cell_type": "markdown",
   "metadata": {},
   "source": [
    "### 3. Jupyter Notebookで、「exercise」フォルダに移動します。"
   ]
  },
  {
   "cell_type": "markdown",
   "metadata": {},
   "source": [
    "### 4. ノートブックを新規作成します。"
   ]
  },
  {
   "cell_type": "markdown",
   "metadata": {},
   "source": [
    "### 5. ノートブック名を、「exercise1」に変更します。"
   ]
  },
  {
   "cell_type": "markdown",
   "metadata": {},
   "source": [
    "### 6. ノートブックで、以下の操作を行います。\n",
    "- セルの切り替え（コード⇔マークダウン）\n",
    "- 操作モードの切り替え（コマンドモード⇔入力モード）\n",
    "- セルの追加と削除\n",
    "- マークダウンセルへのコメントの記述\n",
    "- コードセルへのコードの記述\n",
    "- コードセルの実行\n",
    "- セルのコピーと貼り付け\n",
    "- ノートブックの保存\n",
    "- ノートブックの終了"
   ]
  },
  {
   "cell_type": "markdown",
   "metadata": {},
   "source": [
    "### 7. Jupyter Notebookを終了します。"
   ]
  }
 ],
 "metadata": {
  "anaconda-cloud": {},
  "kernelspec": {
   "display_name": "Python 3",
   "language": "python",
   "name": "python3"
  },
  "language_info": {
   "codemirror_mode": {
    "name": "ipython",
    "version": 3
   },
   "file_extension": ".py",
   "mimetype": "text/x-python",
   "name": "python",
   "nbconvert_exporter": "python",
   "pygments_lexer": "ipython3",
   "version": "3.5.2"
  }
 },
 "nbformat": 4,
 "nbformat_minor": 1
}
